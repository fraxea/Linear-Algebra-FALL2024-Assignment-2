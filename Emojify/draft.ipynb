{
 "cells": [
  {
   "cell_type": "markdown",
   "metadata": {},
   "source": [
    "- The fact that we can represent words as vectors is really important.\n",
    "    - Coursera example, man woman, food, ...\n",
    "    - man - woman = king - queen\n",
    "    - tall -> taller -> tallest, big -> bigger -> biggest\n",
    "- Vocab to embedding (1. one hot is huge, 2. no meaning)\n",
    "- How to learn these embedings?\n",
    "  - count words, frequent words...\n",
    "  - svd technique\n",
    "  - deep methods (predict mask, negative, window, ...)\n",
    "- Emojify\n",
    "  - Get familiar with dataset\n",
    "  - RNN architecture for this problem\n",
    "  - Train, Results!"
   ]
  },
  {
   "cell_type": "markdown",
   "metadata": {},
   "source": []
  }
 ],
 "metadata": {
  "language_info": {
   "name": "python"
  }
 },
 "nbformat": 4,
 "nbformat_minor": 2
}
