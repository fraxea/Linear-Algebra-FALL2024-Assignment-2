{
  "cells": [
    {
      "cell_type": "markdown",
      "metadata": {
        "id": "Ja_pPtXZ9DEl"
      },
      "source": [
        "# Word Embeddings\n",
        "\n",
        "<p style=\"color: yellow\">\n",
        "It is highly recommended to use google colab for this notebook or else you need to download a dataset of size 386Mb and place it beside your local notebook. Also the last section benefits from GPU.</p>\n",
        "\n",
        "Welcome to the second notebook of this assignment! Word embeddings are numerical representations of words. We can represent words as vectors and maintain their meaning. There are various ways of finding vecotrs for words, equivalently, word embeddings. We explore some of these techniques in this notebook."
      ]
    },
    {
      "cell_type": "code",
      "execution_count": null,
      "metadata": {},
      "outputs": [],
      "source": [
        "name = None\n",
        "student_id = None"
      ]
    },
    {
      "cell_type": "markdown",
      "metadata": {},
      "source": [
        "## Tabel of Contents\n",
        "\n",
        "- 1- GloVe: Global Vectors for Word Representation\n",
        "  - 1.1- Exploring word vectors (5 p)\n",
        "  - 1.2- Visualizing in 2-D (10 p)\n",
        "- 2- Evaluation\n",
        "  - 2.1- Cosine similarity (5 p)\n",
        "  - 2.2- A little test set (10 p)\n",
        "- 3- Learn embeddings\n",
        "  - 3.1- Dataset Preprocessing (10 p)\n",
        "  - 3.1- Tokenization and Phrase Detection (5 p)\n",
        "  - 3.3- Co-occurrence Matrix (15 p)\n",
        "  - 3.4- SVD (5 p)\n",
        "  - 3.5- Similarity (20 p)\n",
        "- 4- Sentiment Analysis of MDB Movie Reviews\n",
        "  - 4.1- Dataset (5 p)\n",
        "  - 4.2- Model (10 p)\n",
        "  - 4.3- Train (10 p)"
      ]
    },
    {
      "cell_type": "markdown",
      "metadata": {
        "id": "gagf7MNw9DEm"
      },
      "source": [
        "## 1- GloVe: Global Vectors for Word Representation\n",
        "\n",
        "GloVe (Global Vectors for Word Representation) is a pre-trained word embedding model developed by Stanford University. It is trained on large text corpora such as Wikipedia and Gigaword. The embeddings capture the semantic meaning of words, so words with similar meanings are represented by similar vectors in the embedding space.\n",
        "\n",
        "The specific file `glove.6B.300d.txt` contains word vectors of size 300 (300-dimensional embeddings) trained on a dataset of 6 billion tokens from Wikipedia and Gigaword.\n",
        "\n",
        "The vocabulary refers to the set of all words (or tokens) in the dataset for which embeddings are provided. Each word is represented as a dense vector of real numbers."
      ]
    },
    {
      "cell_type": "markdown",
      "metadata": {
        "id": "dxO7z9d2GgWA"
      },
      "source": [
        "### 1.1- Exploring word vectors\n",
        "\n",
        "According to the semantic meanings, what would be the values of $x, y, z, u, v$ and why?\n",
        "\n",
        "|         | man   | woman | king  | queen | apple | orange |\n",
        "| ---     | ---   | ---   |   --- | ---   | ---   |  ---   |\n",
        "| gender  | -0.99 | 1     | -0.95 | 0.97  | u     | 0.01   |\n",
        "| royalty | 0.01  | 0.02  | 0.93  | 0.95  | -0.01 | 0.00   |\n",
        "| fruit   | 0.03  | x     | y     | z     | 0.94  | v      |\n",
        "\n",
        "Note that we want the embeddings to capture semantic meanings such that $$man - woman \\approx king - queen$$."
      ]
    },
    {
      "cell_type": "markdown",
      "metadata": {
        "id": "F5aZHCjrGgWA"
      },
      "source": [
        "> YOUR ANSWER (0 or 1)\n",
        "\n",
        "- x ≈\n",
        "- y ≈\n",
        "- z ≈\n",
        "- v ≈\n",
        "- u ≈"
      ]
    },
    {
      "cell_type": "code",
      "execution_count": 2,
      "metadata": {
        "colab": {
          "base_uri": "https://localhost:8080/"
        },
        "id": "_mIG1WLo9DEm",
        "outputId": "eb96522d-327d-432b-e3b0-e440e71e0b1a"
      },
      "outputs": [
        {
          "name": "stdout",
          "output_type": "stream",
          "text": [
            "Requirement already satisfied: gensim in /usr/local/lib/python3.10/dist-packages (4.3.3)\n",
            "Requirement already satisfied: numpy<2.0,>=1.18.5 in /usr/local/lib/python3.10/dist-packages (from gensim) (1.26.4)\n",
            "Requirement already satisfied: scipy<1.14.0,>=1.7.0 in /usr/local/lib/python3.10/dist-packages (from gensim) (1.13.1)\n",
            "Requirement already satisfied: smart-open>=1.8.1 in /usr/local/lib/python3.10/dist-packages (from gensim) (7.1.0)\n",
            "Requirement already satisfied: wrapt in /usr/local/lib/python3.10/dist-packages (from smart-open>=1.8.1->gensim) (1.17.0)\n"
          ]
        }
      ],
      "source": [
        "# run this code to install gensim on your environment\n",
        "!pip install gensim"
      ]
    },
    {
      "cell_type": "markdown",
      "metadata": {
        "id": "cWhuf9s8GgWC"
      },
      "source": [
        "You can use the cell bellow to mount your drive with google colab. then after adding the dataset to your drive, you can access the dataset through colab. pay attention to unzip the dataset first.\n",
        "\n",
        "link to dataset: https://drive.google.com/file/d/1amUx0ErSa3hsqiCdOQyDkO8uQBWz0uqD/view?usp=sharing"
      ]
    },
    {
      "cell_type": "code",
      "execution_count": 5,
      "metadata": {
        "colab": {
          "base_uri": "https://localhost:8080/"
        },
        "id": "yv2DC3cQGgWC",
        "outputId": "796d5219-30dc-47f3-b353-b08dd083b115"
      },
      "outputs": [
        {
          "name": "stdout",
          "output_type": "stream",
          "text": [
            "Mounted at /content/drive/\n"
          ]
        }
      ],
      "source": [
        "from google.colab import drive\n",
        "drive.mount('/content/drive/')"
      ]
    },
    {
      "cell_type": "code",
      "execution_count": 1,
      "metadata": {
        "id": "AtPvk7id9DEn"
      },
      "outputs": [],
      "source": [
        "from gensim.models import KeyedVectors\n",
        "\n",
        "import matplotlib.pyplot as plt\n",
        "from sklearn.decomposition import PCA\n",
        "from sklearn.manifold import TSNE\n",
        "import numpy as np"
      ]
    },
    {
      "cell_type": "code",
      "execution_count": 11,
      "metadata": {
        "colab": {
          "base_uri": "https://localhost:8080/"
        },
        "id": "pVnldJyZGgWD",
        "outputId": "6815c11b-b464-46b8-f3bc-1d406334add8"
      },
      "outputs": [
        {
          "name": "stdout",
          "output_type": "stream",
          "text": [
            "Archive:  drive/MyDrive/Colab Notebooks/glove.6B.300d.txt.zip\n",
            "  inflating: glove.6B.300d.txt       \n"
          ]
        }
      ],
      "source": [
        "# unzip the dataset. you may need to modify the relative address based on the location of dataset in your drive.\n",
        "!unzip drive/MyDrive/Colab\\ Notebooks/glove.6B.300d.txt.zip"
      ]
    },
    {
      "cell_type": "code",
      "execution_count": 12,
      "metadata": {
        "colab": {
          "base_uri": "https://localhost:8080/"
        },
        "id": "hE30gJJAGgWD",
        "outputId": "0042ec92-474d-4c9d-9b6b-bd707aaf0e4d"
      },
      "outputs": [
        {
          "name": "stdout",
          "output_type": "stream",
          "text": [
            "Loading GloVe model from local file...\n",
            "Model loaded!\n"
          ]
        }
      ],
      "source": [
        "model_path = \"glove.6B.300d.txt\"\n",
        "print(\"Loading GloVe model from local file...\")\n",
        "model = KeyedVectors.load_word2vec_format(model_path, binary=False, no_header=True)\n",
        "print(\"Model loaded!\")"
      ]
    },
    {
      "cell_type": "markdown",
      "metadata": {
        "id": "yyVAHsOBGgWE"
      },
      "source": [
        "- **Vocabulary Size:** The size of the vocabulary is the number of unique words in the dataset.\n",
        "- **Embedding Dimension:** This represents the length of the vector used to encode each word. For `glove.6B.300d.txt`, the dimension is 300.\n",
        "\n",
        "Here are the key attributes of the loaded model.\n",
        "\n",
        "- `index_to_key`\n",
        "  - **Description:** A list of all the words (tokens) in the vocabulary in the order they were loaded.\n",
        "  - **Example Usage:** To access the 10th word in the vocabulary:\n",
        "      ```python\n",
        "    model.index_to_key[9]\n",
        "\n",
        "- `key_to_index`\n",
        "  - **Description**: A dictionary mapping each word (token) to its corresponding index in the vocabulary.\n",
        "  - **Example Usage**: To get the index of the word \"king\":\n",
        "      ```python\n",
        "      model.key_to_index[\"king\"]\n",
        "- `vectors`\n",
        "  - **Description**: A NumPy array of shape (vocab_size, embedding_dim) where each row corresponds to the embedding of a word in the vocabulary.\n",
        "  - **Example Usage**: To access the vector for the word \"queen\":\n",
        "      ```python\n",
        "      model[\"queen\"]\n",
        "\n",
        "- `get_vector(word)`\n",
        "  - **Description**: A method to retrieve the embedding vector for a specific word.\n",
        "  - **Example Usage:**\n",
        "      ```python\n",
        "      embedding_vector = model.get_vector(\"apple\")"
      ]
    },
    {
      "cell_type": "code",
      "execution_count": null,
      "metadata": {
        "colab": {
          "base_uri": "https://localhost:8080/"
        },
        "id": "9xIcwpgF9DEn",
        "outputId": "312ff24e-7eec-4dce-d296-53e33d0cdfd1"
      },
      "outputs": [],
      "source": [
        "def print_model_attributes(model):\n",
        "    # TODO: extract and pring the vocabulary size.\n",
        "\n",
        "    # TODO: extract and pring the embedding dimension.\n",
        "\n",
        "    return vocab_size, embedding_dim\n",
        "\n",
        "vocab_size, embedding_dim = print_model_attributes(model)\n",
        "print(f\"Vocab size: {vocab_size}\")\n",
        "print(f\"Embedding dimension: {embedding_dim}\")"
      ]
    },
    {
      "cell_type": "markdown",
      "metadata": {
        "id": "ZurYsWbCGgWE"
      },
      "source": [
        "### 1.2- Visualizing in 2-D\n",
        "\n",
        "Use PCA and t-SNE for dimensionality reduction in [sklearn](https://scikit-learn.org/1.5/modules/generated/sklearn.manifold.TSNE.html) for visualizing the embeddings for relationships like:\n",
        "\n",
        "- tall $\\rightarrow$ taller $\\rightarrow$ tallest\n",
        "- big $\\rightarrow$ bigger $\\rightarrow$ biggest"
      ]
    },
    {
      "cell_type": "code",
      "execution_count": 14,
      "metadata": {
        "id": "vj_f5LXd9DEn"
      },
      "outputs": [],
      "source": [
        "def plot_embeddings_2d(model, words, method=\"PCA\", perplexity=None, line_plot=None):\n",
        "    # TODO: reduce the dimensionality of the embeddings to 2D using PCA or t-SNE. (≈6 lines)\n",
        "    reduced_embeddings = None\n",
        "\n",
        "    # plot\n",
        "    plt.figure(figsize=(5, 5))\n",
        "    for i, word in enumerate(words):\n",
        "        x, y = reduced_embeddings[i]\n",
        "        plt.scatter(x, y)\n",
        "        plt.text(x + 0.01, y + 0.01, word, fontsize=12)\n",
        "\n",
        "    if line_plot:\n",
        "        for (i, j) in line_plot:\n",
        "            x1, y1 = reduced_embeddings[i]\n",
        "            x2, y2 = reduced_embeddings[j]\n",
        "            plt.plot([x1, x2], [y1, y2], color='red', linestyle='--')\n",
        "\n",
        "    plt.title(f\"Word Embeddings Visualization ({method})\")\n",
        "    plt.show()"
      ]
    },
    {
      "cell_type": "code",
      "execution_count": 15,
      "metadata": {
        "id": "NgW8ttdj9DEn"
      },
      "outputs": [],
      "source": [
        "words = [\"tall\", \"taller\", \"tallest\", \"big\", \"bigger\", \"biggest\", \"wide\", \"wider\", \"widest\"]\n",
        "line_plot = [(0, 1), (1, 2), (3, 4), (4, 5), (6, 7), (7, 8)]\n",
        "words1 = [\"smart\", \"smarter\", \"smartest\", \"wide\", \"wider\", \"widest\", \"small\", \"smaller\", \"smallest\"]\n",
        "line_plot1 = [(0, 1), (1, 2), (3, 4), (4, 5), (6, 7), (7, 8)]\n",
        "words2 = [\"man\", \"woman\", \"king\", \"queen\", \"boy\", \"girl\", \"husband\", \"wife\"]\n",
        "line_plot2 = [(0, 1), (2, 3), (4, 5), (6, 7)]"
      ]
    },
    {
      "cell_type": "code",
      "execution_count": null,
      "metadata": {
        "colab": {
          "base_uri": "https://localhost:8080/",
          "height": 919
        },
        "id": "ggtJN8m_9DEn",
        "outputId": "acd0960d-52fa-4a1a-e030-3fe7eff6765a"
      },
      "outputs": [],
      "source": [
        "plot_embeddings_2d(model, words, method=\"PCA\", line_plot = line_plot)\n",
        "plot_embeddings_2d(model, words, method=\"tSNE\", perplexity = 3, line_plot = line_plot)"
      ]
    },
    {
      "cell_type": "code",
      "execution_count": null,
      "metadata": {
        "colab": {
          "base_uri": "https://localhost:8080/",
          "height": 919
        },
        "id": "h4_WaduU9DEo",
        "outputId": "9e9bb37f-ecb4-4bcb-9939-f2ba652cf568"
      },
      "outputs": [],
      "source": [
        "plot_embeddings_2d(model, words1, method=\"PCA\", line_plot = line_plot1)\n",
        "plot_embeddings_2d(model, words1, method=\"tSNE\", perplexity = 3, line_plot = line_plot1)"
      ]
    },
    {
      "cell_type": "code",
      "execution_count": null,
      "metadata": {
        "colab": {
          "base_uri": "https://localhost:8080/",
          "height": 919
        },
        "id": "t31QFVRo9DEo",
        "outputId": "e5d1dd7e-9907-4187-a9ca-5ba507758ab1"
      },
      "outputs": [],
      "source": [
        "plot_embeddings_2d(model, words2, method=\"PCA\", line_plot = line_plot2)\n",
        "plot_embeddings_2d(model, words2, method=\"tSNE\", perplexity = 3, line_plot = line_plot2)"
      ]
    },
    {
      "cell_type": "markdown",
      "metadata": {
        "id": "DYrdKAVO9DEo"
      },
      "source": [
        "## 2- Evaluation\n",
        "\n",
        "### 2.1- Cosine similarity\n",
        "\n",
        "To evaluate the quality of word vectors, we should look at the similarity of word vectors that are semantically similar, for example word *France* is similar to *Italy*, so their word vectors should be similar. One common metric to measure the distance between word vectors is the **cosine similarity**. The cosine similarity between two words $w_x$ and $w_y$ is defined as\n",
        "$$\n",
        "cos(w_x, w_y) = \\frac{w_x^Tw_y}{||w_x|| ||w_y||}\n",
        "$$\n",
        ", where $||.||$ is the $l_2$ norm."
      ]
    },
    {
      "cell_type": "code",
      "execution_count": null,
      "metadata": {
        "colab": {
          "base_uri": "https://localhost:8080/"
        },
        "id": "FPpD1Iz5GgWH",
        "outputId": "aa811063-8425-4bbd-ff50-6c68f474f972"
      },
      "outputs": [],
      "source": [
        "def cosine_similarity(u, v):\n",
        "    # TODO: compute the cosine similarity between vectors u and v. (≈1 line)\n",
        "    pass\n",
        "\n",
        "def find_most_similar(word, model, top_n=5):\n",
        "    # TODO: find the top_n most similar words to the given word. (≈4 lines)\n",
        "    pass\n",
        "\n",
        "# TODO: find the cosine similarity between the vectors of \"france\" and \"tehran\". (≈1 line)\n",
        "\n",
        "# TODO: same as above for \"france\" and \"paris\". (≈1 line)\n",
        "\n",
        "# TODO: find the top 5 most similar words to \"france\". (≈1 line)\n"
      ]
    },
    {
      "cell_type": "markdown",
      "metadata": {
        "id": "6uQ7iZ2h9DEo"
      },
      "source": [
        "### 2.2- A little test set\n",
        "\n",
        "One evaluation approach that was introduced in [Efficient Estimation of Word Representations in Vector Space](https://arxiv.org/pdf/1301.3781) is to consider two pairs of words that have the same type of relationship, for example, *big - bigger* and *small - smaller*. Each two pairs can be viewed as a question: ”What is the word that is similar to small in the same sense as bigger is similar to big?”.\n",
        "\n",
        "Interestingly, these questions can be answered by doing basic algebraic operations on the word vectors. First we compute $$x = w_{bigger}-w_{big}+w_{small}$$, and then search through all possible word vectors to find the closest one to $x$. In this notebook we use cosine similarity to measure closeness. So the problem can be written as $$ w^{*} = \\arg\\max_{w} cos(w, w_{bigger}-w_{big}+w_{small}) $$."
      ]
    },
    {
      "cell_type": "code",
      "execution_count": null,
      "metadata": {
        "colab": {
          "base_uri": "https://localhost:8080/"
        },
        "id": "evKidokI9DEo",
        "outputId": "e53d74f3-b61e-46e2-ca19-551351bf32fe"
      },
      "outputs": [],
      "source": [
        "test_set = [\n",
        "    [\"paris\", \"france\", \"toronto\", \"canada\"],\n",
        "    [\"australia\", \"dollar\", \"japan\", \"yen\"],\n",
        "    [\"chicago\", \"illinois\", \"stockton\", \"california\"],\n",
        "    [\"brother\", \"sister\", \"father\", \"mother\"],\n",
        "    [\"apparent\", \"apparently\", \"rapid\", \"rapidly\"],\n",
        "    [\"possibly\", \"impossibly\", \"ethical\", \"ethically\"],\n",
        "    [\"great\", \"greater\", \"tough\", \"tougher\"],\n",
        "    [\"easy\", \"easiest\", \"lucky\", \"luckiest\"],\n",
        "    [\"think\", \"thinking\", \"read\", \"reading\"],\n",
        "    [\"switzerland\", \"swiss\", \"turkey\", \"turkish\"],\n",
        "    [\"walking\", \"walked\", \"swimming\", \"swam\"],\n",
        "    [\"mouse\", \"mice\", \"dollar\", \"dollars\"],\n",
        "    [\"work\", \"works\", \"speak\", \"speaks\"],\n",
        "]\n",
        "\n",
        "def analogy(model, words):\n",
        "    a, b, c, d = words\n",
        "    # TODO: find the word that completes the analogy. (≈10 lines)\n",
        "\n",
        "    return best_word, best_score\n",
        "\n",
        "def evaluate_analogy(model, test_set):\n",
        "    # TODO: evaluate the model on the analogy task. (≈4 lines)\n",
        "    correct = 0\n",
        "\n",
        "    return correct / len(test_set)\n",
        "\n",
        "accuracy = evaluate_analogy(model, test_set)\n",
        "print(f\"Accuracy: {accuracy}\")"
      ]
    },
    {
      "cell_type": "markdown",
      "metadata": {
        "id": "Li4LRlIE-9qn"
      },
      "source": [
        "## 3- Learn embeddings\n",
        "\n",
        "This part goes through the process of cleaning a dataset, visualizing tokens, creating word embeddings using a co-occurrence matrix, and applying Singular Value Decomposition (SVD) to reduce dimensionality."
      ]
    },
    {
      "cell_type": "code",
      "execution_count": null,
      "metadata": {
        "colab": {
          "base_uri": "https://localhost:8080/",
          "height": 17
        },
        "id": "0DOS0-Vo_TcZ",
        "outputId": "7c8b60cd-dca0-4510-d54e-54b9adce89f1"
      },
      "outputs": [
        {
          "data": {
            "text/html": [
              "        <script type=\"text/javascript\">\n",
              "        window.PlotlyConfig = {MathJaxConfig: 'local'};\n",
              "        if (window.MathJax && window.MathJax.Hub && window.MathJax.Hub.Config) {window.MathJax.Hub.Config({SVG: {font: \"STIX-Web\"}});}\n",
              "        if (typeof require !== 'undefined') {\n",
              "        require.undef(\"plotly\");\n",
              "        requirejs.config({\n",
              "            paths: {\n",
              "                'plotly': ['https://cdn.plot.ly/plotly-2.35.2.min']\n",
              "            }\n",
              "        });\n",
              "        require(['plotly'], function(Plotly) {\n",
              "            window._Plotly = Plotly;\n",
              "        });\n",
              "        }\n",
              "        </script>\n",
              "        "
            ]
          },
          "metadata": {},
          "output_type": "display_data"
        }
      ],
      "source": [
        "import nltk\n",
        "from nltk.corpus import stopwords\n",
        "from nltk.stem import WordNetLemmatizer\n",
        "\n",
        "import pandas as pd\n",
        "import numpy as np\n",
        "import re\n",
        "from collections import defaultdict\n",
        "from sklearn.metrics.pairwise import cosine_similarity\n",
        "from scipy.sparse.linalg import svds\n",
        "\n",
        "from gensim.models.phrases import Phrases, Phraser\n",
        "from wordcloud import WordCloud\n",
        "import matplotlib.pyplot as plt\n",
        "from plotly.offline import init_notebook_mode\n",
        "\n",
        "init_notebook_mode(connected=True)"
      ]
    },
    {
      "cell_type": "markdown",
      "metadata": {
        "id": "HOPvmPH3FKO9"
      },
      "source": [
        "### 3.1- Dataset Preprocessing\n",
        "\n",
        "In this section, we will:\n",
        "\n",
        "1. Load the Simpsons dataset.\n",
        "2. Clean the text data by removing stop words, lemmatizing words, and filtering tokens.\n",
        "3. Visualize the top tokens using a WordCloud."
      ]
    },
    {
      "cell_type": "code",
      "execution_count": null,
      "metadata": {
        "colab": {
          "base_uri": "https://localhost:8080/",
          "height": 436
        },
        "id": "RUpbBIZQ9TQU",
        "outputId": "5f8f517f-1509-44cd-d255-5e8d8dbc75d3"
      },
      "outputs": [
        {
          "name": "stdout",
          "output_type": "stream",
          "text": [
            "Initial Dataset Shape: (158314, 2)\n"
          ]
        },
        {
          "data": {
            "application/vnd.google.colaboratory.intrinsic+json": {
              "type": "dataframe",
              "variable_name": "df"
            },
            "text/html": [
              "\n",
              "  <div id=\"df-18db0066-6c9a-4566-a5de-9e1c4e44d6ab\" class=\"colab-df-container\">\n",
              "    <div>\n",
              "<style scoped>\n",
              "    .dataframe tbody tr th:only-of-type {\n",
              "        vertical-align: middle;\n",
              "    }\n",
              "\n",
              "    .dataframe tbody tr th {\n",
              "        vertical-align: top;\n",
              "    }\n",
              "\n",
              "    .dataframe thead th {\n",
              "        text-align: right;\n",
              "    }\n",
              "</style>\n",
              "<table border=\"1\" class=\"dataframe\">\n",
              "  <thead>\n",
              "    <tr style=\"text-align: right;\">\n",
              "      <th></th>\n",
              "      <th>raw_character_text</th>\n",
              "      <th>spoken_words</th>\n",
              "    </tr>\n",
              "  </thead>\n",
              "  <tbody>\n",
              "    <tr>\n",
              "      <th>0</th>\n",
              "      <td>Miss Hoover</td>\n",
              "      <td>No, actually, it was a little of both. Sometim...</td>\n",
              "    </tr>\n",
              "    <tr>\n",
              "      <th>1</th>\n",
              "      <td>Lisa Simpson</td>\n",
              "      <td>Where's Mr. Bergstrom?</td>\n",
              "    </tr>\n",
              "    <tr>\n",
              "      <th>2</th>\n",
              "      <td>Miss Hoover</td>\n",
              "      <td>I don't know. Although I'd sure like to talk t...</td>\n",
              "    </tr>\n",
              "    <tr>\n",
              "      <th>3</th>\n",
              "      <td>Lisa Simpson</td>\n",
              "      <td>That life is worth living.</td>\n",
              "    </tr>\n",
              "    <tr>\n",
              "      <th>4</th>\n",
              "      <td>Edna Krabappel-Flanders</td>\n",
              "      <td>The polls will be open from now until the end ...</td>\n",
              "    </tr>\n",
              "    <tr>\n",
              "      <th>...</th>\n",
              "      <td>...</td>\n",
              "      <td>...</td>\n",
              "    </tr>\n",
              "    <tr>\n",
              "      <th>158309</th>\n",
              "      <td>Miss Hoover</td>\n",
              "      <td>I'm back.</td>\n",
              "    </tr>\n",
              "    <tr>\n",
              "      <th>158310</th>\n",
              "      <td>Miss Hoover</td>\n",
              "      <td>You see, class, my Lyme disease turned out to ...</td>\n",
              "    </tr>\n",
              "    <tr>\n",
              "      <th>158311</th>\n",
              "      <td>Miss Hoover</td>\n",
              "      <td>Psy-cho-so-ma-tic.</td>\n",
              "    </tr>\n",
              "    <tr>\n",
              "      <th>158312</th>\n",
              "      <td>Ralph Wiggum</td>\n",
              "      <td>Does that mean you were crazy?</td>\n",
              "    </tr>\n",
              "    <tr>\n",
              "      <th>158313</th>\n",
              "      <td>JANEY</td>\n",
              "      <td>No, that means she was faking it.</td>\n",
              "    </tr>\n",
              "  </tbody>\n",
              "</table>\n",
              "<p>158314 rows × 2 columns</p>\n",
              "</div>\n",
              "    <div class=\"colab-df-buttons\">\n",
              "\n",
              "  <div class=\"colab-df-container\">\n",
              "    <button class=\"colab-df-convert\" onclick=\"convertToInteractive('df-18db0066-6c9a-4566-a5de-9e1c4e44d6ab')\"\n",
              "            title=\"Convert this dataframe to an interactive table.\"\n",
              "            style=\"display:none;\">\n",
              "\n",
              "  <svg xmlns=\"http://www.w3.org/2000/svg\" height=\"24px\" viewBox=\"0 -960 960 960\">\n",
              "    <path d=\"M120-120v-720h720v720H120Zm60-500h600v-160H180v160Zm220 220h160v-160H400v160Zm0 220h160v-160H400v160ZM180-400h160v-160H180v160Zm440 0h160v-160H620v160ZM180-180h160v-160H180v160Zm440 0h160v-160H620v160Z\"/>\n",
              "  </svg>\n",
              "    </button>\n",
              "\n",
              "  <style>\n",
              "    .colab-df-container {\n",
              "      display:flex;\n",
              "      gap: 12px;\n",
              "    }\n",
              "\n",
              "    .colab-df-convert {\n",
              "      background-color: #E8F0FE;\n",
              "      border: none;\n",
              "      border-radius: 50%;\n",
              "      cursor: pointer;\n",
              "      display: none;\n",
              "      fill: #1967D2;\n",
              "      height: 32px;\n",
              "      padding: 0 0 0 0;\n",
              "      width: 32px;\n",
              "    }\n",
              "\n",
              "    .colab-df-convert:hover {\n",
              "      background-color: #E2EBFA;\n",
              "      box-shadow: 0px 1px 2px rgba(60, 64, 67, 0.3), 0px 1px 3px 1px rgba(60, 64, 67, 0.15);\n",
              "      fill: #174EA6;\n",
              "    }\n",
              "\n",
              "    .colab-df-buttons div {\n",
              "      margin-bottom: 4px;\n",
              "    }\n",
              "\n",
              "    [theme=dark] .colab-df-convert {\n",
              "      background-color: #3B4455;\n",
              "      fill: #D2E3FC;\n",
              "    }\n",
              "\n",
              "    [theme=dark] .colab-df-convert:hover {\n",
              "      background-color: #434B5C;\n",
              "      box-shadow: 0px 1px 3px 1px rgba(0, 0, 0, 0.15);\n",
              "      filter: drop-shadow(0px 1px 2px rgba(0, 0, 0, 0.3));\n",
              "      fill: #FFFFFF;\n",
              "    }\n",
              "  </style>\n",
              "\n",
              "    <script>\n",
              "      const buttonEl =\n",
              "        document.querySelector('#df-18db0066-6c9a-4566-a5de-9e1c4e44d6ab button.colab-df-convert');\n",
              "      buttonEl.style.display =\n",
              "        google.colab.kernel.accessAllowed ? 'block' : 'none';\n",
              "\n",
              "      async function convertToInteractive(key) {\n",
              "        const element = document.querySelector('#df-18db0066-6c9a-4566-a5de-9e1c4e44d6ab');\n",
              "        const dataTable =\n",
              "          await google.colab.kernel.invokeFunction('convertToInteractive',\n",
              "                                                    [key], {});\n",
              "        if (!dataTable) return;\n",
              "\n",
              "        const docLinkHtml = 'Like what you see? Visit the ' +\n",
              "          '<a target=\"_blank\" href=https://colab.research.google.com/notebooks/data_table.ipynb>data table notebook</a>'\n",
              "          + ' to learn more about interactive tables.';\n",
              "        element.innerHTML = '';\n",
              "        dataTable['output_type'] = 'display_data';\n",
              "        await google.colab.output.renderOutput(dataTable, element);\n",
              "        const docLink = document.createElement('div');\n",
              "        docLink.innerHTML = docLinkHtml;\n",
              "        element.appendChild(docLink);\n",
              "      }\n",
              "    </script>\n",
              "  </div>\n",
              "\n",
              "\n",
              "<div id=\"df-3d25ef6c-3651-4ec2-94fc-467410585efa\">\n",
              "  <button class=\"colab-df-quickchart\" onclick=\"quickchart('df-3d25ef6c-3651-4ec2-94fc-467410585efa')\"\n",
              "            title=\"Suggest charts\"\n",
              "            style=\"display:none;\">\n",
              "\n",
              "<svg xmlns=\"http://www.w3.org/2000/svg\" height=\"24px\"viewBox=\"0 0 24 24\"\n",
              "     width=\"24px\">\n",
              "    <g>\n",
              "        <path d=\"M19 3H5c-1.1 0-2 .9-2 2v14c0 1.1.9 2 2 2h14c1.1 0 2-.9 2-2V5c0-1.1-.9-2-2-2zM9 17H7v-7h2v7zm4 0h-2V7h2v10zm4 0h-2v-4h2v4z\"/>\n",
              "    </g>\n",
              "</svg>\n",
              "  </button>\n",
              "\n",
              "<style>\n",
              "  .colab-df-quickchart {\n",
              "      --bg-color: #E8F0FE;\n",
              "      --fill-color: #1967D2;\n",
              "      --hover-bg-color: #E2EBFA;\n",
              "      --hover-fill-color: #174EA6;\n",
              "      --disabled-fill-color: #AAA;\n",
              "      --disabled-bg-color: #DDD;\n",
              "  }\n",
              "\n",
              "  [theme=dark] .colab-df-quickchart {\n",
              "      --bg-color: #3B4455;\n",
              "      --fill-color: #D2E3FC;\n",
              "      --hover-bg-color: #434B5C;\n",
              "      --hover-fill-color: #FFFFFF;\n",
              "      --disabled-bg-color: #3B4455;\n",
              "      --disabled-fill-color: #666;\n",
              "  }\n",
              "\n",
              "  .colab-df-quickchart {\n",
              "    background-color: var(--bg-color);\n",
              "    border: none;\n",
              "    border-radius: 50%;\n",
              "    cursor: pointer;\n",
              "    display: none;\n",
              "    fill: var(--fill-color);\n",
              "    height: 32px;\n",
              "    padding: 0;\n",
              "    width: 32px;\n",
              "  }\n",
              "\n",
              "  .colab-df-quickchart:hover {\n",
              "    background-color: var(--hover-bg-color);\n",
              "    box-shadow: 0 1px 2px rgba(60, 64, 67, 0.3), 0 1px 3px 1px rgba(60, 64, 67, 0.15);\n",
              "    fill: var(--button-hover-fill-color);\n",
              "  }\n",
              "\n",
              "  .colab-df-quickchart-complete:disabled,\n",
              "  .colab-df-quickchart-complete:disabled:hover {\n",
              "    background-color: var(--disabled-bg-color);\n",
              "    fill: var(--disabled-fill-color);\n",
              "    box-shadow: none;\n",
              "  }\n",
              "\n",
              "  .colab-df-spinner {\n",
              "    border: 2px solid var(--fill-color);\n",
              "    border-color: transparent;\n",
              "    border-bottom-color: var(--fill-color);\n",
              "    animation:\n",
              "      spin 1s steps(1) infinite;\n",
              "  }\n",
              "\n",
              "  @keyframes spin {\n",
              "    0% {\n",
              "      border-color: transparent;\n",
              "      border-bottom-color: var(--fill-color);\n",
              "      border-left-color: var(--fill-color);\n",
              "    }\n",
              "    20% {\n",
              "      border-color: transparent;\n",
              "      border-left-color: var(--fill-color);\n",
              "      border-top-color: var(--fill-color);\n",
              "    }\n",
              "    30% {\n",
              "      border-color: transparent;\n",
              "      border-left-color: var(--fill-color);\n",
              "      border-top-color: var(--fill-color);\n",
              "      border-right-color: var(--fill-color);\n",
              "    }\n",
              "    40% {\n",
              "      border-color: transparent;\n",
              "      border-right-color: var(--fill-color);\n",
              "      border-top-color: var(--fill-color);\n",
              "    }\n",
              "    60% {\n",
              "      border-color: transparent;\n",
              "      border-right-color: var(--fill-color);\n",
              "    }\n",
              "    80% {\n",
              "      border-color: transparent;\n",
              "      border-right-color: var(--fill-color);\n",
              "      border-bottom-color: var(--fill-color);\n",
              "    }\n",
              "    90% {\n",
              "      border-color: transparent;\n",
              "      border-bottom-color: var(--fill-color);\n",
              "    }\n",
              "  }\n",
              "</style>\n",
              "\n",
              "  <script>\n",
              "    async function quickchart(key) {\n",
              "      const quickchartButtonEl =\n",
              "        document.querySelector('#' + key + ' button');\n",
              "      quickchartButtonEl.disabled = true;  // To prevent multiple clicks.\n",
              "      quickchartButtonEl.classList.add('colab-df-spinner');\n",
              "      try {\n",
              "        const charts = await google.colab.kernel.invokeFunction(\n",
              "            'suggestCharts', [key], {});\n",
              "      } catch (error) {\n",
              "        console.error('Error during call to suggestCharts:', error);\n",
              "      }\n",
              "      quickchartButtonEl.classList.remove('colab-df-spinner');\n",
              "      quickchartButtonEl.classList.add('colab-df-quickchart-complete');\n",
              "    }\n",
              "    (() => {\n",
              "      let quickchartButtonEl =\n",
              "        document.querySelector('#df-3d25ef6c-3651-4ec2-94fc-467410585efa button');\n",
              "      quickchartButtonEl.style.display =\n",
              "        google.colab.kernel.accessAllowed ? 'block' : 'none';\n",
              "    })();\n",
              "  </script>\n",
              "</div>\n",
              "\n",
              "  <div id=\"id_c3998577-e7a3-4756-b180-6a6546d37413\">\n",
              "    <style>\n",
              "      .colab-df-generate {\n",
              "        background-color: #E8F0FE;\n",
              "        border: none;\n",
              "        border-radius: 50%;\n",
              "        cursor: pointer;\n",
              "        display: none;\n",
              "        fill: #1967D2;\n",
              "        height: 32px;\n",
              "        padding: 0 0 0 0;\n",
              "        width: 32px;\n",
              "      }\n",
              "\n",
              "      .colab-df-generate:hover {\n",
              "        background-color: #E2EBFA;\n",
              "        box-shadow: 0px 1px 2px rgba(60, 64, 67, 0.3), 0px 1px 3px 1px rgba(60, 64, 67, 0.15);\n",
              "        fill: #174EA6;\n",
              "      }\n",
              "\n",
              "      [theme=dark] .colab-df-generate {\n",
              "        background-color: #3B4455;\n",
              "        fill: #D2E3FC;\n",
              "      }\n",
              "\n",
              "      [theme=dark] .colab-df-generate:hover {\n",
              "        background-color: #434B5C;\n",
              "        box-shadow: 0px 1px 3px 1px rgba(0, 0, 0, 0.15);\n",
              "        filter: drop-shadow(0px 1px 2px rgba(0, 0, 0, 0.3));\n",
              "        fill: #FFFFFF;\n",
              "      }\n",
              "    </style>\n",
              "    <button class=\"colab-df-generate\" onclick=\"generateWithVariable('df')\"\n",
              "            title=\"Generate code using this dataframe.\"\n",
              "            style=\"display:none;\">\n",
              "\n",
              "  <svg xmlns=\"http://www.w3.org/2000/svg\" height=\"24px\"viewBox=\"0 0 24 24\"\n",
              "       width=\"24px\">\n",
              "    <path d=\"M7,19H8.4L18.45,9,17,7.55,7,17.6ZM5,21V16.75L18.45,3.32a2,2,0,0,1,2.83,0l1.4,1.43a1.91,1.91,0,0,1,.58,1.4,1.91,1.91,0,0,1-.58,1.4L9.25,21ZM18.45,9,17,7.55Zm-12,3A5.31,5.31,0,0,0,4.9,8.1,5.31,5.31,0,0,0,1,6.5,5.31,5.31,0,0,0,4.9,4.9,5.31,5.31,0,0,0,6.5,1,5.31,5.31,0,0,0,8.1,4.9,5.31,5.31,0,0,0,12,6.5,5.46,5.46,0,0,0,6.5,12Z\"/>\n",
              "  </svg>\n",
              "    </button>\n",
              "    <script>\n",
              "      (() => {\n",
              "      const buttonEl =\n",
              "        document.querySelector('#id_c3998577-e7a3-4756-b180-6a6546d37413 button.colab-df-generate');\n",
              "      buttonEl.style.display =\n",
              "        google.colab.kernel.accessAllowed ? 'block' : 'none';\n",
              "\n",
              "      buttonEl.onclick = () => {\n",
              "        google.colab.notebook.generateWithVariable('df');\n",
              "      }\n",
              "      })();\n",
              "    </script>\n",
              "  </div>\n",
              "\n",
              "    </div>\n",
              "  </div>\n"
            ],
            "text/plain": [
              "             raw_character_text  \\\n",
              "0                   Miss Hoover   \n",
              "1                  Lisa Simpson   \n",
              "2                   Miss Hoover   \n",
              "3                  Lisa Simpson   \n",
              "4       Edna Krabappel-Flanders   \n",
              "...                         ...   \n",
              "158309              Miss Hoover   \n",
              "158310              Miss Hoover   \n",
              "158311              Miss Hoover   \n",
              "158312             Ralph Wiggum   \n",
              "158313                    JANEY   \n",
              "\n",
              "                                             spoken_words  \n",
              "0       No, actually, it was a little of both. Sometim...  \n",
              "1                                  Where's Mr. Bergstrom?  \n",
              "2       I don't know. Although I'd sure like to talk t...  \n",
              "3                              That life is worth living.  \n",
              "4       The polls will be open from now until the end ...  \n",
              "...                                                   ...  \n",
              "158309                                          I'm back.  \n",
              "158310  You see, class, my Lyme disease turned out to ...  \n",
              "158311                                 Psy-cho-so-ma-tic.  \n",
              "158312                     Does that mean you were crazy?  \n",
              "158313                  No, that means she was faking it.  \n",
              "\n",
              "[158314 rows x 2 columns]"
            ]
          },
          "execution_count": 8,
          "metadata": {},
          "output_type": "execute_result"
        }
      ],
      "source": [
        "root_path = '.' # Change this to the root path of your dataset\n",
        "df = pd.read_csv(f'{root_path}/simpsons_dataset.csv')\n",
        "print(f\"Initial Dataset Shape: {df.shape}\")\n",
        "df"
      ]
    },
    {
      "cell_type": "code",
      "execution_count": null,
      "metadata": {
        "colab": {
          "base_uri": "https://localhost:8080/",
          "height": 145
        },
        "id": "FNnTyzC89TSp",
        "outputId": "e66a6cfb-77b9-432e-bbc3-065157a429c8"
      },
      "outputs": [
        {
          "data": {
            "text/html": [
              "<div>\n",
              "<style scoped>\n",
              "    .dataframe tbody tr th:only-of-type {\n",
              "        vertical-align: middle;\n",
              "    }\n",
              "\n",
              "    .dataframe tbody tr th {\n",
              "        vertical-align: top;\n",
              "    }\n",
              "\n",
              "    .dataframe thead th {\n",
              "        text-align: right;\n",
              "    }\n",
              "</style>\n",
              "<table border=\"1\" class=\"dataframe\">\n",
              "  <thead>\n",
              "    <tr style=\"text-align: right;\">\n",
              "      <th></th>\n",
              "      <th>0</th>\n",
              "    </tr>\n",
              "  </thead>\n",
              "  <tbody>\n",
              "    <tr>\n",
              "      <th>raw_character_text</th>\n",
              "      <td>17814</td>\n",
              "    </tr>\n",
              "    <tr>\n",
              "      <th>spoken_words</th>\n",
              "      <td>26459</td>\n",
              "    </tr>\n",
              "  </tbody>\n",
              "</table>\n",
              "</div><br><label><b>dtype:</b> int64</label>"
            ],
            "text/plain": [
              "raw_character_text    17814\n",
              "spoken_words          26459\n",
              "dtype: int64"
            ]
          },
          "execution_count": 9,
          "metadata": {},
          "output_type": "execute_result"
        }
      ],
      "source": [
        "df.isnull().sum()"
      ]
    },
    {
      "cell_type": "code",
      "execution_count": null,
      "metadata": {
        "colab": {
          "base_uri": "https://localhost:8080/"
        },
        "id": "D-AHunqQ9TVV",
        "outputId": "9aeb6b2b-ef5a-4388-8ad4-0d42f313ec73"
      },
      "outputs": [
        {
          "name": "stdout",
          "output_type": "stream",
          "text": [
            "Dataset Shape after Dropping NaNs: (131853, 2)\n"
          ]
        }
      ],
      "source": [
        "# TODO: drop the rows with missing values. (≈1 line)\n",
        "\n",
        "print(f\"Dataset Shape after Dropping NaNs: {df.shape}\")"
      ]
    },
    {
      "cell_type": "markdown",
      "metadata": {
        "id": "CjNkuGEUfTXN"
      },
      "source": [
        "**Removing Stop Words in NLP Using NLTK:** Stop words are common words like \"and,\" \"the,\" or \"is\" that add little value to text analysis. In NLP, we use tools like NLTK to remove these words and focus on meaningful terms for better accuracy in tasks like sentiment analysis and classification.\n",
        "\n",
        "For example consider this text:\n",
        "\n",
        "*The quick brown fox jumps over the lazy dog.*\n",
        "\n",
        "After removing stop words `[\"the\", \"over\"]`, we get:\n",
        "\n",
        "*quick brown fox jumps lazy dog.*\n",
        "\n",
        "By eliminating stop words, the processed text becomes more concise and meaningful for analysis.\n",
        "\n",
        "In the cell below, download the NLTK stopwords and WordNet modules. You can also add custom stopwords."
      ]
    },
    {
      "cell_type": "code",
      "execution_count": null,
      "metadata": {
        "colab": {
          "base_uri": "https://localhost:8080/"
        },
        "id": "GIkX_dfN9TYI",
        "outputId": "02470848-1cdb-416e-dc77-e66438b420b0"
      },
      "outputs": [
        {
          "name": "stderr",
          "output_type": "stream",
          "text": [
            "[nltk_data] Downloading package stopwords to /root/nltk_data...\n",
            "[nltk_data]   Unzipping corpora/stopwords.zip.\n",
            "[nltk_data] Downloading package wordnet to /root/nltk_data...\n"
          ]
        },
        {
          "data": {
            "text/plain": [
              "True"
            ]
          },
          "execution_count": 11,
          "metadata": {},
          "output_type": "execute_result"
        }
      ],
      "source": [
        "nltk.download('stopwords')\n",
        "nltk.download('wordnet')"
      ]
    },
    {
      "cell_type": "code",
      "execution_count": null,
      "metadata": {
        "colab": {
          "base_uri": "https://localhost:8080/"
        },
        "id": "do4JobT3_0VO",
        "outputId": "d66c959e-78ab-44d6-d1db-bc510716f086"
      },
      "outputs": [
        {
          "name": "stdout",
          "output_type": "stream",
          "text": [
            "{'and', 'therefore', 'might', 'were', 'why', 'whose', 'doing', 'or', 'above', 'i', 'him', 'some', \"should've\", 'still', \"that'll\", 'all', 'yet', 'simply', 'again', 'despite', 'through', 'whom', \"you'd\", \"won't\", 'be', 'down', \"i'll\", 'least', 'll', 'whether', 'so', 'before', 'no', \"who's\", 'she', 'it', 'most', 'uh', 'two', 'virtually', 'essentially', 'since', 'ours', 'really', 'theirs', 'in addition', 'not', 'whatsoever', 'few', 'which', \"shan't\", 'had', 'myself', 'with', 'who', 'into', 'shan', 'couldn', 'literally', 'herself', 'only', 'from', 'y', 'mightn', 'oh', 'been', 'five', 'along', 'nine', 'have', 'shall', 'subsequently', 'could', 'ourselves', 'mustn', 'you', 'one', 'to', 'too', 'me', 'when', 'wouldn', 'of', 'ain', 'eight', 'consequently', 'you know', 'does', 'under', 'same', 'will', 'this', 'won', 'after', 'meanwhile', \"shouldn't\", 'themselves', 'such', \"weren't\", 'each', 'more', 'haven', 'was', 'likewise', 'yours', \"aren't\", 'what', 'they', 'against', 'my', 'ma', 'especially', 'do', \"she's\", 'needn', 'their', 'well', 'however', 'at', 'truly', 'although', 'itself', \"what'l\", 'out', 'once', 'up', 'many', 'nor', 'quite', 'actually', 'our', 'whomever', 'his', 'below', 'aw', 'its', \"couldn't\", \"didn't\", 'during', 'would', 'notably', 's', 'her', 'the', 'can', \"she'd\", 'seven', \"i'm\", 'yourself', 'these', \"wouldn't\", 'being', 'another', 'how', 'm', 'whichever', 're', 've', 'in fact', \"hadn't\", 'as', \"he'd\", 'until', 'that', 'because', 'moreover', 'may', 'here', 'instead', 'both', 'we', 'very', 'on the other hand', \"you're\", 'off', 'among', 'in', \"mightn't\", 'three', 'must', 'just', 'weren', \"this'll\", \"you've\", 'am', 'hadn', 'shouldn', 'neither', 'regarding', 'less', 'aren', 'six', 'on', 'having', 'than', 'furthermore', 'them', 'don', 'd', 'where', 'additionally', 'he', 'over', \"doesn't\", 'now', 'while', 'there', \"isn't\", 'hasn', \"don't\", 'a', 'um', 'about', 'much', 'further', 'an', 'other', 'if', \"it's\", 'also', 'hers', 'whereas', 'your', 'whoever', 'by', 'unless', 'yourselves', 'then', \"mustn't\", 'is', 'own', 'should', 'specially', 'but', 'those', \"hasn't\", \"you'll\", 'for', 'didn', 'himself', 'isn', 'doesn', \"wasn't\", 'ever', 'ten', 'particularly', \"needn't\", \"that's\", 'like', 'did', 'o', 'four', 'between', 'either', 'are', \"haven't\", 'any', 't', 'never', 'every', 'wasn', 'oooh', 'has'}\n"
          ]
        }
      ],
      "source": [
        "stop_words = set(stopwords.words('english'))\n",
        "\n",
        "# Add custom stop words\n",
        "stop_words.update([\n",
        "    \"i'm\", \"i'll\", \"this'll\", \"what'l\", \"that's\", \"he\", \"he'd\", \"she\", \"she'd\",\n",
        "    \"it\", \"they\", \"him\", \"her\", \"his\", \"their\", \"but\", \"for\", \"nor\", \"so\",\n",
        "    \"with\", \"by\", \"be\", \"have\", \"do\", \"can\", \"will\", \"may\", \"very\", \"really\",\n",
        "    \"just\", \"then\", \"now\", \"there\", \"where\", \"how\", \"like\", \"uh\", \"um\",\n",
        "    \"you know\", \"oh\", \"well\",\n",
        "    \"that\", \"these\", \"those\", \"each\", \"every\", \"some\", \"any\", \"all\",\n",
        "    \"one\", \"two\", \"three\", \"four\", \"five\", \"six\", \"seven\", \"eight\",\n",
        "    \"nine\", \"ten\", \"much\", \"many\", \"more\", \"most\", \"less\", \"least\",\n",
        "    \"same\", \"other\", \"another\", \"which\", \"whoever\", \"whomever\",\n",
        "    \"whichever\", \"whatsoever\", \"could\", \"would\", \"should\", \"might\",\n",
        "    \"must\", \"shall\", \"can\", \"may\", \"if\", \"as\", \"than\", \"while\",\n",
        "    \"because\", \"although\", \"since\", \"unless\", \"whereas\", \"before\",\n",
        "    \"after\", \"during\", \"while\", \"about\", \"along\", \"among\", \"but\",\n",
        "    \"yet\", \"for\", \"nor\", \"so\", \"either\", \"neither\", \"whether\",\n",
        "    \"instead\", \"regarding\", \"despite\", \"although\", \"not\", \"never\",\n",
        "    \"ever\", \"just\", \"really\", \"very\", \"quite\", \"too\", \"still\",\n",
        "    \"yet\", \"also\", \"especially\", \"particularly\", \"simply\",\n",
        "    \"actually\", \"literally\", \"essentially\", \"virtually\", \"truly\",\n",
        "    \"specially\", \"in fact\", \"on the other hand\", \"in addition\",\n",
        "    \"meanwhile\", \"however\", \"therefore\", \"furthermore\", \"likewise\",\n",
        "    \"consequently\", \"subsequently\", \"additionally\", \"moreover\",\n",
        "    \"notably\", \"here\", \"there\", \"when\", \"where\", \"what\", \"why\",\"aw\",\"oooh\",\n",
        "    \"who\", \"whom\", \"whose\", \"which\", \"how\", \"a\", \"an\", \"the\",\"who's\",\n",
        "])\n",
        "\n",
        "print(stop_words)"
      ]
    },
    {
      "cell_type": "markdown",
      "metadata": {
        "id": "xhnKnto9f4Eb"
      },
      "source": [
        "The `WordNetLemmatizer` is a tool provided by NLTK that reduces words to their base or root form, known as the **lemma**, while ensuring the word remains meaningful in context. **Lemmatization** uses linguistic rules and a vocabulary (WordNet) to produce valid dictionary words.\n",
        "For example:\n",
        "- `\"running\"` becomes `\"run\"`  \n",
        "- `\"better\"` becomes `\"good\"`  \n",
        "\n",
        "The `clean_text` function preprocesses input text to prepare it for NLP tasks by performing the following steps:\n",
        "\n",
        "1. **Remove Non-Alphabetic Characters**:  \n",
        "   Removes characters that aren't letters to clean the text like punctuation and numbers.\n",
        "\n",
        "2. **Lowercase Conversion**:\n",
        "   Converts all letters to lowercase for uniformity.\n",
        "\n",
        "3. **Tokenization and Stop Word Removal**:  \n",
        "   Breaks the text into individual words (in this case **tokens**) and removes common stop words to focus on meaningful terms.  \n",
        "\n",
        "4. **Lemmatization**:  \n",
        "   Converts each word to its root form using the `WordNetLemmatizer` for better consistency in analysis.  \n",
        "\n",
        "After this preprocesses we have:\n",
        "\n",
        "- Input: `\"The running dogs quickly jumped over fences!\"`  \n",
        "- Output: `\"run dog quick jump fence\"`  \n",
        "\n",
        "The function ensures the text is simplified and meaningful, helping improve the performance of NLP tasks such as text classification or sentiment analysis. If the cleaned text has fewer than three words, it skips the text."
      ]
    },
    {
      "cell_type": "code",
      "execution_count": null,
      "metadata": {
        "id": "tadbfJJ2_0XV"
      },
      "outputs": [],
      "source": [
        "lemmatizer = WordNetLemmatizer()\n",
        "\n",
        "def clean_text(text):\n",
        "    \"\"\"Cleans input text by removing non-alphabetic characters,\n",
        "     lowercasing, removing stopwords, and lemmatizing.\"\"\"\n",
        "\n",
        "    # TODO: Remove non-alphabetic characters and convert to lowercase (≈1 line)\n",
        "\n",
        "\n",
        "    # TODO: Tokenize and remove stop words, apply lemmatization (≈2 lines)\n",
        "\n",
        "    # Return cleaned text if it has more than 2 tokens (≈2 lines)\n",
        "    pass"
      ]
    },
    {
      "cell_type": "code",
      "execution_count": null,
      "metadata": {
        "id": "pY5H5iLu_0ZW"
      },
      "outputs": [],
      "source": [
        "# TODO: Apply cleaning and save the result in another columns spoken_words_clean (≈1 line)\n"
      ]
    },
    {
      "cell_type": "markdown",
      "metadata": {
        "id": "521Yl1fwx1UX"
      },
      "source": [
        "After cleaning some values might become NaN, remove them. Then Display cleaned dataframe."
      ]
    },
    {
      "cell_type": "code",
      "execution_count": null,
      "metadata": {
        "colab": {
          "base_uri": "https://localhost:8080/",
          "height": 521
        },
        "id": "2cWK0Jjq_0be",
        "outputId": "dc5601e3-cc5b-4f5d-f7fd-26a8cfcc1f37"
      },
      "outputs": [
        {
          "name": "stdout",
          "output_type": "stream",
          "text": [
            "Cleaned Dataset Shape: (90513, 2)\n"
          ]
        },
        {
          "data": {
            "application/vnd.google.colaboratory.intrinsic+json": {
              "summary": "{\n  \"name\": \"df_clean\",\n  \"rows\": 90513,\n  \"fields\": [\n    {\n      \"column\": \"spoken_words\",\n      \"properties\": {\n        \"dtype\": \"string\",\n        \"num_unique_values\": 90513,\n        \"samples\": [\n          \"Good Lord! You're wasting thousands of dollars worth of Interferon.\",\n          \"Spoiler alert! I've only seen up to season three, episode seventeen: \\\"Coconut Cream Die.\\\"\",\n          \"What a great father, I say sarcastically!\"\n        ],\n        \"semantic_type\": \"\",\n        \"description\": \"\"\n      }\n    },\n    {\n      \"column\": \"clean\",\n      \"properties\": {\n        \"dtype\": \"string\",\n        \"num_unique_values\": 90082,\n        \"samples\": [\n          \"better catch fever catch\",\n          \"allen ginsburgers un american cheese sandwich polio dog\",\n          \"we're ditching kid taking second honeymoon\"\n        ],\n        \"semantic_type\": \"\",\n        \"description\": \"\"\n      }\n    }\n  ]\n}",
              "type": "dataframe",
              "variable_name": "df_clean"
            },
            "text/html": [
              "\n",
              "  <div id=\"df-cbe7151f-d942-4aac-a793-c67fbea20e5e\" class=\"colab-df-container\">\n",
              "    <div>\n",
              "<style scoped>\n",
              "    .dataframe tbody tr th:only-of-type {\n",
              "        vertical-align: middle;\n",
              "    }\n",
              "\n",
              "    .dataframe tbody tr th {\n",
              "        vertical-align: top;\n",
              "    }\n",
              "\n",
              "    .dataframe thead th {\n",
              "        text-align: right;\n",
              "    }\n",
              "</style>\n",
              "<table border=\"1\" class=\"dataframe\">\n",
              "  <thead>\n",
              "    <tr style=\"text-align: right;\">\n",
              "      <th></th>\n",
              "      <th>spoken_words</th>\n",
              "      <th>clean</th>\n",
              "    </tr>\n",
              "  </thead>\n",
              "  <tbody>\n",
              "    <tr>\n",
              "      <th>0</th>\n",
              "      <td>No, actually, it was a little of both. Sometim...</td>\n",
              "      <td>little sometimes disease magazine news show na...</td>\n",
              "    </tr>\n",
              "    <tr>\n",
              "      <th>1</th>\n",
              "      <td>Where's Mr. Bergstrom?</td>\n",
              "      <td>where's mr bergstrom</td>\n",
              "    </tr>\n",
              "    <tr>\n",
              "      <th>2</th>\n",
              "      <td>I don't know. Although I'd sure like to talk t...</td>\n",
              "      <td>know i'd sure talk touch lesson plan teach</td>\n",
              "    </tr>\n",
              "    <tr>\n",
              "      <th>3</th>\n",
              "      <td>That life is worth living.</td>\n",
              "      <td>life worth living</td>\n",
              "    </tr>\n",
              "    <tr>\n",
              "      <th>4</th>\n",
              "      <td>The polls will be open from now until the end ...</td>\n",
              "      <td>poll open end recess case decided put thought ...</td>\n",
              "    </tr>\n",
              "    <tr>\n",
              "      <th>...</th>\n",
              "      <td>...</td>\n",
              "      <td>...</td>\n",
              "    </tr>\n",
              "    <tr>\n",
              "      <th>131835</th>\n",
              "      <td>Can I dye my shoes pink?</td>\n",
              "      <td>dye shoe pink</td>\n",
              "    </tr>\n",
              "    <tr>\n",
              "      <th>131846</th>\n",
              "      <td>Mr. Bergstrom, we request the pleasure of your...</td>\n",
              "      <td>mr bergstrom request pleasure company mr bergs...</td>\n",
              "    </tr>\n",
              "    <tr>\n",
              "      <th>131847</th>\n",
              "      <td>Good morning, Lisa.</td>\n",
              "      <td>good morning lisa</td>\n",
              "    </tr>\n",
              "    <tr>\n",
              "      <th>131849</th>\n",
              "      <td>You see, class, my Lyme disease turned out to ...</td>\n",
              "      <td>see class lyme disease turned</td>\n",
              "    </tr>\n",
              "    <tr>\n",
              "      <th>131850</th>\n",
              "      <td>Psy-cho-so-ma-tic.</td>\n",
              "      <td>psy cho tic</td>\n",
              "    </tr>\n",
              "  </tbody>\n",
              "</table>\n",
              "<p>90513 rows × 2 columns</p>\n",
              "</div>\n",
              "    <div class=\"colab-df-buttons\">\n",
              "\n",
              "  <div class=\"colab-df-container\">\n",
              "    <button class=\"colab-df-convert\" onclick=\"convertToInteractive('df-cbe7151f-d942-4aac-a793-c67fbea20e5e')\"\n",
              "            title=\"Convert this dataframe to an interactive table.\"\n",
              "            style=\"display:none;\">\n",
              "\n",
              "  <svg xmlns=\"http://www.w3.org/2000/svg\" height=\"24px\" viewBox=\"0 -960 960 960\">\n",
              "    <path d=\"M120-120v-720h720v720H120Zm60-500h600v-160H180v160Zm220 220h160v-160H400v160Zm0 220h160v-160H400v160ZM180-400h160v-160H180v160Zm440 0h160v-160H620v160ZM180-180h160v-160H180v160Zm440 0h160v-160H620v160Z\"/>\n",
              "  </svg>\n",
              "    </button>\n",
              "\n",
              "  <style>\n",
              "    .colab-df-container {\n",
              "      display:flex;\n",
              "      gap: 12px;\n",
              "    }\n",
              "\n",
              "    .colab-df-convert {\n",
              "      background-color: #E8F0FE;\n",
              "      border: none;\n",
              "      border-radius: 50%;\n",
              "      cursor: pointer;\n",
              "      display: none;\n",
              "      fill: #1967D2;\n",
              "      height: 32px;\n",
              "      padding: 0 0 0 0;\n",
              "      width: 32px;\n",
              "    }\n",
              "\n",
              "    .colab-df-convert:hover {\n",
              "      background-color: #E2EBFA;\n",
              "      box-shadow: 0px 1px 2px rgba(60, 64, 67, 0.3), 0px 1px 3px 1px rgba(60, 64, 67, 0.15);\n",
              "      fill: #174EA6;\n",
              "    }\n",
              "\n",
              "    .colab-df-buttons div {\n",
              "      margin-bottom: 4px;\n",
              "    }\n",
              "\n",
              "    [theme=dark] .colab-df-convert {\n",
              "      background-color: #3B4455;\n",
              "      fill: #D2E3FC;\n",
              "    }\n",
              "\n",
              "    [theme=dark] .colab-df-convert:hover {\n",
              "      background-color: #434B5C;\n",
              "      box-shadow: 0px 1px 3px 1px rgba(0, 0, 0, 0.15);\n",
              "      filter: drop-shadow(0px 1px 2px rgba(0, 0, 0, 0.3));\n",
              "      fill: #FFFFFF;\n",
              "    }\n",
              "  </style>\n",
              "\n",
              "    <script>\n",
              "      const buttonEl =\n",
              "        document.querySelector('#df-cbe7151f-d942-4aac-a793-c67fbea20e5e button.colab-df-convert');\n",
              "      buttonEl.style.display =\n",
              "        google.colab.kernel.accessAllowed ? 'block' : 'none';\n",
              "\n",
              "      async function convertToInteractive(key) {\n",
              "        const element = document.querySelector('#df-cbe7151f-d942-4aac-a793-c67fbea20e5e');\n",
              "        const dataTable =\n",
              "          await google.colab.kernel.invokeFunction('convertToInteractive',\n",
              "                                                    [key], {});\n",
              "        if (!dataTable) return;\n",
              "\n",
              "        const docLinkHtml = 'Like what you see? Visit the ' +\n",
              "          '<a target=\"_blank\" href=https://colab.research.google.com/notebooks/data_table.ipynb>data table notebook</a>'\n",
              "          + ' to learn more about interactive tables.';\n",
              "        element.innerHTML = '';\n",
              "        dataTable['output_type'] = 'display_data';\n",
              "        await google.colab.output.renderOutput(dataTable, element);\n",
              "        const docLink = document.createElement('div');\n",
              "        docLink.innerHTML = docLinkHtml;\n",
              "        element.appendChild(docLink);\n",
              "      }\n",
              "    </script>\n",
              "  </div>\n",
              "\n",
              "\n",
              "<div id=\"df-c66b386a-b68a-456d-8e69-3c61ecab13f7\">\n",
              "  <button class=\"colab-df-quickchart\" onclick=\"quickchart('df-c66b386a-b68a-456d-8e69-3c61ecab13f7')\"\n",
              "            title=\"Suggest charts\"\n",
              "            style=\"display:none;\">\n",
              "\n",
              "<svg xmlns=\"http://www.w3.org/2000/svg\" height=\"24px\"viewBox=\"0 0 24 24\"\n",
              "     width=\"24px\">\n",
              "    <g>\n",
              "        <path d=\"M19 3H5c-1.1 0-2 .9-2 2v14c0 1.1.9 2 2 2h14c1.1 0 2-.9 2-2V5c0-1.1-.9-2-2-2zM9 17H7v-7h2v7zm4 0h-2V7h2v10zm4 0h-2v-4h2v4z\"/>\n",
              "    </g>\n",
              "</svg>\n",
              "  </button>\n",
              "\n",
              "<style>\n",
              "  .colab-df-quickchart {\n",
              "      --bg-color: #E8F0FE;\n",
              "      --fill-color: #1967D2;\n",
              "      --hover-bg-color: #E2EBFA;\n",
              "      --hover-fill-color: #174EA6;\n",
              "      --disabled-fill-color: #AAA;\n",
              "      --disabled-bg-color: #DDD;\n",
              "  }\n",
              "\n",
              "  [theme=dark] .colab-df-quickchart {\n",
              "      --bg-color: #3B4455;\n",
              "      --fill-color: #D2E3FC;\n",
              "      --hover-bg-color: #434B5C;\n",
              "      --hover-fill-color: #FFFFFF;\n",
              "      --disabled-bg-color: #3B4455;\n",
              "      --disabled-fill-color: #666;\n",
              "  }\n",
              "\n",
              "  .colab-df-quickchart {\n",
              "    background-color: var(--bg-color);\n",
              "    border: none;\n",
              "    border-radius: 50%;\n",
              "    cursor: pointer;\n",
              "    display: none;\n",
              "    fill: var(--fill-color);\n",
              "    height: 32px;\n",
              "    padding: 0;\n",
              "    width: 32px;\n",
              "  }\n",
              "\n",
              "  .colab-df-quickchart:hover {\n",
              "    background-color: var(--hover-bg-color);\n",
              "    box-shadow: 0 1px 2px rgba(60, 64, 67, 0.3), 0 1px 3px 1px rgba(60, 64, 67, 0.15);\n",
              "    fill: var(--button-hover-fill-color);\n",
              "  }\n",
              "\n",
              "  .colab-df-quickchart-complete:disabled,\n",
              "  .colab-df-quickchart-complete:disabled:hover {\n",
              "    background-color: var(--disabled-bg-color);\n",
              "    fill: var(--disabled-fill-color);\n",
              "    box-shadow: none;\n",
              "  }\n",
              "\n",
              "  .colab-df-spinner {\n",
              "    border: 2px solid var(--fill-color);\n",
              "    border-color: transparent;\n",
              "    border-bottom-color: var(--fill-color);\n",
              "    animation:\n",
              "      spin 1s steps(1) infinite;\n",
              "  }\n",
              "\n",
              "  @keyframes spin {\n",
              "    0% {\n",
              "      border-color: transparent;\n",
              "      border-bottom-color: var(--fill-color);\n",
              "      border-left-color: var(--fill-color);\n",
              "    }\n",
              "    20% {\n",
              "      border-color: transparent;\n",
              "      border-left-color: var(--fill-color);\n",
              "      border-top-color: var(--fill-color);\n",
              "    }\n",
              "    30% {\n",
              "      border-color: transparent;\n",
              "      border-left-color: var(--fill-color);\n",
              "      border-top-color: var(--fill-color);\n",
              "      border-right-color: var(--fill-color);\n",
              "    }\n",
              "    40% {\n",
              "      border-color: transparent;\n",
              "      border-right-color: var(--fill-color);\n",
              "      border-top-color: var(--fill-color);\n",
              "    }\n",
              "    60% {\n",
              "      border-color: transparent;\n",
              "      border-right-color: var(--fill-color);\n",
              "    }\n",
              "    80% {\n",
              "      border-color: transparent;\n",
              "      border-right-color: var(--fill-color);\n",
              "      border-bottom-color: var(--fill-color);\n",
              "    }\n",
              "    90% {\n",
              "      border-color: transparent;\n",
              "      border-bottom-color: var(--fill-color);\n",
              "    }\n",
              "  }\n",
              "</style>\n",
              "\n",
              "  <script>\n",
              "    async function quickchart(key) {\n",
              "      const quickchartButtonEl =\n",
              "        document.querySelector('#' + key + ' button');\n",
              "      quickchartButtonEl.disabled = true;  // To prevent multiple clicks.\n",
              "      quickchartButtonEl.classList.add('colab-df-spinner');\n",
              "      try {\n",
              "        const charts = await google.colab.kernel.invokeFunction(\n",
              "            'suggestCharts', [key], {});\n",
              "      } catch (error) {\n",
              "        console.error('Error during call to suggestCharts:', error);\n",
              "      }\n",
              "      quickchartButtonEl.classList.remove('colab-df-spinner');\n",
              "      quickchartButtonEl.classList.add('colab-df-quickchart-complete');\n",
              "    }\n",
              "    (() => {\n",
              "      let quickchartButtonEl =\n",
              "        document.querySelector('#df-c66b386a-b68a-456d-8e69-3c61ecab13f7 button');\n",
              "      quickchartButtonEl.style.display =\n",
              "        google.colab.kernel.accessAllowed ? 'block' : 'none';\n",
              "    })();\n",
              "  </script>\n",
              "</div>\n",
              "\n",
              "  <div id=\"id_346a9d72-6195-47b1-8c04-df3c865851ff\">\n",
              "    <style>\n",
              "      .colab-df-generate {\n",
              "        background-color: #E8F0FE;\n",
              "        border: none;\n",
              "        border-radius: 50%;\n",
              "        cursor: pointer;\n",
              "        display: none;\n",
              "        fill: #1967D2;\n",
              "        height: 32px;\n",
              "        padding: 0 0 0 0;\n",
              "        width: 32px;\n",
              "      }\n",
              "\n",
              "      .colab-df-generate:hover {\n",
              "        background-color: #E2EBFA;\n",
              "        box-shadow: 0px 1px 2px rgba(60, 64, 67, 0.3), 0px 1px 3px 1px rgba(60, 64, 67, 0.15);\n",
              "        fill: #174EA6;\n",
              "      }\n",
              "\n",
              "      [theme=dark] .colab-df-generate {\n",
              "        background-color: #3B4455;\n",
              "        fill: #D2E3FC;\n",
              "      }\n",
              "\n",
              "      [theme=dark] .colab-df-generate:hover {\n",
              "        background-color: #434B5C;\n",
              "        box-shadow: 0px 1px 3px 1px rgba(0, 0, 0, 0.15);\n",
              "        filter: drop-shadow(0px 1px 2px rgba(0, 0, 0, 0.3));\n",
              "        fill: #FFFFFF;\n",
              "      }\n",
              "    </style>\n",
              "    <button class=\"colab-df-generate\" onclick=\"generateWithVariable('df_clean')\"\n",
              "            title=\"Generate code using this dataframe.\"\n",
              "            style=\"display:none;\">\n",
              "\n",
              "  <svg xmlns=\"http://www.w3.org/2000/svg\" height=\"24px\"viewBox=\"0 0 24 24\"\n",
              "       width=\"24px\">\n",
              "    <path d=\"M7,19H8.4L18.45,9,17,7.55,7,17.6ZM5,21V16.75L18.45,3.32a2,2,0,0,1,2.83,0l1.4,1.43a1.91,1.91,0,0,1,.58,1.4,1.91,1.91,0,0,1-.58,1.4L9.25,21ZM18.45,9,17,7.55Zm-12,3A5.31,5.31,0,0,0,4.9,8.1,5.31,5.31,0,0,0,1,6.5,5.31,5.31,0,0,0,4.9,4.9,5.31,5.31,0,0,0,6.5,1,5.31,5.31,0,0,0,8.1,4.9,5.31,5.31,0,0,0,12,6.5,5.46,5.46,0,0,0,6.5,12Z\"/>\n",
              "  </svg>\n",
              "    </button>\n",
              "    <script>\n",
              "      (() => {\n",
              "      const buttonEl =\n",
              "        document.querySelector('#id_346a9d72-6195-47b1-8c04-df3c865851ff button.colab-df-generate');\n",
              "      buttonEl.style.display =\n",
              "        google.colab.kernel.accessAllowed ? 'block' : 'none';\n",
              "\n",
              "      buttonEl.onclick = () => {\n",
              "        google.colab.notebook.generateWithVariable('df_clean');\n",
              "      }\n",
              "      })();\n",
              "    </script>\n",
              "  </div>\n",
              "\n",
              "    </div>\n",
              "  </div>\n"
            ],
            "text/plain": [
              "                                             spoken_words  \\\n",
              "0       No, actually, it was a little of both. Sometim...   \n",
              "1                                  Where's Mr. Bergstrom?   \n",
              "2       I don't know. Although I'd sure like to talk t...   \n",
              "3                              That life is worth living.   \n",
              "4       The polls will be open from now until the end ...   \n",
              "...                                                   ...   \n",
              "131835                           Can I dye my shoes pink?   \n",
              "131846  Mr. Bergstrom, we request the pleasure of your...   \n",
              "131847                                Good morning, Lisa.   \n",
              "131849  You see, class, my Lyme disease turned out to ...   \n",
              "131850                                 Psy-cho-so-ma-tic.   \n",
              "\n",
              "                                                    clean  \n",
              "0       little sometimes disease magazine news show na...  \n",
              "1                                    where's mr bergstrom  \n",
              "2              know i'd sure talk touch lesson plan teach  \n",
              "3                                       life worth living  \n",
              "4       poll open end recess case decided put thought ...  \n",
              "...                                                   ...  \n",
              "131835                                      dye shoe pink  \n",
              "131846  mr bergstrom request pleasure company mr bergs...  \n",
              "131847                                  good morning lisa  \n",
              "131849                      see class lyme disease turned  \n",
              "131850                                        psy cho tic  \n",
              "\n",
              "[90513 rows x 2 columns]"
            ]
          },
          "execution_count": 15,
          "metadata": {},
          "output_type": "execute_result"
        }
      ],
      "source": [
        "# TODO: Drop NaN values and duplicates after cleaning (≈1 line)\n",
        "\n",
        "df_clean = df_clean.rename(columns={'spoken_words_clean': 'clean'})\n",
        "\n",
        "print(f\"Cleaned Dataset Shape: {df_clean.shape}\")\n",
        "df_clean"
      ]
    },
    {
      "cell_type": "code",
      "execution_count": null,
      "metadata": {
        "colab": {
          "base_uri": "https://localhost:8080/"
        },
        "id": "sNaCAH_J_0dn",
        "outputId": "d1eb7c33-f443-4883-f728-ea64293ded69"
      },
      "outputs": [
        {
          "name": "stdout",
          "output_type": "stream",
          "text": [
            "=== Sample Cleaning Examples ===\n",
            "\n",
            "Example 80638:\n",
            "------------------\n",
            "Original: I was doing uh, Donald Trump. Billionaire. If you knew who he was, you'd be dying.\n",
            "Cleaned:  donald trump billionaire knew dying\n",
            "------------------\n",
            "\n",
            "Example 11107:\n",
            "------------------\n",
            "Original: Gee, it's not as nice as the other rooms.\n",
            "Cleaned:  gee nice room\n",
            "------------------\n",
            "\n",
            "Example 105614:\n",
            "------------------\n",
            "Original: ...for creating a furry robotic friend who provides comfort when humans fail to, which they will, trust me.\n",
            "Cleaned:  creating furry robotic friend provides comfort human fail trust\n",
            "------------------\n",
            "\n",
            "Example 61632:\n",
            "------------------\n",
            "Original: All right, we will write a list.\n",
            "Cleaned:  right write list\n",
            "------------------\n",
            "\n",
            "Example 113245:\n",
            "------------------\n",
            "Original: We have a school full of professionals, sir.\n",
            "Cleaned:  school full professional sir\n",
            "------------------\n",
            "\n",
            "===============================\n"
          ]
        }
      ],
      "source": [
        "sample_examples = df_clean.sample(5, random_state=8)\n",
        "\n",
        "print(\"=== Sample Cleaning Examples ===\\n\")\n",
        "\n",
        "for index, row in sample_examples.iterrows():\n",
        "    print(f\"Example {index + 1}:\")\n",
        "    print(f\"------------------\")\n",
        "    print(f\"Original: {row['spoken_words']}\")\n",
        "    print(f\"Cleaned:  {row['clean']}\")\n",
        "    print(f\"------------------\\n\")\n",
        "\n",
        "print(\"===============================\")"
      ]
    },
    {
      "cell_type": "markdown",
      "metadata": {
        "id": "Ws9dpV17x1UX"
      },
      "source": [
        "To continue, let's only keep the preprocessed texts."
      ]
    },
    {
      "cell_type": "code",
      "execution_count": null,
      "metadata": {
        "colab": {
          "base_uri": "https://localhost:8080/",
          "height": 419
        },
        "id": "mShlGq-Q_0f4",
        "outputId": "646b633f-bb09-414b-e880-979ceccfe8c9"
      },
      "outputs": [
        {
          "data": {
            "application/vnd.google.colaboratory.intrinsic+json": {
              "summary": "{\n  \"name\": \"df_clean\",\n  \"rows\": 90513,\n  \"fields\": [\n    {\n      \"column\": \"clean\",\n      \"properties\": {\n        \"dtype\": \"string\",\n        \"num_unique_values\": 90082,\n        \"samples\": [\n          \"better catch fever catch\",\n          \"allen ginsburgers un american cheese sandwich polio dog\",\n          \"we're ditching kid taking second honeymoon\"\n        ],\n        \"semantic_type\": \"\",\n        \"description\": \"\"\n      }\n    }\n  ]\n}",
              "type": "dataframe",
              "variable_name": "df_clean"
            },
            "text/html": [
              "\n",
              "  <div id=\"df-0fe5cf9a-69cb-4e16-b7a1-e1264ab2a48b\" class=\"colab-df-container\">\n",
              "    <div>\n",
              "<style scoped>\n",
              "    .dataframe tbody tr th:only-of-type {\n",
              "        vertical-align: middle;\n",
              "    }\n",
              "\n",
              "    .dataframe tbody tr th {\n",
              "        vertical-align: top;\n",
              "    }\n",
              "\n",
              "    .dataframe thead th {\n",
              "        text-align: right;\n",
              "    }\n",
              "</style>\n",
              "<table border=\"1\" class=\"dataframe\">\n",
              "  <thead>\n",
              "    <tr style=\"text-align: right;\">\n",
              "      <th></th>\n",
              "      <th>clean</th>\n",
              "    </tr>\n",
              "  </thead>\n",
              "  <tbody>\n",
              "    <tr>\n",
              "      <th>0</th>\n",
              "      <td>little sometimes disease magazine news show na...</td>\n",
              "    </tr>\n",
              "    <tr>\n",
              "      <th>1</th>\n",
              "      <td>where's mr bergstrom</td>\n",
              "    </tr>\n",
              "    <tr>\n",
              "      <th>2</th>\n",
              "      <td>know i'd sure talk touch lesson plan teach</td>\n",
              "    </tr>\n",
              "    <tr>\n",
              "      <th>3</th>\n",
              "      <td>life worth living</td>\n",
              "    </tr>\n",
              "    <tr>\n",
              "      <th>4</th>\n",
              "      <td>poll open end recess case decided put thought ...</td>\n",
              "    </tr>\n",
              "    <tr>\n",
              "      <th>...</th>\n",
              "      <td>...</td>\n",
              "    </tr>\n",
              "    <tr>\n",
              "      <th>131835</th>\n",
              "      <td>dye shoe pink</td>\n",
              "    </tr>\n",
              "    <tr>\n",
              "      <th>131846</th>\n",
              "      <td>mr bergstrom request pleasure company mr bergs...</td>\n",
              "    </tr>\n",
              "    <tr>\n",
              "      <th>131847</th>\n",
              "      <td>good morning lisa</td>\n",
              "    </tr>\n",
              "    <tr>\n",
              "      <th>131849</th>\n",
              "      <td>see class lyme disease turned</td>\n",
              "    </tr>\n",
              "    <tr>\n",
              "      <th>131850</th>\n",
              "      <td>psy cho tic</td>\n",
              "    </tr>\n",
              "  </tbody>\n",
              "</table>\n",
              "<p>90513 rows × 1 columns</p>\n",
              "</div>\n",
              "    <div class=\"colab-df-buttons\">\n",
              "\n",
              "  <div class=\"colab-df-container\">\n",
              "    <button class=\"colab-df-convert\" onclick=\"convertToInteractive('df-0fe5cf9a-69cb-4e16-b7a1-e1264ab2a48b')\"\n",
              "            title=\"Convert this dataframe to an interactive table.\"\n",
              "            style=\"display:none;\">\n",
              "\n",
              "  <svg xmlns=\"http://www.w3.org/2000/svg\" height=\"24px\" viewBox=\"0 -960 960 960\">\n",
              "    <path d=\"M120-120v-720h720v720H120Zm60-500h600v-160H180v160Zm220 220h160v-160H400v160Zm0 220h160v-160H400v160ZM180-400h160v-160H180v160Zm440 0h160v-160H620v160ZM180-180h160v-160H180v160Zm440 0h160v-160H620v160Z\"/>\n",
              "  </svg>\n",
              "    </button>\n",
              "\n",
              "  <style>\n",
              "    .colab-df-container {\n",
              "      display:flex;\n",
              "      gap: 12px;\n",
              "    }\n",
              "\n",
              "    .colab-df-convert {\n",
              "      background-color: #E8F0FE;\n",
              "      border: none;\n",
              "      border-radius: 50%;\n",
              "      cursor: pointer;\n",
              "      display: none;\n",
              "      fill: #1967D2;\n",
              "      height: 32px;\n",
              "      padding: 0 0 0 0;\n",
              "      width: 32px;\n",
              "    }\n",
              "\n",
              "    .colab-df-convert:hover {\n",
              "      background-color: #E2EBFA;\n",
              "      box-shadow: 0px 1px 2px rgba(60, 64, 67, 0.3), 0px 1px 3px 1px rgba(60, 64, 67, 0.15);\n",
              "      fill: #174EA6;\n",
              "    }\n",
              "\n",
              "    .colab-df-buttons div {\n",
              "      margin-bottom: 4px;\n",
              "    }\n",
              "\n",
              "    [theme=dark] .colab-df-convert {\n",
              "      background-color: #3B4455;\n",
              "      fill: #D2E3FC;\n",
              "    }\n",
              "\n",
              "    [theme=dark] .colab-df-convert:hover {\n",
              "      background-color: #434B5C;\n",
              "      box-shadow: 0px 1px 3px 1px rgba(0, 0, 0, 0.15);\n",
              "      filter: drop-shadow(0px 1px 2px rgba(0, 0, 0, 0.3));\n",
              "      fill: #FFFFFF;\n",
              "    }\n",
              "  </style>\n",
              "\n",
              "    <script>\n",
              "      const buttonEl =\n",
              "        document.querySelector('#df-0fe5cf9a-69cb-4e16-b7a1-e1264ab2a48b button.colab-df-convert');\n",
              "      buttonEl.style.display =\n",
              "        google.colab.kernel.accessAllowed ? 'block' : 'none';\n",
              "\n",
              "      async function convertToInteractive(key) {\n",
              "        const element = document.querySelector('#df-0fe5cf9a-69cb-4e16-b7a1-e1264ab2a48b');\n",
              "        const dataTable =\n",
              "          await google.colab.kernel.invokeFunction('convertToInteractive',\n",
              "                                                    [key], {});\n",
              "        if (!dataTable) return;\n",
              "\n",
              "        const docLinkHtml = 'Like what you see? Visit the ' +\n",
              "          '<a target=\"_blank\" href=https://colab.research.google.com/notebooks/data_table.ipynb>data table notebook</a>'\n",
              "          + ' to learn more about interactive tables.';\n",
              "        element.innerHTML = '';\n",
              "        dataTable['output_type'] = 'display_data';\n",
              "        await google.colab.output.renderOutput(dataTable, element);\n",
              "        const docLink = document.createElement('div');\n",
              "        docLink.innerHTML = docLinkHtml;\n",
              "        element.appendChild(docLink);\n",
              "      }\n",
              "    </script>\n",
              "  </div>\n",
              "\n",
              "\n",
              "<div id=\"df-316a8845-5b88-4684-93cc-845983b37ff4\">\n",
              "  <button class=\"colab-df-quickchart\" onclick=\"quickchart('df-316a8845-5b88-4684-93cc-845983b37ff4')\"\n",
              "            title=\"Suggest charts\"\n",
              "            style=\"display:none;\">\n",
              "\n",
              "<svg xmlns=\"http://www.w3.org/2000/svg\" height=\"24px\"viewBox=\"0 0 24 24\"\n",
              "     width=\"24px\">\n",
              "    <g>\n",
              "        <path d=\"M19 3H5c-1.1 0-2 .9-2 2v14c0 1.1.9 2 2 2h14c1.1 0 2-.9 2-2V5c0-1.1-.9-2-2-2zM9 17H7v-7h2v7zm4 0h-2V7h2v10zm4 0h-2v-4h2v4z\"/>\n",
              "    </g>\n",
              "</svg>\n",
              "  </button>\n",
              "\n",
              "<style>\n",
              "  .colab-df-quickchart {\n",
              "      --bg-color: #E8F0FE;\n",
              "      --fill-color: #1967D2;\n",
              "      --hover-bg-color: #E2EBFA;\n",
              "      --hover-fill-color: #174EA6;\n",
              "      --disabled-fill-color: #AAA;\n",
              "      --disabled-bg-color: #DDD;\n",
              "  }\n",
              "\n",
              "  [theme=dark] .colab-df-quickchart {\n",
              "      --bg-color: #3B4455;\n",
              "      --fill-color: #D2E3FC;\n",
              "      --hover-bg-color: #434B5C;\n",
              "      --hover-fill-color: #FFFFFF;\n",
              "      --disabled-bg-color: #3B4455;\n",
              "      --disabled-fill-color: #666;\n",
              "  }\n",
              "\n",
              "  .colab-df-quickchart {\n",
              "    background-color: var(--bg-color);\n",
              "    border: none;\n",
              "    border-radius: 50%;\n",
              "    cursor: pointer;\n",
              "    display: none;\n",
              "    fill: var(--fill-color);\n",
              "    height: 32px;\n",
              "    padding: 0;\n",
              "    width: 32px;\n",
              "  }\n",
              "\n",
              "  .colab-df-quickchart:hover {\n",
              "    background-color: var(--hover-bg-color);\n",
              "    box-shadow: 0 1px 2px rgba(60, 64, 67, 0.3), 0 1px 3px 1px rgba(60, 64, 67, 0.15);\n",
              "    fill: var(--button-hover-fill-color);\n",
              "  }\n",
              "\n",
              "  .colab-df-quickchart-complete:disabled,\n",
              "  .colab-df-quickchart-complete:disabled:hover {\n",
              "    background-color: var(--disabled-bg-color);\n",
              "    fill: var(--disabled-fill-color);\n",
              "    box-shadow: none;\n",
              "  }\n",
              "\n",
              "  .colab-df-spinner {\n",
              "    border: 2px solid var(--fill-color);\n",
              "    border-color: transparent;\n",
              "    border-bottom-color: var(--fill-color);\n",
              "    animation:\n",
              "      spin 1s steps(1) infinite;\n",
              "  }\n",
              "\n",
              "  @keyframes spin {\n",
              "    0% {\n",
              "      border-color: transparent;\n",
              "      border-bottom-color: var(--fill-color);\n",
              "      border-left-color: var(--fill-color);\n",
              "    }\n",
              "    20% {\n",
              "      border-color: transparent;\n",
              "      border-left-color: var(--fill-color);\n",
              "      border-top-color: var(--fill-color);\n",
              "    }\n",
              "    30% {\n",
              "      border-color: transparent;\n",
              "      border-left-color: var(--fill-color);\n",
              "      border-top-color: var(--fill-color);\n",
              "      border-right-color: var(--fill-color);\n",
              "    }\n",
              "    40% {\n",
              "      border-color: transparent;\n",
              "      border-right-color: var(--fill-color);\n",
              "      border-top-color: var(--fill-color);\n",
              "    }\n",
              "    60% {\n",
              "      border-color: transparent;\n",
              "      border-right-color: var(--fill-color);\n",
              "    }\n",
              "    80% {\n",
              "      border-color: transparent;\n",
              "      border-right-color: var(--fill-color);\n",
              "      border-bottom-color: var(--fill-color);\n",
              "    }\n",
              "    90% {\n",
              "      border-color: transparent;\n",
              "      border-bottom-color: var(--fill-color);\n",
              "    }\n",
              "  }\n",
              "</style>\n",
              "\n",
              "  <script>\n",
              "    async function quickchart(key) {\n",
              "      const quickchartButtonEl =\n",
              "        document.querySelector('#' + key + ' button');\n",
              "      quickchartButtonEl.disabled = true;  // To prevent multiple clicks.\n",
              "      quickchartButtonEl.classList.add('colab-df-spinner');\n",
              "      try {\n",
              "        const charts = await google.colab.kernel.invokeFunction(\n",
              "            'suggestCharts', [key], {});\n",
              "      } catch (error) {\n",
              "        console.error('Error during call to suggestCharts:', error);\n",
              "      }\n",
              "      quickchartButtonEl.classList.remove('colab-df-spinner');\n",
              "      quickchartButtonEl.classList.add('colab-df-quickchart-complete');\n",
              "    }\n",
              "    (() => {\n",
              "      let quickchartButtonEl =\n",
              "        document.querySelector('#df-316a8845-5b88-4684-93cc-845983b37ff4 button');\n",
              "      quickchartButtonEl.style.display =\n",
              "        google.colab.kernel.accessAllowed ? 'block' : 'none';\n",
              "    })();\n",
              "  </script>\n",
              "</div>\n",
              "\n",
              "  <div id=\"id_1a62f3e8-754f-43ca-ae2c-bbf18f45bdb8\">\n",
              "    <style>\n",
              "      .colab-df-generate {\n",
              "        background-color: #E8F0FE;\n",
              "        border: none;\n",
              "        border-radius: 50%;\n",
              "        cursor: pointer;\n",
              "        display: none;\n",
              "        fill: #1967D2;\n",
              "        height: 32px;\n",
              "        padding: 0 0 0 0;\n",
              "        width: 32px;\n",
              "      }\n",
              "\n",
              "      .colab-df-generate:hover {\n",
              "        background-color: #E2EBFA;\n",
              "        box-shadow: 0px 1px 2px rgba(60, 64, 67, 0.3), 0px 1px 3px 1px rgba(60, 64, 67, 0.15);\n",
              "        fill: #174EA6;\n",
              "      }\n",
              "\n",
              "      [theme=dark] .colab-df-generate {\n",
              "        background-color: #3B4455;\n",
              "        fill: #D2E3FC;\n",
              "      }\n",
              "\n",
              "      [theme=dark] .colab-df-generate:hover {\n",
              "        background-color: #434B5C;\n",
              "        box-shadow: 0px 1px 3px 1px rgba(0, 0, 0, 0.15);\n",
              "        filter: drop-shadow(0px 1px 2px rgba(0, 0, 0, 0.3));\n",
              "        fill: #FFFFFF;\n",
              "      }\n",
              "    </style>\n",
              "    <button class=\"colab-df-generate\" onclick=\"generateWithVariable('df_clean')\"\n",
              "            title=\"Generate code using this dataframe.\"\n",
              "            style=\"display:none;\">\n",
              "\n",
              "  <svg xmlns=\"http://www.w3.org/2000/svg\" height=\"24px\"viewBox=\"0 0 24 24\"\n",
              "       width=\"24px\">\n",
              "    <path d=\"M7,19H8.4L18.45,9,17,7.55,7,17.6ZM5,21V16.75L18.45,3.32a2,2,0,0,1,2.83,0l1.4,1.43a1.91,1.91,0,0,1,.58,1.4,1.91,1.91,0,0,1-.58,1.4L9.25,21ZM18.45,9,17,7.55Zm-12,3A5.31,5.31,0,0,0,4.9,8.1,5.31,5.31,0,0,0,1,6.5,5.31,5.31,0,0,0,4.9,4.9,5.31,5.31,0,0,0,6.5,1,5.31,5.31,0,0,0,8.1,4.9,5.31,5.31,0,0,0,12,6.5,5.46,5.46,0,0,0,6.5,12Z\"/>\n",
              "  </svg>\n",
              "    </button>\n",
              "    <script>\n",
              "      (() => {\n",
              "      const buttonEl =\n",
              "        document.querySelector('#id_1a62f3e8-754f-43ca-ae2c-bbf18f45bdb8 button.colab-df-generate');\n",
              "      buttonEl.style.display =\n",
              "        google.colab.kernel.accessAllowed ? 'block' : 'none';\n",
              "\n",
              "      buttonEl.onclick = () => {\n",
              "        google.colab.notebook.generateWithVariable('df_clean');\n",
              "      }\n",
              "      })();\n",
              "    </script>\n",
              "  </div>\n",
              "\n",
              "    </div>\n",
              "  </div>\n"
            ],
            "text/plain": [
              "                                                    clean\n",
              "0       little sometimes disease magazine news show na...\n",
              "1                                    where's mr bergstrom\n",
              "2              know i'd sure talk touch lesson plan teach\n",
              "3                                       life worth living\n",
              "4       poll open end recess case decided put thought ...\n",
              "...                                                   ...\n",
              "131835                                      dye shoe pink\n",
              "131846  mr bergstrom request pleasure company mr bergs...\n",
              "131847                                  good morning lisa\n",
              "131849                      see class lyme disease turned\n",
              "131850                                        psy cho tic\n",
              "\n",
              "[90513 rows x 1 columns]"
            ]
          },
          "execution_count": 17,
          "metadata": {},
          "output_type": "execute_result"
        }
      ],
      "source": [
        "df_clean = df_clean.drop(columns=['spoken_words'])\n",
        "df_clean"
      ]
    },
    {
      "cell_type": "markdown",
      "metadata": {
        "id": "cxaqIf_RgYYO"
      },
      "source": [
        "The **`WordCloud`** library in Python is used to create visual representations of text data, where word size reflects its frequency or importance. It offers customizable options like background color, dimensions, and stop word filtering, making it a powerful tool for quickly analyzing text patterns."
      ]
    },
    {
      "cell_type": "code",
      "execution_count": null,
      "metadata": {
        "colab": {
          "base_uri": "https://localhost:8080/",
          "height": 844
        },
        "id": "H4VmBO_0_0iq",
        "outputId": "34dba771-cb1c-4b3c-98d5-6f0cb24c5db3"
      },
      "outputs": [
        {
          "data": {
            "image/png": "[encoded data removed]",
            "text/plain": [
              "<Figure size 1800x1000 with 1 Axes>"
            ]
          },
          "metadata": {},
          "output_type": "display_data"
        }
      ],
      "source": [
        "# TODO: Combine all cleaned texts into a single string (≈1 line)\n",
        "\n",
        "wc = WordCloud(\n",
        "    background_color='white',\n",
        "    stopwords=stop_words,\n",
        "    max_words=200,\n",
        "    height=600,\n",
        "    width=400,\n",
        ").generate(text)\n",
        "\n",
        "plt.figure(figsize=(18, 10))\n",
        "plt.title('Top Words in Simpsons Dataset', fontdict={'size': 22, 'verticalalignment': 'bottom'})\n",
        "plt.imshow(wc, interpolation='bilinear')\n",
        "plt.axis(\"off\")\n",
        "plt.show()"
      ]
    },
    {
      "cell_type": "markdown",
      "metadata": {
        "id": "ib4lyInRGF0u"
      },
      "source": [
        "### 3.2- Tokenization and Phrase Detection\n",
        "\n",
        "In this section, we will tokenize cleaned sentences and use the Gensim Phrases and Phraser tools to detect common bigrams in the text."
      ]
    },
    {
      "cell_type": "markdown",
      "metadata": {
        "id": "bEoka9kSgkW2"
      },
      "source": [
        "Tokenization is the process of splitting text into individual words or tokens. In this case, we will split each sentence in `df_clean['clean']` into a list of words, preparing the text for further analysis, such as phrase detection.\n",
        "\n",
        "**Original Sentence:**  \n",
        "```python\n",
        "The quick brown fox jumps over the lazy dog.\n",
        "```\n",
        "\n",
        "**Tokenized Output:**  \n",
        "```python\n",
        "['The', 'quick', 'brown', 'fox', 'jumps', 'over', 'the', 'lazy', 'dog']\n",
        "```\n",
        "\n",
        "This step transforms the text into a format that is easier to work with in subsequent analyses."
      ]
    },
    {
      "cell_type": "code",
      "execution_count": null,
      "metadata": {
        "colab": {
          "base_uri": "https://localhost:8080/"
        },
        "id": "B8C3J4uzAoq_",
        "outputId": "2c057aff-637e-4cd0-90f5-0c2b95c634ea"
      },
      "outputs": [
        {
          "data": {
            "text/plain": [
              "[['little',\n",
              "  'sometimes',\n",
              "  'disease',\n",
              "  'magazine',\n",
              "  'news',\n",
              "  'show',\n",
              "  'natural',\n",
              "  'think'],\n",
              " [\"where's\", 'mr', 'bergstrom']]"
            ]
          },
          "execution_count": 19,
          "metadata": {},
          "output_type": "execute_result"
        }
      ],
      "source": [
        "# TODO: Tokenize sentences (≈1 line)\n",
        "\n",
        "sentences[:2]"
      ]
    },
    {
      "cell_type": "markdown",
      "metadata": {
        "id": "a41n2ECWha7T"
      },
      "source": [
        "In this part, we perform two key tasks: detecting common **bigrams** (pairs of words) in the text and calculating the **frequency** of each word, including bigrams, in the dataset.\n",
        "\n",
        "The `Phrases` tool from Gensim is used to detect common bigrams in the tokenized sentences. The `min_count ` argument ensures that only bigrams appearing at least five times are considered, and `threshold ` filters out less significant bigrams. The `Phraser` tool speeds up the transformation by creating a more efficient bigram model.\n",
        "\n",
        "The model is applied to the tokenized sentences, enriching the text with detected bigrams.\n",
        "\n",
        "If the input text contains the sentences:  \n",
        "- \"The quick brown fox\"\n",
        "- \"The quick fox jumps\"\n",
        "\n",
        "After bigram detection, common bigrams like `(\"quick\", \"fox\")` might be added."
      ]
    },
    {
      "cell_type": "code",
      "execution_count": null,
      "metadata": {
        "id": "IRM6-1FYAotG"
      },
      "outputs": [],
      "source": [
        "# TODO: Detect bigrams & Transform sentences to include detected bigrams (≈3 lines)\n"
      ]
    },
    {
      "cell_type": "markdown",
      "metadata": {
        "id": "M95W822chf20"
      },
      "source": [
        "Use `defaultdict` to count how often each word (including bigrams) appears across all sentences. then print total number of unique words."
      ]
    },
    {
      "cell_type": "code",
      "execution_count": null,
      "metadata": {
        "colab": {
          "base_uri": "https://localhost:8080/"
        },
        "id": "bln6Ev5yAovX",
        "outputId": "48b8844b-22b3-45a4-92ed-40da0b0586b9"
      },
      "outputs": [],
      "source": [
        "# TODO: Calculate word frequencies (≈4 lines)\n",
        "\n",
        "print(f\"Total unique words: {len(word_freq)}\")"
      ]
    },
    {
      "cell_type": "markdown",
      "metadata": {
        "id": "5MCuBV8IGib_"
      },
      "source": [
        "### 3.3- Co-occurrence Matrix\n",
        "\n",
        "In this section, we will build a co-occurrence matrix to analyze how often two words appear together within a specific context window.\n",
        "\n",
        "The **context window** defines how many words before and after a given word will be considered as its context. For example, a context window size of 2 means each word is compared with the two words before and after it.\n",
        "\n",
        "A threshold for word frequency (`min_freq = 10`) ensures that only words appearing at least 10 times in the text are included in the vocabulary. This reduces noise from infrequent words.\n",
        "\n",
        "The **co-occurrence matrix** is a square matrix where both rows and columns represent the words in the filtered vocabulary. If the vocabulary size is $N$, which is the number of unique words, the matrix will have a shape of $(N \\times N)$. Each entry $[i, j]$ in the matrix shows the count of how often word $i$ appears with word $j$ within the context window.\n",
        "\n",
        "For each sentence, we iterate through its words. For each word, its context (words within the context window) is identified, and the corresponding matrix entries are incremented. A larger context window increases the number of words included as context for each word, leading to more entries being updated in the matrix. Conversely, a smaller window focuses on closer relationships, resulting in sparser updates.\n",
        "\n",
        "Let's see an example. Consider the following sentence with context window of $2$\n",
        "```python\n",
        "\"The quick brown fox jumps.\"\n",
        "```\n",
        "\n",
        "For the word `\"quick\"`, its context words are `\"the\"`, `\"brown\"`, and `\"fox\"`. The co-occurrence matrix will be updated at positions corresponding to these pairs:  \n",
        "```python\n",
        "('quick', 'the'), ('quick', 'brown'), ('quick', 'fox')\n",
        "```\n",
        "\n",
        "This is repeated for each word in the sentence."
      ]
    },
    {
      "cell_type": "code",
      "execution_count": null,
      "metadata": {
        "colab": {
          "base_uri": "https://localhost:8080/"
        },
        "id": "kx1l7zS_Aoxm",
        "outputId": "f44648ce-34b6-4366-9cfe-07310deecf0d"
      },
      "outputs": [],
      "source": [
        "CONTEXT_WINDOW = 2\n",
        "min_freq = 10\n",
        "\n",
        "# TODO: Update the vocabulary co-occurrence matrix (≈13 lines)\n",
        "\n",
        "print(f\"Co-occurrence Matrix Shape: {co_occurrence_matrix.shape}\")"
      ]
    },
    {
      "cell_type": "markdown",
      "metadata": {
        "id": "JirksD_GHmZq"
      },
      "source": [
        "### 3.4- SVD\n",
        "\n",
        "In this section, students will apply Singular Value Decomposition (SVD) to reduce the dimensionality of the co-occurrence matrix and visualize word embeddings in a 2D and 3D space.\n",
        "\n",
        "After performing SVD on the co-occurrence matrix, it is factorized into three matrices:\n",
        "- $U$: Represents the left singular vectors, capturing word relationships.\n",
        "- $\\Sigma$: A diagonal matrix of singular values, representing the importance of each dimension.\n",
        "- $V^T$: Represents the right singular vectors, capturing document or context relationships.\n",
        "\n",
        "We use the $U$ matrix as the **new word embeddings** because it captures word-to-word relationships in a reduced-dimensional space. By truncating $U$ to the top $k$ dimensions (corresponding to the largest singular values in $\\Sigma$), we retain the most important features while discarding noise and less informative components."
      ]
    },
    {
      "cell_type": "code",
      "execution_count": null,
      "metadata": {
        "id": "diJHp6DZHdTA"
      },
      "outputs": [],
      "source": [
        "n_components = 64\n",
        "# TODO: Perform SVD using scipy.sparse.linalg.svds it's more efficient (≈1 line)\n",
        "\n",
        "reduced_embeddings = u"
      ]
    },
    {
      "cell_type": "code",
      "execution_count": null,
      "metadata": {
        "colab": {
          "base_uri": "https://localhost:8080/",
          "height": 444
        },
        "id": "vYbj_NF_HdYS",
        "outputId": "71765d02-65cc-43e6-87e7-0a71cd05fd94"
      },
      "outputs": [],
      "source": [
        "def visualize_embeddings(embeddings, vocab, dim=2, num_words=100):\n",
        "    \"\"\"\n",
        "    Visualizes word embeddings in 2D or 3D.\n",
        "\n",
        "    Args:\n",
        "    - embeddings: Reduced embeddings (numpy array).\n",
        "    - vocab: List of words corresponding to embeddings.\n",
        "    - dim: Dimension of visualization (2 or 3).\n",
        "    - num_words: Number of words to visualize.\n",
        "    \"\"\"\n",
        "    if dim not in [2, 3]:\n",
        "        raise ValueError(\"Visualization dimension must be 2 or 3.\")\n",
        "\n",
        "    # TODO: Randomly select a subset of words and their embeddings (≈3 lines)\n",
        "\n",
        "    if dim == 2:\n",
        "        df = pd.DataFrame({\n",
        "            'word': subset_vocab,\n",
        "            'x': subset_embeddings[:, 0],\n",
        "            'y': subset_embeddings[:, 1]\n",
        "        })\n",
        "\n",
        "        # Plot 2D visualization\n",
        "        plt.figure(figsize=(12, 8))\n",
        "        plt.scatter(df['x'], df['y'], alpha=0.7, edgecolors='k')\n",
        "        for i, word in enumerate(df['word']):\n",
        "            plt.text(df['x'][i], df['y'][i], word, fontsize=9)\n",
        "        plt.title('2D Visualization of Word Embeddings')\n",
        "        plt.xlabel('Component 1')\n",
        "        plt.ylabel('Component 2')\n",
        "        plt.show()\n",
        "\n",
        "    elif dim == 3:\n",
        "        fig = plt.figure(figsize=(12, 8))\n",
        "        ax = fig.add_subplot(111, projection='3d')\n",
        "        ax.scatter(subset_embeddings[:, 0], subset_embeddings[:, 1], subset_embeddings[:, 2], alpha=0.7, edgecolors='k')\n",
        "        for i, word in enumerate(subset_vocab):\n",
        "            ax.text(subset_embeddings[i, 0], subset_embeddings[i, 1], subset_embeddings[i, 2], word, fontsize=9)\n",
        "        ax.set_title('3D Visualization of Word Embeddings')\n",
        "        ax.set_xlabel('Component 1')\n",
        "        ax.set_ylabel('Component 2')\n",
        "        ax.set_zlabel('Component 3')\n",
        "        plt.show()\n",
        "\n",
        "visualize_embeddings(reduced_embeddings, vocab, dim=2, num_words=15)"
      ]
    },
    {
      "cell_type": "code",
      "execution_count": null,
      "metadata": {
        "colab": {
          "base_uri": "https://localhost:8080/",
          "height": 644
        },
        "id": "Na3IQtObOmZC",
        "outputId": "3e7fe735-1161-423b-8f16-05f2aba7e67d"
      },
      "outputs": [],
      "source": [
        "visualize_embeddings(reduced_embeddings, vocab, dim=3, num_words=10)"
      ]
    },
    {
      "cell_type": "markdown",
      "metadata": {
        "id": "u78GCUxqLsdg"
      },
      "source": [
        "### 3.5- Similarity\n",
        "\n",
        "In this part, we will compute cosine similarity between word embeddings to find words that are semantically similar or dissimilar. Cosine similarity is a measure of similarity between two vectors, calculated by measuring the cosine of the angle between them. A cosine similarity close to 1 indicates high similarity, while a value close to -1 indicates dissimilarity.\n",
        "\n",
        "1. **get_similar_words**:  \n",
        "   This function computes the similarity between a given word and all other words in the vocabulary. It returns the top N words most similar to the given word, based on cosine similarity.\n",
        "\n",
        "2. **get_dissimilar_words**:  \n",
        "   This function works similarly to `get_similar_words` but returns words that are the most dissimilar to the input word. It finds the top N words that have the lowest cosine similarity to the input word.\n",
        "\n",
        "3. **get_closest_words_to_vector**:  \n",
        "   This function finds the closest words to a random vector in the embedding space. It calculates the cosine similarity between the random vector and all word embeddings and returns the top N closest words.\n",
        "\n",
        "4. **find_analogy**:  \n",
        "   This function solves word analogies like \"king - man + woman = ?\" by subtracting the vector of word B from word A and adding the vector of word C. The resulting vector represents the analogy, and the function returns the words closest to this analogy vector.\n",
        "\n",
        "5. **get_neighbors_of_group**:  \n",
        "   This function calculates the collective nearest neighbors for a group of words. It averages the word vectors of the given group of words and finds the most similar words to this average vector."
      ]
    },
    {
      "cell_type": "code",
      "execution_count": null,
      "metadata": {
        "id": "_H_mf9CKLqWF"
      },
      "outputs": [],
      "source": [
        "# Define a function to calculate cosine similarity\n",
        "def get_similar_words(word, top_n=5, embedding_dim=10):\n",
        "    \"\"\"\n",
        "    Finds similar words based on cosine similarity.\n",
        "\n",
        "    Args:\n",
        "    - word: The word to find similarities for.\n",
        "    - top_n: Number of similar words to return.\n",
        "    - embedding_dim: Dimensionality of embeddings to use.\n",
        "\n",
        "    Returns:\n",
        "    - List of tuples with similar words and their similarity scores.\n",
        "    \"\"\"\n",
        "    # TODO: Use the selected dimensions for similarity calculation (≈5 lines)\n",
        "    pass"
      ]
    },
    {
      "cell_type": "code",
      "execution_count": null,
      "metadata": {
        "colab": {
          "base_uri": "https://localhost:8080/"
        },
        "id": "KKG3rRgkx1Ua",
        "outputId": "d63079ba-9c2d-48ab-efb6-630f9d015152"
      },
      "outputs": [],
      "source": [
        "# Display some similar words to main characters of simpsons (homer , lisa , bart , ...)\n",
        "# For example we know homer is lazy and hopeless can embeddings caputure this ?\n",
        "# Adjust your embedding_dim\n",
        "word = 'homer'"
      ]
    },
    {
      "cell_type": "code",
      "execution_count": null,
      "metadata": {
        "colab": {
          "base_uri": "https://localhost:8080/"
        },
        "id": "drDEIINp6QrD",
        "outputId": "da0960a8-d0e4-4680-c3bb-df757cbf8607"
      },
      "outputs": [],
      "source": [
        "# Checkout lisa\n",
        "word = 'lisa'"
      ]
    },
    {
      "cell_type": "code",
      "execution_count": null,
      "metadata": {
        "colab": {
          "base_uri": "https://localhost:8080/"
        },
        "id": "8u0P89TX6bhY",
        "outputId": "16ca158b-401f-415c-9cd9-eefc02cfffac"
      },
      "outputs": [],
      "source": [
        "# What about bart\n",
        "word = 'bart'"
      ]
    },
    {
      "cell_type": "code",
      "execution_count": null,
      "metadata": {
        "colab": {
          "base_uri": "https://localhost:8080/"
        },
        "id": "7XtRddIjLqYP",
        "outputId": "5afd9ab3-3bc7-4b89-c8ad-32b9f4f46a42"
      },
      "outputs": [
        {
          "name": "stdout",
          "output_type": "stream",
          "text": [
            "Words dissimilar to 'homer': [('severe', -0.9972801), ('cured', -0.9936608), ('state_capital', -0.9936375), (\"o'clock\", -0.9923287), ('becomes', -0.9895474)]\n"
          ]
        }
      ],
      "source": [
        "def get_dissimilar_words(word, top_n=5, embedding_dim=10):\n",
        "    \"\"\"\n",
        "    Finds dissimilar words based on cosine similarity.\n",
        "\n",
        "    Args:\n",
        "    - word: The word to find dissimilarities for.\n",
        "    - top_n: Number of dissimilar words to return.\n",
        "    - embedding_dim: Dimensionality of embeddings to use.\n",
        "\n",
        "    Returns:\n",
        "    - List of tuples with dissimilar words and their similarity scores.\n",
        "    \"\"\"\n",
        "    # TODO: Use the selected dimensions for similarity calculation (≈5 lines)\n",
        "    pass\n",
        "\n",
        "# TODO: Find dissimilar words to 'homer' (≈2 line)"
      ]
    },
    {
      "cell_type": "code",
      "execution_count": null,
      "metadata": {
        "colab": {
          "base_uri": "https://localhost:8080/"
        },
        "id": "10w_Bq22LqaW",
        "outputId": "ebce9da4-f828-4e99-90dd-6d7790e69131"
      },
      "outputs": [
        {
          "name": "stdout",
          "output_type": "stream",
          "text": [
            "Words closest to the random vector: [('wealth', 0.8986273259615769), ('opinion', 0.8345061125823161), ('laser', 0.8325551371329472), ('hire', 0.8026285758002211), ('stanley', 0.7995809838037649)]\n"
          ]
        }
      ],
      "source": [
        "def get_closest_words_to_vector(vector, top_n=5, embedding_dim=10):\n",
        "    \"\"\"\n",
        "    Finds words closest to a given vector in embedding space.\n",
        "\n",
        "    Args:\n",
        "    - vector: A vector (numpy array) to compare against embeddings.\n",
        "    - top_n: Number of closest words to return.\n",
        "    - embedding_dim: Dimensionality of embeddings to use.\n",
        "\n",
        "    Returns:\n",
        "    - List of tuples with closest words and their similarity scores.\n",
        "    \"\"\"\n",
        "    # TODO: find the closest words to the given vector (≈5 lines)\n",
        "    pass\n",
        "\n",
        "# TODO: Find closest words to a random vector (≈3 lines)\n",
        "# are the closest word to random vector similar to each other ?\n"
      ]
    },
    {
      "cell_type": "code",
      "execution_count": null,
      "metadata": {
        "colab": {
          "base_uri": "https://localhost:8080/"
        },
        "id": "JHBkMayYLqdL",
        "outputId": "a354504a-2e9c-47a4-d278-05bb626a3958"
      },
      "outputs": [
        {
          "name": "stdout",
          "output_type": "stream",
          "text": [
            "Result of analogy 'bart - man + woman': [(\"i've_waiting\", 0.91323423), ('banned', 0.8903804), ('mystery', 0.8787862), ('long', 0.8766972), ('break', 0.87667096), ('detroit', 0.86488664)]\n"
          ]
        }
      ],
      "source": [
        "def find_analogy(word_a, word_b, word_c, top_n=1, embedding_dim=10):\n",
        "    \"\"\"\n",
        "    Solves word analogy: word_a - word_b + word_c = ?\n",
        "\n",
        "    Args:\n",
        "    - word_a, word_b, word_c: Words for the analogy equation.\n",
        "    - top_n: Number of closest words to return.\n",
        "    - embedding_dim: Dimensionality of embeddings to use.\n",
        "\n",
        "    Returns:\n",
        "    - List of tuples with the closest words and their similarity scores.\n",
        "    \"\"\"\n",
        "    # TODO: Implement the analogy equation (≈8 lines)\n",
        "    pass\n",
        "\n",
        "# Let's evaluate if the word embeddings can identify relationships and analogies between words.\n",
        "analogy_result = find_analogy('bart', 'man', 'woman', top_n=6, embedding_dim=10)\n",
        "print(\"Result of analogy 'bart - man + woman':\", analogy_result)"
      ]
    },
    {
      "cell_type": "code",
      "execution_count": null,
      "metadata": {
        "colab": {
          "base_uri": "https://localhost:8080/"
        },
        "id": "A_No2UqfPKPC",
        "outputId": "2ef4a5c3-d509-4cf7-9f92-3ad2e7980d35"
      },
      "outputs": [
        {
          "name": "stdout",
          "output_type": "stream",
          "text": [
            "Neighbors of the group ['homer', 'bart']: [('experiment', 0.9549409), ('buster', 0.94156414), ('grandfather', 0.9339998), ('address', 0.92143565), ('post_office', 0.9203641)]\n"
          ]
        }
      ],
      "source": [
        "def get_neighbors_of_group(words, top_n=5, embedding_dim=10):\n",
        "    \"\"\"\n",
        "    Finds nearest neighbors for a group of words.\n",
        "\n",
        "    Args:\n",
        "    - words: List of words to find collective neighbors for.\n",
        "    - top_n: Number of neighbors to return.\n",
        "    - embedding_dim: Dimensionality of embeddings to use.\n",
        "\n",
        "    Returns:\n",
        "    - List of tuples with the closest words and their similarity scores.\n",
        "    \"\"\"\n",
        "    # TODO: find the neighbors of the group of words (≈6 lines)\n",
        "    pass\n",
        "\n",
        "# TODO: Find neighbors of the group ['homer', 'bart'] (≈1 line)\n",
        "\n",
        "print(\"Neighbors of the group ['homer', 'bart']:\", group_neighbors)"
      ]
    },
    {
      "cell_type": "markdown",
      "metadata": {
        "id": "UxqNGMyLdzSk"
      },
      "source": [
        "## 4- Sentiment Analysis of MDB Movie Reviews\n",
        "\n",
        "In this section, we want to assign a positive/negative lable to a user review for a movie. We will use LSTM, a version of RNN, to process the embeddings. We use the previous embeddings for this section. Let's dive in!"
      ]
    },
    {
      "cell_type": "code",
      "execution_count": null,
      "metadata": {
        "id": "ISCf26hDPMHd"
      },
      "outputs": [],
      "source": [
        "import torch\n",
        "import torch.nn as nn\n",
        "from torch.utils.data import TensorDataset, DataLoader\n",
        "from sklearn.model_selection import train_test_split\n",
        "\n",
        "import re\n",
        "from tqdm import tqdm"
      ]
    },
    {
      "cell_type": "markdown",
      "metadata": {
        "id": "EB9N-7sNx1Uc"
      },
      "source": [
        "### 4.1- Dataset\n",
        "\n",
        "Here we load the dataset. the dataset consists of $5000$ reviews (the original dataset has $50000$ rows, for time constraints, we just use the first $5000$ rows of reviews) with their sentiment ,positive or negative."
      ]
    },
    {
      "cell_type": "code",
      "execution_count": null,
      "metadata": {
        "colab": {
          "base_uri": "https://localhost:8080/",
          "height": 419
        },
        "id": "ZwKEtWA4dzSl",
        "outputId": "1ac33c6a-e5a8-4aad-b705-cc28086a570e"
      },
      "outputs": [
        {
          "data": {
            "application/vnd.google.colaboratory.intrinsic+json": {
              "summary": "{\n  \"name\": \"df\",\n  \"rows\": 5000,\n  \"fields\": [\n    {\n      \"column\": \"review\",\n      \"properties\": {\n        \"dtype\": \"string\",\n        \"num_unique_values\": 4997,\n        \"samples\": [\n          \"We brought this film as a joke for a friend, and could of been our worst joke to play. The film is barely watchable, and the acting is dire. The worst child actor ever used and Hasslehoff giving a substandard performance. The plot is disgraceful and at points we was so bored we was wondering what the hell was going on. It tries to be gruesome in places but is just laughable.<br /><br />Just terrible\",\n          \"The movie is really about choices. In the oppressed state of affairs as seen in Fire, where good women had to be obedient and do what was correct in the eyes of tradition, there seemed few options for Radha and Sita. However, granted that it was not their only option. What is life without desire, Radha questions Ashok. Yes, it's true that life provides us with a number of options but how many we can take depends on a number of external factors. When your world is confined to a small Indian household, being a dutiful daughter-in-law to a silent but observant still powerful matriarch, a dutiful wife of 13 years to a man who has taken a vow of celibacy due to your not being able to have a child, a man who only wants you lying next to him to prove his strength in eliminating his desires. I felt the ladies had little choice but to find solace in each other's company. I guess the fact that so many women applauded Ms Mehta's work, was because it provided them with an option to think for themselves. An option to do what was perhaps unacceptable. The lesbian scenes I felt was merely to put that point across. Every scene in the movie from the first at the Taj Mahal to the last at the Mosque, is etched in my mind. How frustrating to be a prisoner of your feelings and desires. To feel that you had to forgo the human touch to be a dutiful wife just because it is expected of you. To have to suppress any desire you might have and to crave for the human touch. What then is the meaning of our existence one wonders. In the scene where Sita is crying alone in the room and Radha comes in to comfort her, their lips accidentally brush against each others and it awakens a feeling in them. Something they have both been deprived of.<br /><br />Bravo to Ms Mehta in translating her vision so clearly. I especially like the flashbacks to the young Radha trying to 'see' for the ocean. It is a metaphor for freedom. Freedom to choose, freedom to transport ourselves to places we would normally be unable to reach. In those scenes, it is gently told to us that her sense of duty has also been passed down from her mother who I assume lives within the rich Indian traditions of duty in marriage. The movie is beautifully filmed and enhanced by the musical score by A.R. Rahman. Since the film, I have become ardent fans of the two lead actresses and the director. I look forward to more of Ms Deepa's future productions.\",\n          \"2005 was one of the best year for movies. We had so many wonderful movies, like Batman Begins, Sin City, Corpse Bride, A History of Violence.....Coming up we also got Brokeback Mountain, King Kong....But if this year the only great movie that came out was Everything Is Illuminated, then we wouldn't miss all this year has brought. The first movie as a director of the talented Liev Schreiber is a delightful, heart-warming, touching drama that also brings one of Elijah Wood's best roles. He is perfect as Jonathan, a curious man that heads for Ukraine to find the woman who saved his Grandfather in World War II. Liev Schreiber, who also writes the movie, conducts a masterpiece, with memorable scenes and (a lot of) funny quotes. This here is a genuine mixture of Comedy with Drama, bringing a movie that will be commented years from now. A serious Oscar contender, Everything is Illuminated is a powerful, original, and, why not say, illuminated movie. But there's one thing you should remember while entering the movie: leave normal behind. This is special.------9/10\"\n        ],\n        \"semantic_type\": \"\",\n        \"description\": \"\"\n      }\n    },\n    {\n      \"column\": \"sentiment\",\n      \"properties\": {\n        \"dtype\": \"category\",\n        \"num_unique_values\": 2,\n        \"samples\": [\n          \"negative\",\n          \"positive\"\n        ],\n        \"semantic_type\": \"\",\n        \"description\": \"\"\n      }\n    }\n  ]\n}",
              "type": "dataframe",
              "variable_name": "df"
            },
            "text/html": [
              "\n",
              "  <div id=\"df-9353e4f9-4405-4ea7-977b-06b9aae80864\" class=\"colab-df-container\">\n",
              "    <div>\n",
              "<style scoped>\n",
              "    .dataframe tbody tr th:only-of-type {\n",
              "        vertical-align: middle;\n",
              "    }\n",
              "\n",
              "    .dataframe tbody tr th {\n",
              "        vertical-align: top;\n",
              "    }\n",
              "\n",
              "    .dataframe thead th {\n",
              "        text-align: right;\n",
              "    }\n",
              "</style>\n",
              "<table border=\"1\" class=\"dataframe\">\n",
              "  <thead>\n",
              "    <tr style=\"text-align: right;\">\n",
              "      <th></th>\n",
              "      <th>review</th>\n",
              "      <th>sentiment</th>\n",
              "    </tr>\n",
              "  </thead>\n",
              "  <tbody>\n",
              "    <tr>\n",
              "      <th>0</th>\n",
              "      <td>One of the other reviewers has mentioned that ...</td>\n",
              "      <td>positive</td>\n",
              "    </tr>\n",
              "    <tr>\n",
              "      <th>1</th>\n",
              "      <td>A wonderful little production. &lt;br /&gt;&lt;br /&gt;The...</td>\n",
              "      <td>positive</td>\n",
              "    </tr>\n",
              "    <tr>\n",
              "      <th>2</th>\n",
              "      <td>I thought this was a wonderful way to spend ti...</td>\n",
              "      <td>positive</td>\n",
              "    </tr>\n",
              "    <tr>\n",
              "      <th>3</th>\n",
              "      <td>Basically there's a family where a little boy ...</td>\n",
              "      <td>negative</td>\n",
              "    </tr>\n",
              "    <tr>\n",
              "      <th>4</th>\n",
              "      <td>Petter Mattei's \"Love in the Time of Money\" is...</td>\n",
              "      <td>positive</td>\n",
              "    </tr>\n",
              "    <tr>\n",
              "      <th>...</th>\n",
              "      <td>...</td>\n",
              "      <td>...</td>\n",
              "    </tr>\n",
              "    <tr>\n",
              "      <th>4995</th>\n",
              "      <td>An interesting slasher film with multiple susp...</td>\n",
              "      <td>negative</td>\n",
              "    </tr>\n",
              "    <tr>\n",
              "      <th>4996</th>\n",
              "      <td>i watched this series when it first came out i...</td>\n",
              "      <td>positive</td>\n",
              "    </tr>\n",
              "    <tr>\n",
              "      <th>4997</th>\n",
              "      <td>Once again Jet Li brings his charismatic prese...</td>\n",
              "      <td>positive</td>\n",
              "    </tr>\n",
              "    <tr>\n",
              "      <th>4998</th>\n",
              "      <td>I rented this movie, after hearing Chris Gore ...</td>\n",
              "      <td>negative</td>\n",
              "    </tr>\n",
              "    <tr>\n",
              "      <th>4999</th>\n",
              "      <td>This was a big disappointment for me. I think ...</td>\n",
              "      <td>negative</td>\n",
              "    </tr>\n",
              "  </tbody>\n",
              "</table>\n",
              "<p>5000 rows × 2 columns</p>\n",
              "</div>\n",
              "    <div class=\"colab-df-buttons\">\n",
              "\n",
              "  <div class=\"colab-df-container\">\n",
              "    <button class=\"colab-df-convert\" onclick=\"convertToInteractive('df-9353e4f9-4405-4ea7-977b-06b9aae80864')\"\n",
              "            title=\"Convert this dataframe to an interactive table.\"\n",
              "            style=\"display:none;\">\n",
              "\n",
              "  <svg xmlns=\"http://www.w3.org/2000/svg\" height=\"24px\" viewBox=\"0 -960 960 960\">\n",
              "    <path d=\"M120-120v-720h720v720H120Zm60-500h600v-160H180v160Zm220 220h160v-160H400v160Zm0 220h160v-160H400v160ZM180-400h160v-160H180v160Zm440 0h160v-160H620v160ZM180-180h160v-160H180v160Zm440 0h160v-160H620v160Z\"/>\n",
              "  </svg>\n",
              "    </button>\n",
              "\n",
              "  <style>\n",
              "    .colab-df-container {\n",
              "      display:flex;\n",
              "      gap: 12px;\n",
              "    }\n",
              "\n",
              "    .colab-df-convert {\n",
              "      background-color: #E8F0FE;\n",
              "      border: none;\n",
              "      border-radius: 50%;\n",
              "      cursor: pointer;\n",
              "      display: none;\n",
              "      fill: #1967D2;\n",
              "      height: 32px;\n",
              "      padding: 0 0 0 0;\n",
              "      width: 32px;\n",
              "    }\n",
              "\n",
              "    .colab-df-convert:hover {\n",
              "      background-color: #E2EBFA;\n",
              "      box-shadow: 0px 1px 2px rgba(60, 64, 67, 0.3), 0px 1px 3px 1px rgba(60, 64, 67, 0.15);\n",
              "      fill: #174EA6;\n",
              "    }\n",
              "\n",
              "    .colab-df-buttons div {\n",
              "      margin-bottom: 4px;\n",
              "    }\n",
              "\n",
              "    [theme=dark] .colab-df-convert {\n",
              "      background-color: #3B4455;\n",
              "      fill: #D2E3FC;\n",
              "    }\n",
              "\n",
              "    [theme=dark] .colab-df-convert:hover {\n",
              "      background-color: #434B5C;\n",
              "      box-shadow: 0px 1px 3px 1px rgba(0, 0, 0, 0.15);\n",
              "      filter: drop-shadow(0px 1px 2px rgba(0, 0, 0, 0.3));\n",
              "      fill: #FFFFFF;\n",
              "    }\n",
              "  </style>\n",
              "\n",
              "    <script>\n",
              "      const buttonEl =\n",
              "        document.querySelector('#df-9353e4f9-4405-4ea7-977b-06b9aae80864 button.colab-df-convert');\n",
              "      buttonEl.style.display =\n",
              "        google.colab.kernel.accessAllowed ? 'block' : 'none';\n",
              "\n",
              "      async function convertToInteractive(key) {\n",
              "        const element = document.querySelector('#df-9353e4f9-4405-4ea7-977b-06b9aae80864');\n",
              "        const dataTable =\n",
              "          await google.colab.kernel.invokeFunction('convertToInteractive',\n",
              "                                                    [key], {});\n",
              "        if (!dataTable) return;\n",
              "\n",
              "        const docLinkHtml = 'Like what you see? Visit the ' +\n",
              "          '<a target=\"_blank\" href=https://colab.research.google.com/notebooks/data_table.ipynb>data table notebook</a>'\n",
              "          + ' to learn more about interactive tables.';\n",
              "        element.innerHTML = '';\n",
              "        dataTable['output_type'] = 'display_data';\n",
              "        await google.colab.output.renderOutput(dataTable, element);\n",
              "        const docLink = document.createElement('div');\n",
              "        docLink.innerHTML = docLinkHtml;\n",
              "        element.appendChild(docLink);\n",
              "      }\n",
              "    </script>\n",
              "  </div>\n",
              "\n",
              "\n",
              "<div id=\"df-63732987-9070-41e0-9d4c-60ce714cab53\">\n",
              "  <button class=\"colab-df-quickchart\" onclick=\"quickchart('df-63732987-9070-41e0-9d4c-60ce714cab53')\"\n",
              "            title=\"Suggest charts\"\n",
              "            style=\"display:none;\">\n",
              "\n",
              "<svg xmlns=\"http://www.w3.org/2000/svg\" height=\"24px\"viewBox=\"0 0 24 24\"\n",
              "     width=\"24px\">\n",
              "    <g>\n",
              "        <path d=\"M19 3H5c-1.1 0-2 .9-2 2v14c0 1.1.9 2 2 2h14c1.1 0 2-.9 2-2V5c0-1.1-.9-2-2-2zM9 17H7v-7h2v7zm4 0h-2V7h2v10zm4 0h-2v-4h2v4z\"/>\n",
              "    </g>\n",
              "</svg>\n",
              "  </button>\n",
              "\n",
              "<style>\n",
              "  .colab-df-quickchart {\n",
              "      --bg-color: #E8F0FE;\n",
              "      --fill-color: #1967D2;\n",
              "      --hover-bg-color: #E2EBFA;\n",
              "      --hover-fill-color: #174EA6;\n",
              "      --disabled-fill-color: #AAA;\n",
              "      --disabled-bg-color: #DDD;\n",
              "  }\n",
              "\n",
              "  [theme=dark] .colab-df-quickchart {\n",
              "      --bg-color: #3B4455;\n",
              "      --fill-color: #D2E3FC;\n",
              "      --hover-bg-color: #434B5C;\n",
              "      --hover-fill-color: #FFFFFF;\n",
              "      --disabled-bg-color: #3B4455;\n",
              "      --disabled-fill-color: #666;\n",
              "  }\n",
              "\n",
              "  .colab-df-quickchart {\n",
              "    background-color: var(--bg-color);\n",
              "    border: none;\n",
              "    border-radius: 50%;\n",
              "    cursor: pointer;\n",
              "    display: none;\n",
              "    fill: var(--fill-color);\n",
              "    height: 32px;\n",
              "    padding: 0;\n",
              "    width: 32px;\n",
              "  }\n",
              "\n",
              "  .colab-df-quickchart:hover {\n",
              "    background-color: var(--hover-bg-color);\n",
              "    box-shadow: 0 1px 2px rgba(60, 64, 67, 0.3), 0 1px 3px 1px rgba(60, 64, 67, 0.15);\n",
              "    fill: var(--button-hover-fill-color);\n",
              "  }\n",
              "\n",
              "  .colab-df-quickchart-complete:disabled,\n",
              "  .colab-df-quickchart-complete:disabled:hover {\n",
              "    background-color: var(--disabled-bg-color);\n",
              "    fill: var(--disabled-fill-color);\n",
              "    box-shadow: none;\n",
              "  }\n",
              "\n",
              "  .colab-df-spinner {\n",
              "    border: 2px solid var(--fill-color);\n",
              "    border-color: transparent;\n",
              "    border-bottom-color: var(--fill-color);\n",
              "    animation:\n",
              "      spin 1s steps(1) infinite;\n",
              "  }\n",
              "\n",
              "  @keyframes spin {\n",
              "    0% {\n",
              "      border-color: transparent;\n",
              "      border-bottom-color: var(--fill-color);\n",
              "      border-left-color: var(--fill-color);\n",
              "    }\n",
              "    20% {\n",
              "      border-color: transparent;\n",
              "      border-left-color: var(--fill-color);\n",
              "      border-top-color: var(--fill-color);\n",
              "    }\n",
              "    30% {\n",
              "      border-color: transparent;\n",
              "      border-left-color: var(--fill-color);\n",
              "      border-top-color: var(--fill-color);\n",
              "      border-right-color: var(--fill-color);\n",
              "    }\n",
              "    40% {\n",
              "      border-color: transparent;\n",
              "      border-right-color: var(--fill-color);\n",
              "      border-top-color: var(--fill-color);\n",
              "    }\n",
              "    60% {\n",
              "      border-color: transparent;\n",
              "      border-right-color: var(--fill-color);\n",
              "    }\n",
              "    80% {\n",
              "      border-color: transparent;\n",
              "      border-right-color: var(--fill-color);\n",
              "      border-bottom-color: var(--fill-color);\n",
              "    }\n",
              "    90% {\n",
              "      border-color: transparent;\n",
              "      border-bottom-color: var(--fill-color);\n",
              "    }\n",
              "  }\n",
              "</style>\n",
              "\n",
              "  <script>\n",
              "    async function quickchart(key) {\n",
              "      const quickchartButtonEl =\n",
              "        document.querySelector('#' + key + ' button');\n",
              "      quickchartButtonEl.disabled = true;  // To prevent multiple clicks.\n",
              "      quickchartButtonEl.classList.add('colab-df-spinner');\n",
              "      try {\n",
              "        const charts = await google.colab.kernel.invokeFunction(\n",
              "            'suggestCharts', [key], {});\n",
              "      } catch (error) {\n",
              "        console.error('Error during call to suggestCharts:', error);\n",
              "      }\n",
              "      quickchartButtonEl.classList.remove('colab-df-spinner');\n",
              "      quickchartButtonEl.classList.add('colab-df-quickchart-complete');\n",
              "    }\n",
              "    (() => {\n",
              "      let quickchartButtonEl =\n",
              "        document.querySelector('#df-63732987-9070-41e0-9d4c-60ce714cab53 button');\n",
              "      quickchartButtonEl.style.display =\n",
              "        google.colab.kernel.accessAllowed ? 'block' : 'none';\n",
              "    })();\n",
              "  </script>\n",
              "</div>\n",
              "\n",
              "  <div id=\"id_f5310c68-dbb7-477e-a824-60f01a9fa806\">\n",
              "    <style>\n",
              "      .colab-df-generate {\n",
              "        background-color: #E8F0FE;\n",
              "        border: none;\n",
              "        border-radius: 50%;\n",
              "        cursor: pointer;\n",
              "        display: none;\n",
              "        fill: #1967D2;\n",
              "        height: 32px;\n",
              "        padding: 0 0 0 0;\n",
              "        width: 32px;\n",
              "      }\n",
              "\n",
              "      .colab-df-generate:hover {\n",
              "        background-color: #E2EBFA;\n",
              "        box-shadow: 0px 1px 2px rgba(60, 64, 67, 0.3), 0px 1px 3px 1px rgba(60, 64, 67, 0.15);\n",
              "        fill: #174EA6;\n",
              "      }\n",
              "\n",
              "      [theme=dark] .colab-df-generate {\n",
              "        background-color: #3B4455;\n",
              "        fill: #D2E3FC;\n",
              "      }\n",
              "\n",
              "      [theme=dark] .colab-df-generate:hover {\n",
              "        background-color: #434B5C;\n",
              "        box-shadow: 0px 1px 3px 1px rgba(0, 0, 0, 0.15);\n",
              "        filter: drop-shadow(0px 1px 2px rgba(0, 0, 0, 0.3));\n",
              "        fill: #FFFFFF;\n",
              "      }\n",
              "    </style>\n",
              "    <button class=\"colab-df-generate\" onclick=\"generateWithVariable('df')\"\n",
              "            title=\"Generate code using this dataframe.\"\n",
              "            style=\"display:none;\">\n",
              "\n",
              "  <svg xmlns=\"http://www.w3.org/2000/svg\" height=\"24px\"viewBox=\"0 0 24 24\"\n",
              "       width=\"24px\">\n",
              "    <path d=\"M7,19H8.4L18.45,9,17,7.55,7,17.6ZM5,21V16.75L18.45,3.32a2,2,0,0,1,2.83,0l1.4,1.43a1.91,1.91,0,0,1,.58,1.4,1.91,1.91,0,0,1-.58,1.4L9.25,21ZM18.45,9,17,7.55Zm-12,3A5.31,5.31,0,0,0,4.9,8.1,5.31,5.31,0,0,0,1,6.5,5.31,5.31,0,0,0,4.9,4.9,5.31,5.31,0,0,0,6.5,1,5.31,5.31,0,0,0,8.1,4.9,5.31,5.31,0,0,0,12,6.5,5.46,5.46,0,0,0,6.5,12Z\"/>\n",
              "  </svg>\n",
              "    </button>\n",
              "    <script>\n",
              "      (() => {\n",
              "      const buttonEl =\n",
              "        document.querySelector('#id_f5310c68-dbb7-477e-a824-60f01a9fa806 button.colab-df-generate');\n",
              "      buttonEl.style.display =\n",
              "        google.colab.kernel.accessAllowed ? 'block' : 'none';\n",
              "\n",
              "      buttonEl.onclick = () => {\n",
              "        google.colab.notebook.generateWithVariable('df');\n",
              "      }\n",
              "      })();\n",
              "    </script>\n",
              "  </div>\n",
              "\n",
              "    </div>\n",
              "  </div>\n"
            ],
            "text/plain": [
              "                                                 review sentiment\n",
              "0     One of the other reviewers has mentioned that ...  positive\n",
              "1     A wonderful little production. <br /><br />The...  positive\n",
              "2     I thought this was a wonderful way to spend ti...  positive\n",
              "3     Basically there's a family where a little boy ...  negative\n",
              "4     Petter Mattei's \"Love in the Time of Money\" is...  positive\n",
              "...                                                 ...       ...\n",
              "4995  An interesting slasher film with multiple susp...  negative\n",
              "4996  i watched this series when it first came out i...  positive\n",
              "4997  Once again Jet Li brings his charismatic prese...  positive\n",
              "4998  I rented this movie, after hearing Chris Gore ...  negative\n",
              "4999  This was a big disappointment for me. I think ...  negative\n",
              "\n",
              "[5000 rows x 2 columns]"
            ]
          },
          "execution_count": 39,
          "metadata": {},
          "output_type": "execute_result"
        }
      ],
      "source": [
        "df = pd.read_csv('IMDB Dataset_small.csv')\n",
        "df"
      ]
    },
    {
      "cell_type": "markdown",
      "metadata": {
        "id": "No2zrNByx1Ud"
      },
      "source": [
        "First, let's remove unnecessary words from each review. And also map the sentiment to numerical binary values."
      ]
    },
    {
      "cell_type": "code",
      "execution_count": null,
      "metadata": {
        "colab": {
          "base_uri": "https://localhost:8080/",
          "height": 419
        },
        "id": "Th5t91AwdzSl",
        "outputId": "09b7fbc3-593c-4e3a-fe80-efee0c5798de"
      },
      "outputs": [
        {
          "data": {
            "application/vnd.google.colaboratory.intrinsic+json": {
              "summary": "{\n  \"name\": \"df\",\n  \"rows\": 5000,\n  \"fields\": [\n    {\n      \"column\": \"review\",\n      \"properties\": {\n        \"dtype\": \"string\",\n        \"num_unique_values\": 4997,\n        \"samples\": [\n          \"We brought this film as a joke for a friend and could of been our worst joke to play The film is barely watchable and the acting is dire The worst child actor ever used and Hasslehoff giving a substandard performance The plot is disgraceful and at points we was so bored we was wondering what the hell was going on It tries to be gruesome in places but is just laughablebr br Just terrible\",\n          \"The movie is really about choices In the oppressed state of affairs as seen in Fire where good women had to be obedient and do what was correct in the eyes of tradition there seemed few options for Radha and Sita However granted that it was not their only option What is life without desire Radha questions Ashok Yes its true that life provides us with a number of options but how many we can take depends on a number of external factors When your world is confined to a small Indian household being a dutiful daughterinlaw to a silent but observant still powerful matriarch a dutiful wife of  years to a man who has taken a vow of celibacy due to your not being able to have a child a man who only wants you lying next to him to prove his strength in eliminating his desires I felt the ladies had little choice but to find solace in each others company I guess the fact that so many women applauded Ms Mehtas work was because it provided them with an option to think for themselves An option to do what was perhaps unacceptable The lesbian scenes I felt was merely to put that point across Every scene in the movie from the first at the Taj Mahal to the last at the Mosque is etched in my mind How frustrating to be a prisoner of your feelings and desires To feel that you had to forgo the human touch to be a dutiful wife just because it is expected of you To have to suppress any desire you might have and to crave for the human touch What then is the meaning of our existence one wonders In the scene where Sita is crying alone in the room and Radha comes in to comfort her their lips accidentally brush against each others and it awakens a feeling in them Something they have both been deprived ofbr br Bravo to Ms Mehta in translating her vision so clearly I especially like the flashbacks to the young Radha trying to see for the ocean It is a metaphor for freedom Freedom to choose freedom to transport ourselves to places we would normally be unable to reach In those scenes it is gently told to us that her sense of duty has also been passed down from her mother who I assume lives within the rich Indian traditions of duty in marriage The movie is beautifully filmed and enhanced by the musical score by AR Rahman Since the film I have become ardent fans of the two lead actresses and the director I look forward to more of Ms Deepas future productions\",\n          \" was one of the best year for movies We had so many wonderful movies like Batman Begins Sin City Corpse Bride A History of ViolenceComing up we also got Brokeback Mountain King KongBut if this year the only great movie that came out was Everything Is Illuminated then we wouldnt miss all this year has brought The first movie as a director of the talented Liev Schreiber is a delightful heartwarming touching drama that also brings one of Elijah Woods best roles He is perfect as Jonathan a curious man that heads for Ukraine to find the woman who saved his Grandfather in World War II Liev Schreiber who also writes the movie conducts a masterpiece with memorable scenes and a lot of funny quotes This here is a genuine mixture of Comedy with Drama bringing a movie that will be commented years from now A serious Oscar contender Everything is Illuminated is a powerful original and why not say illuminated movie But theres one thing you should remember while entering the movie leave normal behind This is special\"\n        ],\n        \"semantic_type\": \"\",\n        \"description\": \"\"\n      }\n    },\n    {\n      \"column\": \"sentiment\",\n      \"properties\": {\n        \"dtype\": \"number\",\n        \"std\": 0,\n        \"min\": 0,\n        \"max\": 1,\n        \"num_unique_values\": 2,\n        \"samples\": [\n          0,\n          1\n        ],\n        \"semantic_type\": \"\",\n        \"description\": \"\"\n      }\n    }\n  ]\n}",
              "type": "dataframe",
              "variable_name": "df"
            },
            "text/html": [
              "\n",
              "  <div id=\"df-331a8a1f-b429-4998-b56f-4fe1e7bf8364\" class=\"colab-df-container\">\n",
              "    <div>\n",
              "<style scoped>\n",
              "    .dataframe tbody tr th:only-of-type {\n",
              "        vertical-align: middle;\n",
              "    }\n",
              "\n",
              "    .dataframe tbody tr th {\n",
              "        vertical-align: top;\n",
              "    }\n",
              "\n",
              "    .dataframe thead th {\n",
              "        text-align: right;\n",
              "    }\n",
              "</style>\n",
              "<table border=\"1\" class=\"dataframe\">\n",
              "  <thead>\n",
              "    <tr style=\"text-align: right;\">\n",
              "      <th></th>\n",
              "      <th>review</th>\n",
              "      <th>sentiment</th>\n",
              "    </tr>\n",
              "  </thead>\n",
              "  <tbody>\n",
              "    <tr>\n",
              "      <th>0</th>\n",
              "      <td>One of the other reviewers has mentioned that ...</td>\n",
              "      <td>1</td>\n",
              "    </tr>\n",
              "    <tr>\n",
              "      <th>1</th>\n",
              "      <td>A wonderful little production br br The filmin...</td>\n",
              "      <td>1</td>\n",
              "    </tr>\n",
              "    <tr>\n",
              "      <th>2</th>\n",
              "      <td>I thought this was a wonderful way to spend ti...</td>\n",
              "      <td>1</td>\n",
              "    </tr>\n",
              "    <tr>\n",
              "      <th>3</th>\n",
              "      <td>Basically theres a family where a little boy J...</td>\n",
              "      <td>0</td>\n",
              "    </tr>\n",
              "    <tr>\n",
              "      <th>4</th>\n",
              "      <td>Petter Matteis Love in the Time of Money is a ...</td>\n",
              "      <td>1</td>\n",
              "    </tr>\n",
              "    <tr>\n",
              "      <th>...</th>\n",
              "      <td>...</td>\n",
              "      <td>...</td>\n",
              "    </tr>\n",
              "    <tr>\n",
              "      <th>4995</th>\n",
              "      <td>An interesting slasher film with multiple susp...</td>\n",
              "      <td>0</td>\n",
              "    </tr>\n",
              "    <tr>\n",
              "      <th>4996</th>\n",
              "      <td>i watched this series when it first came out i...</td>\n",
              "      <td>1</td>\n",
              "    </tr>\n",
              "    <tr>\n",
              "      <th>4997</th>\n",
              "      <td>Once again Jet Li brings his charismatic prese...</td>\n",
              "      <td>1</td>\n",
              "    </tr>\n",
              "    <tr>\n",
              "      <th>4998</th>\n",
              "      <td>I rented this movie after hearing Chris Gore s...</td>\n",
              "      <td>0</td>\n",
              "    </tr>\n",
              "    <tr>\n",
              "      <th>4999</th>\n",
              "      <td>This was a big disappointment for me I think t...</td>\n",
              "      <td>0</td>\n",
              "    </tr>\n",
              "  </tbody>\n",
              "</table>\n",
              "<p>5000 rows × 2 columns</p>\n",
              "</div>\n",
              "    <div class=\"colab-df-buttons\">\n",
              "\n",
              "  <div class=\"colab-df-container\">\n",
              "    <button class=\"colab-df-convert\" onclick=\"convertToInteractive('df-331a8a1f-b429-4998-b56f-4fe1e7bf8364')\"\n",
              "            title=\"Convert this dataframe to an interactive table.\"\n",
              "            style=\"display:none;\">\n",
              "\n",
              "  <svg xmlns=\"http://www.w3.org/2000/svg\" height=\"24px\" viewBox=\"0 -960 960 960\">\n",
              "    <path d=\"M120-120v-720h720v720H120Zm60-500h600v-160H180v160Zm220 220h160v-160H400v160Zm0 220h160v-160H400v160ZM180-400h160v-160H180v160Zm440 0h160v-160H620v160ZM180-180h160v-160H180v160Zm440 0h160v-160H620v160Z\"/>\n",
              "  </svg>\n",
              "    </button>\n",
              "\n",
              "  <style>\n",
              "    .colab-df-container {\n",
              "      display:flex;\n",
              "      gap: 12px;\n",
              "    }\n",
              "\n",
              "    .colab-df-convert {\n",
              "      background-color: #E8F0FE;\n",
              "      border: none;\n",
              "      border-radius: 50%;\n",
              "      cursor: pointer;\n",
              "      display: none;\n",
              "      fill: #1967D2;\n",
              "      height: 32px;\n",
              "      padding: 0 0 0 0;\n",
              "      width: 32px;\n",
              "    }\n",
              "\n",
              "    .colab-df-convert:hover {\n",
              "      background-color: #E2EBFA;\n",
              "      box-shadow: 0px 1px 2px rgba(60, 64, 67, 0.3), 0px 1px 3px 1px rgba(60, 64, 67, 0.15);\n",
              "      fill: #174EA6;\n",
              "    }\n",
              "\n",
              "    .colab-df-buttons div {\n",
              "      margin-bottom: 4px;\n",
              "    }\n",
              "\n",
              "    [theme=dark] .colab-df-convert {\n",
              "      background-color: #3B4455;\n",
              "      fill: #D2E3FC;\n",
              "    }\n",
              "\n",
              "    [theme=dark] .colab-df-convert:hover {\n",
              "      background-color: #434B5C;\n",
              "      box-shadow: 0px 1px 3px 1px rgba(0, 0, 0, 0.15);\n",
              "      filter: drop-shadow(0px 1px 2px rgba(0, 0, 0, 0.3));\n",
              "      fill: #FFFFFF;\n",
              "    }\n",
              "  </style>\n",
              "\n",
              "    <script>\n",
              "      const buttonEl =\n",
              "        document.querySelector('#df-331a8a1f-b429-4998-b56f-4fe1e7bf8364 button.colab-df-convert');\n",
              "      buttonEl.style.display =\n",
              "        google.colab.kernel.accessAllowed ? 'block' : 'none';\n",
              "\n",
              "      async function convertToInteractive(key) {\n",
              "        const element = document.querySelector('#df-331a8a1f-b429-4998-b56f-4fe1e7bf8364');\n",
              "        const dataTable =\n",
              "          await google.colab.kernel.invokeFunction('convertToInteractive',\n",
              "                                                    [key], {});\n",
              "        if (!dataTable) return;\n",
              "\n",
              "        const docLinkHtml = 'Like what you see? Visit the ' +\n",
              "          '<a target=\"_blank\" href=https://colab.research.google.com/notebooks/data_table.ipynb>data table notebook</a>'\n",
              "          + ' to learn more about interactive tables.';\n",
              "        element.innerHTML = '';\n",
              "        dataTable['output_type'] = 'display_data';\n",
              "        await google.colab.output.renderOutput(dataTable, element);\n",
              "        const docLink = document.createElement('div');\n",
              "        docLink.innerHTML = docLinkHtml;\n",
              "        element.appendChild(docLink);\n",
              "      }\n",
              "    </script>\n",
              "  </div>\n",
              "\n",
              "\n",
              "<div id=\"df-2c2a9266-d559-4f01-80dc-6cb42ec17e16\">\n",
              "  <button class=\"colab-df-quickchart\" onclick=\"quickchart('df-2c2a9266-d559-4f01-80dc-6cb42ec17e16')\"\n",
              "            title=\"Suggest charts\"\n",
              "            style=\"display:none;\">\n",
              "\n",
              "<svg xmlns=\"http://www.w3.org/2000/svg\" height=\"24px\"viewBox=\"0 0 24 24\"\n",
              "     width=\"24px\">\n",
              "    <g>\n",
              "        <path d=\"M19 3H5c-1.1 0-2 .9-2 2v14c0 1.1.9 2 2 2h14c1.1 0 2-.9 2-2V5c0-1.1-.9-2-2-2zM9 17H7v-7h2v7zm4 0h-2V7h2v10zm4 0h-2v-4h2v4z\"/>\n",
              "    </g>\n",
              "</svg>\n",
              "  </button>\n",
              "\n",
              "<style>\n",
              "  .colab-df-quickchart {\n",
              "      --bg-color: #E8F0FE;\n",
              "      --fill-color: #1967D2;\n",
              "      --hover-bg-color: #E2EBFA;\n",
              "      --hover-fill-color: #174EA6;\n",
              "      --disabled-fill-color: #AAA;\n",
              "      --disabled-bg-color: #DDD;\n",
              "  }\n",
              "\n",
              "  [theme=dark] .colab-df-quickchart {\n",
              "      --bg-color: #3B4455;\n",
              "      --fill-color: #D2E3FC;\n",
              "      --hover-bg-color: #434B5C;\n",
              "      --hover-fill-color: #FFFFFF;\n",
              "      --disabled-bg-color: #3B4455;\n",
              "      --disabled-fill-color: #666;\n",
              "  }\n",
              "\n",
              "  .colab-df-quickchart {\n",
              "    background-color: var(--bg-color);\n",
              "    border: none;\n",
              "    border-radius: 50%;\n",
              "    cursor: pointer;\n",
              "    display: none;\n",
              "    fill: var(--fill-color);\n",
              "    height: 32px;\n",
              "    padding: 0;\n",
              "    width: 32px;\n",
              "  }\n",
              "\n",
              "  .colab-df-quickchart:hover {\n",
              "    background-color: var(--hover-bg-color);\n",
              "    box-shadow: 0 1px 2px rgba(60, 64, 67, 0.3), 0 1px 3px 1px rgba(60, 64, 67, 0.15);\n",
              "    fill: var(--button-hover-fill-color);\n",
              "  }\n",
              "\n",
              "  .colab-df-quickchart-complete:disabled,\n",
              "  .colab-df-quickchart-complete:disabled:hover {\n",
              "    background-color: var(--disabled-bg-color);\n",
              "    fill: var(--disabled-fill-color);\n",
              "    box-shadow: none;\n",
              "  }\n",
              "\n",
              "  .colab-df-spinner {\n",
              "    border: 2px solid var(--fill-color);\n",
              "    border-color: transparent;\n",
              "    border-bottom-color: var(--fill-color);\n",
              "    animation:\n",
              "      spin 1s steps(1) infinite;\n",
              "  }\n",
              "\n",
              "  @keyframes spin {\n",
              "    0% {\n",
              "      border-color: transparent;\n",
              "      border-bottom-color: var(--fill-color);\n",
              "      border-left-color: var(--fill-color);\n",
              "    }\n",
              "    20% {\n",
              "      border-color: transparent;\n",
              "      border-left-color: var(--fill-color);\n",
              "      border-top-color: var(--fill-color);\n",
              "    }\n",
              "    30% {\n",
              "      border-color: transparent;\n",
              "      border-left-color: var(--fill-color);\n",
              "      border-top-color: var(--fill-color);\n",
              "      border-right-color: var(--fill-color);\n",
              "    }\n",
              "    40% {\n",
              "      border-color: transparent;\n",
              "      border-right-color: var(--fill-color);\n",
              "      border-top-color: var(--fill-color);\n",
              "    }\n",
              "    60% {\n",
              "      border-color: transparent;\n",
              "      border-right-color: var(--fill-color);\n",
              "    }\n",
              "    80% {\n",
              "      border-color: transparent;\n",
              "      border-right-color: var(--fill-color);\n",
              "      border-bottom-color: var(--fill-color);\n",
              "    }\n",
              "    90% {\n",
              "      border-color: transparent;\n",
              "      border-bottom-color: var(--fill-color);\n",
              "    }\n",
              "  }\n",
              "</style>\n",
              "\n",
              "  <script>\n",
              "    async function quickchart(key) {\n",
              "      const quickchartButtonEl =\n",
              "        document.querySelector('#' + key + ' button');\n",
              "      quickchartButtonEl.disabled = true;  // To prevent multiple clicks.\n",
              "      quickchartButtonEl.classList.add('colab-df-spinner');\n",
              "      try {\n",
              "        const charts = await google.colab.kernel.invokeFunction(\n",
              "            'suggestCharts', [key], {});\n",
              "      } catch (error) {\n",
              "        console.error('Error during call to suggestCharts:', error);\n",
              "      }\n",
              "      quickchartButtonEl.classList.remove('colab-df-spinner');\n",
              "      quickchartButtonEl.classList.add('colab-df-quickchart-complete');\n",
              "    }\n",
              "    (() => {\n",
              "      let quickchartButtonEl =\n",
              "        document.querySelector('#df-2c2a9266-d559-4f01-80dc-6cb42ec17e16 button');\n",
              "      quickchartButtonEl.style.display =\n",
              "        google.colab.kernel.accessAllowed ? 'block' : 'none';\n",
              "    })();\n",
              "  </script>\n",
              "</div>\n",
              "\n",
              "  <div id=\"id_bb819c22-047e-43ef-98b4-a68080c03845\">\n",
              "    <style>\n",
              "      .colab-df-generate {\n",
              "        background-color: #E8F0FE;\n",
              "        border: none;\n",
              "        border-radius: 50%;\n",
              "        cursor: pointer;\n",
              "        display: none;\n",
              "        fill: #1967D2;\n",
              "        height: 32px;\n",
              "        padding: 0 0 0 0;\n",
              "        width: 32px;\n",
              "      }\n",
              "\n",
              "      .colab-df-generate:hover {\n",
              "        background-color: #E2EBFA;\n",
              "        box-shadow: 0px 1px 2px rgba(60, 64, 67, 0.3), 0px 1px 3px 1px rgba(60, 64, 67, 0.15);\n",
              "        fill: #174EA6;\n",
              "      }\n",
              "\n",
              "      [theme=dark] .colab-df-generate {\n",
              "        background-color: #3B4455;\n",
              "        fill: #D2E3FC;\n",
              "      }\n",
              "\n",
              "      [theme=dark] .colab-df-generate:hover {\n",
              "        background-color: #434B5C;\n",
              "        box-shadow: 0px 1px 3px 1px rgba(0, 0, 0, 0.15);\n",
              "        filter: drop-shadow(0px 1px 2px rgba(0, 0, 0, 0.3));\n",
              "        fill: #FFFFFF;\n",
              "      }\n",
              "    </style>\n",
              "    <button class=\"colab-df-generate\" onclick=\"generateWithVariable('df')\"\n",
              "            title=\"Generate code using this dataframe.\"\n",
              "            style=\"display:none;\">\n",
              "\n",
              "  <svg xmlns=\"http://www.w3.org/2000/svg\" height=\"24px\"viewBox=\"0 0 24 24\"\n",
              "       width=\"24px\">\n",
              "    <path d=\"M7,19H8.4L18.45,9,17,7.55,7,17.6ZM5,21V16.75L18.45,3.32a2,2,0,0,1,2.83,0l1.4,1.43a1.91,1.91,0,0,1,.58,1.4,1.91,1.91,0,0,1-.58,1.4L9.25,21ZM18.45,9,17,7.55Zm-12,3A5.31,5.31,0,0,0,4.9,8.1,5.31,5.31,0,0,0,1,6.5,5.31,5.31,0,0,0,4.9,4.9,5.31,5.31,0,0,0,6.5,1,5.31,5.31,0,0,0,8.1,4.9,5.31,5.31,0,0,0,12,6.5,5.46,5.46,0,0,0,6.5,12Z\"/>\n",
              "  </svg>\n",
              "    </button>\n",
              "    <script>\n",
              "      (() => {\n",
              "      const buttonEl =\n",
              "        document.querySelector('#id_bb819c22-047e-43ef-98b4-a68080c03845 button.colab-df-generate');\n",
              "      buttonEl.style.display =\n",
              "        google.colab.kernel.accessAllowed ? 'block' : 'none';\n",
              "\n",
              "      buttonEl.onclick = () => {\n",
              "        google.colab.notebook.generateWithVariable('df');\n",
              "      }\n",
              "      })();\n",
              "    </script>\n",
              "  </div>\n",
              "\n",
              "    </div>\n",
              "  </div>\n"
            ],
            "text/plain": [
              "                                                 review  sentiment\n",
              "0     One of the other reviewers has mentioned that ...          1\n",
              "1     A wonderful little production br br The filmin...          1\n",
              "2     I thought this was a wonderful way to spend ti...          1\n",
              "3     Basically theres a family where a little boy J...          0\n",
              "4     Petter Matteis Love in the Time of Money is a ...          1\n",
              "...                                                 ...        ...\n",
              "4995  An interesting slasher film with multiple susp...          0\n",
              "4996  i watched this series when it first came out i...          1\n",
              "4997  Once again Jet Li brings his charismatic prese...          1\n",
              "4998  I rented this movie after hearing Chris Gore s...          0\n",
              "4999  This was a big disappointment for me I think t...          0\n",
              "\n",
              "[5000 rows x 2 columns]"
            ]
          },
          "execution_count": 40,
          "metadata": {},
          "output_type": "execute_result"
        }
      ],
      "source": [
        "def preprocess_string(s):\n",
        "    # Remove all non-word characters (everything except numbers and letters)\n",
        "\n",
        "    # Replace all runs of whitespaces with no space\n",
        "\n",
        "    # replace digits with no space\n",
        "\n",
        "    return s\n",
        "\n",
        "# TODO: Apply the preprocessing function to the 'review' column (≈1 line)\n",
        "\n",
        "# TODO: make the 'sentiment' column numerical (≈1 line)\n",
        "\n",
        "df"
      ]
    },
    {
      "cell_type": "markdown",
      "metadata": {
        "id": "RevvU0WQx1Ud"
      },
      "source": [
        "Plot the histogram of reviews lengths."
      ]
    },
    {
      "cell_type": "code",
      "execution_count": null,
      "metadata": {
        "colab": {
          "base_uri": "https://localhost:8080/",
          "height": 447
        },
        "id": "sG2l7r-8dzSl",
        "outputId": "cd3b0ad6-f21b-42ab-bb5a-f220b78751f8"
      },
      "outputs": [
        {
          "data": {
            "text/plain": [
              "<Axes: >"
            ]
          },
          "execution_count": 41,
          "metadata": {},
          "output_type": "execute_result"
        },
        {
          "data": {
            "image/png": "[encoded data removed]",
            "text/plain": [
              "<Figure size 640x480 with 1 Axes>"
            ]
          },
          "metadata": {},
          "output_type": "display_data"
        }
      ],
      "source": [
        "# TODO: Plot the histogram of review lengths (number of words) (≈2 line)\n"
      ]
    },
    {
      "cell_type": "markdown",
      "metadata": {
        "id": "QR_leb3Dx1Ud"
      },
      "source": [
        "Write the tokenize function to tokenize each word. You can use your previous vocabulary. This cell will take about $2$ minutes."
      ]
    },
    {
      "cell_type": "code",
      "execution_count": null,
      "metadata": {
        "colab": {
          "base_uri": "https://localhost:8080/",
          "height": 453
        },
        "id": "6jWDSmFgdzSl",
        "outputId": "7a0f27b1-8b9d-4a0a-f1ba-4241591c23a9"
      },
      "outputs": [
        {
          "data": {
            "text/html": [
              "<div>\n",
              "<style scoped>\n",
              "    .dataframe tbody tr th:only-of-type {\n",
              "        vertical-align: middle;\n",
              "    }\n",
              "\n",
              "    .dataframe tbody tr th {\n",
              "        vertical-align: top;\n",
              "    }\n",
              "\n",
              "    .dataframe thead th {\n",
              "        text-align: right;\n",
              "    }\n",
              "</style>\n",
              "<table border=\"1\" class=\"dataframe\">\n",
              "  <thead>\n",
              "    <tr style=\"text-align: right;\">\n",
              "      <th></th>\n",
              "      <th>review</th>\n",
              "    </tr>\n",
              "  </thead>\n",
              "  <tbody>\n",
              "    <tr>\n",
              "      <th>0</th>\n",
              "      <td>[4971, 962, 4684, 3053, 65, 2364, 487, 146, 22...</td>\n",
              "    </tr>\n",
              "    <tr>\n",
              "      <th>1</th>\n",
              "      <td>[340, 0, 1422, 5330, 1, 285, 1996, 894, 1164, ...</td>\n",
              "    </tr>\n",
              "    <tr>\n",
              "      <th>2</th>\n",
              "      <td>[28, 340, 74, 990, 198, 767, 4267, 424, 3443, ...</td>\n",
              "    </tr>\n",
              "    <tr>\n",
              "      <th>3</th>\n",
              "      <td>[1167, 0, 537, 2642, 3277, 352, 1717, 2881, 51...</td>\n",
              "    </tr>\n",
              "    <tr>\n",
              "      <th>4</th>\n",
              "      <td>[2281, 1388, 5133, 4954, 1149, 1717, 304, 507,...</td>\n",
              "    </tr>\n",
              "    <tr>\n",
              "      <th>...</th>\n",
              "      <td>...</td>\n",
              "    </tr>\n",
              "    <tr>\n",
              "      <th>4995</th>\n",
              "      <td>[1647, 2281, 5753, 66, 2364, 6062, 2118, 338, ...</td>\n",
              "    </tr>\n",
              "    <tr>\n",
              "      <th>4996</th>\n",
              "      <td>[3390, 4926, 228, 703, 3725, 1484, 452, 3390, ...</td>\n",
              "    </tr>\n",
              "    <tr>\n",
              "      <th>4997</th>\n",
              "      <td>[561, 2100, 1717, 2550, 2281, 2281, 2430, 2872...</td>\n",
              "    </tr>\n",
              "    <tr>\n",
              "      <th>4998</th>\n",
              "      <td>[4742, 1717, 1451, 162, 763, 2418, 5, 792, 528...</td>\n",
              "    </tr>\n",
              "    <tr>\n",
              "      <th>4999</th>\n",
              "      <td>[136, 5851, 7, 3119, 310, 736, 373, 1717, 5774...</td>\n",
              "    </tr>\n",
              "  </tbody>\n",
              "</table>\n",
              "<p>5000 rows × 1 columns</p>\n",
              "</div><br><label><b>dtype:</b> object</label>"
            ],
            "text/plain": [
              "0       [4971, 962, 4684, 3053, 65, 2364, 487, 146, 22...\n",
              "1       [340, 0, 1422, 5330, 1, 285, 1996, 894, 1164, ...\n",
              "2       [28, 340, 74, 990, 198, 767, 4267, 424, 3443, ...\n",
              "3       [1167, 0, 537, 2642, 3277, 352, 1717, 2881, 51...\n",
              "4       [2281, 1388, 5133, 4954, 1149, 1717, 304, 507,...\n",
              "                              ...                        \n",
              "4995    [1647, 2281, 5753, 66, 2364, 6062, 2118, 338, ...\n",
              "4996    [3390, 4926, 228, 703, 3725, 1484, 452, 3390, ...\n",
              "4997    [561, 2100, 1717, 2550, 2281, 2281, 2430, 2872...\n",
              "4998    [4742, 1717, 1451, 162, 763, 2418, 5, 792, 528...\n",
              "4999    [136, 5851, 7, 3119, 310, 736, 373, 1717, 5774...\n",
              "Name: review, Length: 5000, dtype: object"
            ]
          },
          "execution_count": 44,
          "metadata": {},
          "output_type": "execute_result"
        }
      ],
      "source": [
        "def _tokenize(s):\n",
        "    # TODO: Use the previous dictionary to tokenize the input string (≈1 line)\n",
        "    pass\n",
        "\n",
        "# TODO: Tokenize the reviews (≈1 line)\n",
        "\n",
        "X"
      ]
    },
    {
      "cell_type": "markdown",
      "metadata": {
        "id": "rgiWvpbxx1Ud"
      },
      "source": [
        "Pad the sentences to a fixed size $512$. If they are longer, truncate them."
      ]
    },
    {
      "cell_type": "code",
      "execution_count": null,
      "metadata": {
        "id": "N1vTjCRcdzSm"
      },
      "outputs": [],
      "source": [
        "def padding_(sentences, seq_len):\n",
        "    # TODO: Implement the padding function (≈5 lines)\n",
        "    pass\n",
        "\n",
        "X = padding_(X.values, 512)"
      ]
    },
    {
      "cell_type": "code",
      "execution_count": null,
      "metadata": {
        "id": "P2qIoTR_dzSm"
      },
      "outputs": [],
      "source": [
        "# TODO: Define the labels y (≈1 line)\n",
        "\n",
        "assert X.shape == (5000, 512) and y.shape == (5000,)"
      ]
    },
    {
      "cell_type": "markdown",
      "metadata": {
        "id": "TqxCkTvxx1Ue"
      },
      "source": [
        "Use `reduced_embeddings` from the previous section to make the input in shape $N \\times L \\times D$, where $N=5000$ is the number of the rows, $L=512$ is the sequence length for each review, and $D=64$ is the dimension of embeddings after SVD."
      ]
    },
    {
      "cell_type": "code",
      "execution_count": null,
      "metadata": {
        "colab": {
          "base_uri": "https://localhost:8080/"
        },
        "id": "Kf20mRH5dzSm",
        "outputId": "9086ee72-5dda-425f-ff32-c9e6ffe1f851"
      },
      "outputs": [
        {
          "name": "stdout",
          "output_type": "stream",
          "text": [
            "Shape of X: (5000, 512, 64)\n"
          ]
        }
      ],
      "source": [
        "# TODO: Use the previous embeddings to create the embedding matrix (≈1 line)\n",
        "\n",
        "print(f'Shape of X: {X.shape}')"
      ]
    },
    {
      "cell_type": "markdown",
      "metadata": {
        "id": "qktkhaaEx1Ue"
      },
      "source": [
        "In this part split the dataset into train and validation sets. Use [DataLoader](https://pytorch.org/tutorials/beginner/basics/data_tutorial.html) to create batches of the input data."
      ]
    },
    {
      "cell_type": "code",
      "execution_count": null,
      "metadata": {
        "colab": {
          "base_uri": "https://localhost:8080/"
        },
        "id": "W9EfUqSmdzSm",
        "outputId": "9f8023bd-2737-42e2-c6a2-c23cbe2a8f7e"
      },
      "outputs": [],
      "source": [
        "X_train, X_val, y_train, y_val = train_test_split(X, y, test_size=0.2, random_state=42)\n",
        "print(f\"Train size: {len(X_train)} | Validation size: {len(X_val)}\")"
      ]
    },
    {
      "cell_type": "code",
      "execution_count": null,
      "metadata": {
        "colab": {
          "base_uri": "https://localhost:8080/"
        },
        "id": "2yAMIjqedzSm",
        "outputId": "23381e3b-2705-4a0b-a9a4-b9b3e59e29e4"
      },
      "outputs": [],
      "source": [
        "# TODO: Create Tensor datasets (≈2 lines)\n",
        "\n",
        "batch_size = 50\n",
        "\n",
        "# TODO: Define the DataLoaders (≈2 lines)\n",
        "\n",
        "print(f\"Number of training batches: {len(train_loader)}\")\n",
        "print(f\"Number of validation batches: {len(valid_loader)}\")"
      ]
    },
    {
      "cell_type": "markdown",
      "metadata": {
        "id": "gHnMAW13x1Uf"
      },
      "source": [
        "The bellow cell is to get familiar with dataloaders."
      ]
    },
    {
      "cell_type": "code",
      "execution_count": null,
      "metadata": {
        "colab": {
          "base_uri": "https://localhost:8080/"
        },
        "id": "VOrcEzTsdzSm",
        "outputId": "a80e39b8-681e-4cba-e6fa-b8790331b2d0"
      },
      "outputs": [],
      "source": [
        "dataiter = iter(train_loader)\n",
        "sample_x, sample_y = next(dataiter)\n",
        "\n",
        "print('Sample input x shape:', sample_x.shape)\n",
        "print('Sample input y shape:', sample_y.shape)"
      ]
    },
    {
      "cell_type": "markdown",
      "metadata": {
        "id": "WXhNZ5_ux1Uf"
      },
      "source": [
        "You may need GPU for faster training."
      ]
    },
    {
      "cell_type": "code",
      "execution_count": null,
      "metadata": {
        "colab": {
          "base_uri": "https://localhost:8080/"
        },
        "id": "pN5uHZY2x1Uf",
        "outputId": "91580028-590f-40e3-cb6f-2cde32a410a1"
      },
      "outputs": [
        {
          "data": {
            "text/plain": [
              "device(type='cuda')"
            ]
          },
          "execution_count": 53,
          "metadata": {},
          "output_type": "execute_result"
        }
      ],
      "source": [
        "device = torch.device(\"cuda\" if torch.cuda.is_available() else \"cpu\")\n",
        "device"
      ]
    },
    {
      "cell_type": "markdown",
      "metadata": {
        "id": "9sphPpefx1Uf"
      },
      "source": [
        "### 4.2- Model\n",
        "\n",
        "In this part, you are supposed to implement key components of a recurrent neural network (RNN) for sentiment analysis using **PyTorch**. Initialize the [LSTM](https://pytorch.org/docs/stable/generated/torch.nn.LSTM.html) using `nn` in torch, and a fully connected layer.\n",
        "\n",
        "You just need to implement the forward pass of the model. PyTorch will calculate the gradients automatically (we will see how) and do backpropagation for us, which makes dealing with complex models super easier.\n",
        "\n",
        "LSTM has two hiddens, for simplicity initialize them to zero vectors."
      ]
    },
    {
      "cell_type": "code",
      "execution_count": null,
      "metadata": {
        "id": "WkfWZkb3dzSm"
      },
      "outputs": [],
      "source": [
        "class SentimentRNN(nn.Module):\n",
        "    def __init__(self, n_layers, hidden_dim, embedding_dim):\n",
        "        super(SentimentRNN,self).__init__()\n",
        "        # TODO: Define the model layers (≈5 lines)\n",
        "\n",
        "    def forward(self, x, hidden):\n",
        "        \"\"\"\n",
        "        Feed x to lstm, then pass the output to the fully connected layer, followed by sigmoid.\n",
        "        Use the last output of the sequence for classification\n",
        "\n",
        "        x.shape = (batch_size, sequence_length, embedding_dim)\n",
        "\n",
        "        Returns\n",
        "        ---\n",
        "        sig_out: Sigmoid output\n",
        "        hidden: The updated hidden state\n",
        "        \"\"\"\n",
        "        # TODO: Implement the forward pass (≈8 lines)\n",
        "        pass\n",
        "\n",
        "    def init_hidden(self, batch_size, device):\n",
        "        ''' Initializes hidden state '''\n",
        "        # TODO: Create two new tensors with sizes n_layers x batch_size x hidden_dim,\n",
        "        # initialized to zero, for hidden state and cell state of LSTM (≈2 lines)\n",
        "\n",
        "        hidden = (h0, c0)\n",
        "        return hidden"
      ]
    },
    {
      "cell_type": "code",
      "execution_count": null,
      "metadata": {
        "colab": {
          "base_uri": "https://localhost:8080/"
        },
        "id": "dFPWCccpdzSm",
        "outputId": "523d0b3a-f6c1-4655-f713-8e97860a49e8"
      },
      "outputs": [
        {
          "data": {
            "text/plain": [
              "SentimentRNN(\n",
              "  (lstm): LSTM(64, 128, num_layers=3, batch_first=True)\n",
              "  (fc): Linear(in_features=128, out_features=1, bias=True)\n",
              "  (sig): Sigmoid()\n",
              ")"
            ]
          },
          "execution_count": 75,
          "metadata": {},
          "output_type": "execute_result"
        }
      ],
      "source": [
        "n_layers = 3\n",
        "embedding_dim = 64\n",
        "hidden_dim = 128\n",
        "\n",
        "model = SentimentRNN(n_layers, hidden_dim, embedding_dim)\n",
        "model.to(device)"
      ]
    },
    {
      "cell_type": "code",
      "execution_count": null,
      "metadata": {
        "colab": {
          "base_uri": "https://localhost:8080/"
        },
        "id": "tiAYN4zDx1Ug",
        "outputId": "4e230986-5605-4b86-ad46-e8800ebe17d5"
      },
      "outputs": [
        {
          "name": "stdout",
          "output_type": "stream",
          "text": [
            "Output shape: torch.Size([50])\n"
          ]
        }
      ],
      "source": [
        "example_input = torch.randn(50, 512, 64, device=device)\n",
        "hidden = model.init_hidden(50, device)\n",
        "output, hidden = model(example_input, hidden)\n",
        "print(f\"Output shape: {output.shape}\")"
      ]
    },
    {
      "cell_type": "markdown",
      "metadata": {
        "id": "d4yB-hgTx1Ug"
      },
      "source": [
        "### 4.3- Train\n",
        "\n",
        "Use [BCE](https://pytorch.org/docs/stable/generated/torch.nn.BCELoss.html) for loss function. [Adam](https://pytorch.org/docs/stable/generated/torch.optim.Adam.html) is another optimizer that similar to Gradient Descent, its main idea is taking step on the opposite side of the gradients. We will need `acc` function to evaluate our model on unseen data."
      ]
    },
    {
      "cell_type": "code",
      "execution_count": null,
      "metadata": {
        "id": "GLNgLJpddzSm"
      },
      "outputs": [],
      "source": [
        "lr = 0.0003\n",
        "# TODO: Define the loss function and the optimizer (≈2 lines)\n",
        "\n",
        "def acc(pred: torch.Tensor, label: torch.Tensor) -> int:\n",
        "    # TODO: Calculate the accuracy of the model (≈2 line)\n",
        "    pass"
      ]
    },
    {
      "cell_type": "markdown",
      "metadata": {
        "id": "i-tQdUjLx1Ug"
      },
      "source": [
        "This [blog](https://pytorch.org/blog/overview-of-pytorch-autograd-engine/) explains how PyTorch computes gradients. Basically, the main core of it is using chain rule. It stores all the basic derivatives in [derivatives](https://github.com/pytorch/pytorch/blob/a0a7a2d648f05b0192e6943c9684406cdf404fbf/tools/autograd/derivatives.yaml#L635-L636), then for every possible function, PyTorch breaks them down to basic functions which the derivatives are known.\n",
        "\n",
        "We now train our model using this powerful library. See [this](https://pytorch.org/tutorials/beginner/basics/optimization_tutorial.html) if you need more information about how optimization works in PyTorch. We use gradient clipping, whihc might be helpful for RNNs."
      ]
    },
    {
      "cell_type": "code",
      "execution_count": null,
      "metadata": {
        "colab": {
          "base_uri": "https://localhost:8080/"
        },
        "id": "abfddW4qdzSm",
        "outputId": "efa284f6-1284-4db3-feb0-08e65634d629"
      },
      "outputs": [],
      "source": [
        "clip = 5\n",
        "epochs = 10\n",
        "valid_loss_min = np.Inf\n",
        "\n",
        "epoch_tr_loss, epoch_vl_loss = [], []\n",
        "epoch_tr_acc, epoch_vl_acc = [], []\n",
        "\n",
        "prev_loss = np.Inf\n",
        "for epoch in range(epochs):\n",
        "    train_losses = []\n",
        "    train_acc = 0.0\n",
        "    model.train()\n",
        "    # initialize hidden state\n",
        "    h = model.init_hidden(batch_size, device)\n",
        "    for inputs, labels in tqdm(train_loader, total=len(train_loader)):\n",
        "        inputs, labels = inputs.to(device), labels.to(device)\n",
        "        # Creating new variables for the hidden state, otherwise\n",
        "        # we'd backprop through the entire training history\n",
        "        h = tuple([each.data for each in h])\n",
        "        # TODO: compute gradients and append the results (≈7 lines)\n",
        "\n",
        "        #`clip_grad_norm` helps prevent the exploding gradient problem in RNNs / LSTMs.\n",
        "        nn.utils.clip_grad_norm_(model.parameters(), clip)\n",
        "        optimizer.step()\n",
        "\n",
        "    val_h = model.init_hidden(batch_size, device)\n",
        "    val_losses = []\n",
        "    val_acc = 0.0\n",
        "    model.eval()\n",
        "    with torch.no_grad():\n",
        "        for inputs, labels in valid_loader:\n",
        "            inputs, labels = inputs.to(device), labels.to(device)\n",
        "            # TODO: compute the validation loss and accuracy (≈6 lines)\n",
        "\n",
        "    epoch_train_loss = np.mean(train_losses)\n",
        "    epoch_val_loss = np.mean(val_losses)\n",
        "    epoch_train_acc = train_acc/len(train_loader.dataset)\n",
        "    epoch_val_acc = val_acc/len(valid_loader.dataset)\n",
        "    # TODO: Append the results to the lists (≈4 lines)\n",
        "\n",
        "    if epoch_train_loss > prev_loss + 1e-3 and lr > 0.00001:\n",
        "        lr *= 0.8\n",
        "        for param_group in optimizer.param_groups:\n",
        "            param_group['lr'] = lr\n",
        "    prev_loss = epoch_train_loss\n",
        "    print(f'Epoch {epoch+1}')\n",
        "    print(f'train_loss : {epoch_train_loss:.4f} val_loss : {epoch_val_loss:.4f}')\n",
        "    print(f'train_accuracy : {epoch_train_acc*100:.1f} val_accuracy : {epoch_val_acc*100:.1f}')\n",
        "    if epoch_val_loss <= valid_loss_min:\n",
        "        torch.save(model.state_dict(), 'state_dict.pt')\n",
        "        print('Validation loss decreased ({:.6f} --> {:.6f}).  Saving model ...'.format(valid_loss_min,epoch_val_loss))\n",
        "        valid_loss_min = epoch_val_loss\n",
        "    print(25*'==')"
      ]
    },
    {
      "cell_type": "code",
      "execution_count": null,
      "metadata": {
        "colab": {
          "base_uri": "https://localhost:8080/",
          "height": 533
        },
        "id": "BgxYhVifx1Ug",
        "outputId": "794477d5-7c76-42f2-f507-610945602cd4"
      },
      "outputs": [],
      "source": [
        "fig, (ax1, ax2) = plt.subplots(2, 1, figsize=(12, 10))\n",
        "ax1.plot(epoch_tr_loss, label='Training Loss')\n",
        "ax1.plot(epoch_vl_loss, label='Validation Loss')\n",
        "ax1.legend()\n",
        "ax2.plot(epoch_tr_acc, label='Training Accuracy')\n",
        "ax2.plot(epoch_vl_acc, label='Validation Accuracy')\n",
        "ax2.legend()\n",
        "\n",
        "plt.show()"
      ]
    }
  ],
  "metadata": {
    "colab": {
      "provenance": []
    },
    "kernelspec": {
      "display_name": "Python 3",
      "name": "python3"
    },
    "language_info": {
      "codemirror_mode": {
        "name": "ipython",
        "version": 3
      },
      "file_extension": ".py",
      "mimetype": "text/x-python",
      "name": "python",
      "nbconvert_exporter": "python",
      "pygments_lexer": "ipython3",
      "version": "3.11.4"
    }
  },
  "nbformat": 4,
  "nbformat_minor": 0
}
