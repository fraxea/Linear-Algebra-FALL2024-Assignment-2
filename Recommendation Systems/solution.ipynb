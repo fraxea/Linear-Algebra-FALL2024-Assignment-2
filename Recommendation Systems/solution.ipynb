{
  "cells": [
    {
      "cell_type": "markdown",
      "metadata": {
        "id": "iCI2tt-7DiUO"
      },
      "source": [
        "# Recommendation Systems\n",
        "\n",
        "A recommendation system is an algorithm designed to suggest items to users. By the growth of data, it could be done based on the past favorite items, similarities to other users, or other behaviors. One application of recommendation systems is in e-commerce ,where the items here are products.\n",
        "\n",
        "In this notebook, we use this algorithm for [MovieLens](https://movielens.org) dataset. We have a list of ratings (integer from $1$ to $5$) from some users to some movies. Our goal is to recommend movies to users such that they will find them helpful."
      ]
    },
    {
      "cell_type": "markdown",
      "metadata": {
        "id": "fDJvb6WdDiUS"
      },
      "source": [
        "## Table of Contents\n",
        "\n",
        "- 1- Content Filtering and Collaborative Filtering\n",
        "- 2- SVD for Collaborative Filtering\n",
        "  - 2.1- Load data\n",
        "  - 2.2- Preprocess data\n",
        "  - 2.3- SVD model\n",
        "  - 2.4- Train\n",
        "  - 2.5- Recommend"
      ]
    },
    {
      "cell_type": "markdown",
      "metadata": {
        "id": "UMREuiOnDiUT"
      },
      "source": [
        "## 1- Content Filtering and Collaborative Filtering\n",
        "\n",
        "There are many approaches for recommender systems.\n",
        "\n",
        "**Content Filtering** is based on the features of items and the user’s past interactions. A user who watches romantic movies may like other romantic movies.\n",
        "\n",
        "**Collaborative Filtering** is based on the behavior of other users. If two users watched many movies similarly, a movie liked by one user, probably the other user also like it.\n",
        "\n",
        "## 2- SVD for Collaborative Filtering\n",
        "\n",
        "In this notebook, we use collaborative filtering.\n",
        "\n",
        "First, let's import needed libraries.\n",
        "\n",
        "- [numpy](https://numpy.org): The fundamental package for scientific computing with Python.\n",
        "- [pandas](https://pandas.pydata.org): Easy to use data analysis and manipulation tool.\n",
        "- [matplotlib](https://matplotlib.org): For creating visualizations in Python.\n",
        "- [sklearn](https://scikit-learn.org/stable/): We just use its split method.\n",
        "- [tqdm](https://tqdm.github.io): Make loops show a smart progress meter."
      ]
    },
    {
      "cell_type": "code",
      "execution_count": 1,
      "metadata": {
        "id": "erDi6i7jsFll"
      },
      "outputs": [],
      "source": [
        "import numpy as np\n",
        "import pandas as pd\n",
        "import matplotlib.pyplot as plt\n",
        "from sklearn.model_selection import train_test_split\n",
        "from tqdm import trange"
      ]
    },
    {
      "cell_type": "markdown",
      "metadata": {},
      "source": [
        "### 2.1- Load data\n",
        "\n",
        "Now, we load the ratings in a pandas DataFrame. There are $3$ columns that we will deal with: `userId`, `movieId`, and `rating`. In each row, a user rates a movie. Remove `timestamp` column. Find the total number of rows available. Show the first $5$ rows."
      ]
    },
    {
      "cell_type": "code",
      "execution_count": 2,
      "metadata": {
        "colab": {
          "base_uri": "https://localhost:8080/",
          "height": 204
        },
        "id": "PSwKCCfTsFlr",
        "outputId": "be3cc8a3-be62-426e-fc65-b3970b52ab2d"
      },
      "outputs": [
        {
          "name": "stdout",
          "output_type": "stream",
          "text": [
            "There are 100836 ratings.\n"
          ]
        },
        {
          "data": {
            "text/html": [
              "<div>\n",
              "<style scoped>\n",
              "    .dataframe tbody tr th:only-of-type {\n",
              "        vertical-align: middle;\n",
              "    }\n",
              "\n",
              "    .dataframe tbody tr th {\n",
              "        vertical-align: top;\n",
              "    }\n",
              "\n",
              "    .dataframe thead th {\n",
              "        text-align: right;\n",
              "    }\n",
              "</style>\n",
              "<table border=\"1\" class=\"dataframe\">\n",
              "  <thead>\n",
              "    <tr style=\"text-align: right;\">\n",
              "      <th></th>\n",
              "      <th>userId</th>\n",
              "      <th>movieId</th>\n",
              "      <th>rating</th>\n",
              "    </tr>\n",
              "  </thead>\n",
              "  <tbody>\n",
              "    <tr>\n",
              "      <th>0</th>\n",
              "      <td>1</td>\n",
              "      <td>1</td>\n",
              "      <td>4.0</td>\n",
              "    </tr>\n",
              "    <tr>\n",
              "      <th>1</th>\n",
              "      <td>1</td>\n",
              "      <td>3</td>\n",
              "      <td>4.0</td>\n",
              "    </tr>\n",
              "    <tr>\n",
              "      <th>2</th>\n",
              "      <td>1</td>\n",
              "      <td>6</td>\n",
              "      <td>4.0</td>\n",
              "    </tr>\n",
              "    <tr>\n",
              "      <th>3</th>\n",
              "      <td>1</td>\n",
              "      <td>47</td>\n",
              "      <td>5.0</td>\n",
              "    </tr>\n",
              "    <tr>\n",
              "      <th>4</th>\n",
              "      <td>1</td>\n",
              "      <td>50</td>\n",
              "      <td>5.0</td>\n",
              "    </tr>\n",
              "  </tbody>\n",
              "</table>\n",
              "</div>"
            ],
            "text/plain": [
              "   userId  movieId  rating\n",
              "0       1        1     4.0\n",
              "1       1        3     4.0\n",
              "2       1        6     4.0\n",
              "3       1       47     5.0\n",
              "4       1       50     5.0"
            ]
          },
          "execution_count": 2,
          "metadata": {},
          "output_type": "execute_result"
        }
      ],
      "source": [
        "path = 'ml-latest-small/ratings.csv'\n",
        "df = pd.read_csv(path).drop('timestamp', axis=1)\n",
        "print(f'There are {len(df)} ratings.')\n",
        "df.head()"
      ]
    },
    {
      "cell_type": "markdown",
      "metadata": {},
      "source": [
        "### 2.2- Preprocess data\n",
        "\n",
        "It is necessary that user ids be in $\\{0, 1, ..., N-1\\}$, and item ids in $\\{0, 1, ..., M-1\\}$, while there are $N$ unique users and $M$ unique ids. Find $N, M$ and preprocess ids."
      ]
    },
    {
      "cell_type": "code",
      "execution_count": 3,
      "metadata": {
        "colab": {
          "base_uri": "https://localhost:8080/"
        },
        "id": "VL-2HyHLsFlr",
        "outputId": "648b8352-53ad-4027-dd44-1040679d3dce"
      },
      "outputs": [
        {
          "name": "stdout",
          "output_type": "stream",
          "text": [
            "There are 610 unique users and 9724 unique items\n"
          ]
        }
      ],
      "source": [
        "user_ids = df['userId'].unique()\n",
        "item_ids = df['movieId'].unique()\n",
        "\n",
        "user_map = {user: idx for idx, user in enumerate(user_ids)}\n",
        "item_map = {item: idx for idx, item in enumerate(item_ids)}\n",
        "\n",
        "df['userId'] = df['userId'].map(user_map)\n",
        "df['movieId'] = df['movieId'].map(item_map)\n",
        "\n",
        "N, M = len(user_ids), len(item_ids)\n",
        "print(f'There are {N} unique users and {M} unique items')"
      ]
    },
    {
      "cell_type": "markdown",
      "metadata": {},
      "source": [
        "We keep $20\\%$ of ratings for validation to see our algorithm's performance on unseen data. Find the number of training and validation examples."
      ]
    },
    {
      "cell_type": "code",
      "execution_count": 4,
      "metadata": {},
      "outputs": [
        {
          "name": "stdout",
          "output_type": "stream",
          "text": [
            "Train size=80668, Validation size=20168\n"
          ]
        }
      ],
      "source": [
        "random_state = 42\n",
        "df_train, df_val = train_test_split(df, test_size=0.2, random_state=random_state)\n",
        "df_train = df_train.reset_index(drop=True)\n",
        "df_val = df_val.reset_index(drop=True)\n",
        "print(f'Train size={len(df_train)}, Validation size={len(df_val)}')"
      ]
    },
    {
      "cell_type": "markdown",
      "metadata": {},
      "source": [
        "### 2.3- SVD model\n",
        "\n",
        "In terms of matrices, we have the rating matrix $R \\in \\mathbb{R}^{N\\times M}$. The $i$-th row of this matrix is the $i$-th user ratings for every movie. The challenge is that, we don't have some of the entries of $R$. We want to find some valuable features based on the available ratings to find the missing entries.\n",
        "\n",
        "Think of the SVD for $R=U\\Sigma V^T$ as user-feature matrix $U$, feature importance $\\Sigma$, and item-feature matrix $V^T$. By selecting the top $k$ features, we reduce the dimensionality and capture latent factors representing user and item features. But we will solve this problem in a different manner.\n",
        "\n",
        "We represent the predicted rating of the user $u$ to the item $i$ as $\\hat{r}_{ui}$, the dot product of $p_u, q_i \\in \\mathbb{R}^{k}$. According to the [Low-rank approximation](https://en.wikipedia.org/wiki/Low-rank_approximation), the best performance we can achieve by this setting is equal to SVD. We add user $b_u$ and item $c_i$ bias for more flexibility.\n",
        "$$\n",
        "\\hat{r}_{ui} = p_u^Tq_i + b_u + c_i\n",
        "$$\n",
        "The objective is to minimize the below loss function:\n",
        "$$\n",
        "\\mathcal{L} = \\sum_{u, i} \\big[ (r_{ui} - \\hat{r}_{ui})^2 + \\lambda (b_u^2 + c_i^2 + ||p_u||^2 + ||q_i||^2) \\big]\n",
        "$$\n",
        "where $\\lambda$ is the regularization parameter and $||.||$ is the $l$-2 norm."
      ]
    },
    {
      "cell_type": "markdown",
      "metadata": {},
      "source": [
        "Store the above parameters in a class and implement `forward` and `backward` methods. You should use `np.random.randn` for parameter initialization."
      ]
    },
    {
      "cell_type": "code",
      "execution_count": 5,
      "metadata": {},
      "outputs": [],
      "source": [
        "class CollaborativeFiltering:\n",
        "    def __init__(self, N, M, k, lr, _lambda):\n",
        "        self.P = np.random.randn(N, k)\n",
        "        self.Q = np.random.randn(M, k)\n",
        "        self.b = np.random.randn(N)\n",
        "        self.c = np.random.randn(M)\n",
        "        self.lr = lr\n",
        "        self._lambda = _lambda\n",
        "\n",
        "    def forward(self, u, i):\n",
        "        return np.dot(self.P[u], self.Q[i]) + self.b[u] + self.c[i]\n",
        "\n",
        "    def backward(self, u, i, r):\n",
        "        e = self.forward(u, i) - r\n",
        "        self.b[u] -= self.lr * (e + self._lambda * self.b[u])\n",
        "        self.c[i] -= self.lr * (e + self._lambda * self.c[i])\n",
        "\n",
        "        self.P[u] -= self.lr * (e * self.Q[i] + self._lambda * self.P[u])\n",
        "        self.Q[i] -= self.lr * (e * self.P[u] + self._lambda * self.Q[i])\n",
        "\n",
        "k = 20\n",
        "lr = 0.005\n",
        "_lambda = 0.02\n",
        "model = CollaborativeFiltering(N, M, k, lr, _lambda)"
      ]
    },
    {
      "cell_type": "markdown",
      "metadata": {},
      "source": [
        "### 2.4- Train\n",
        "\n",
        "Use Stochastic Gradient Descent to update the parameters of the model.\n",
        "\n",
        "Evaluate your model with RMSE on validation set:\n",
        "$$\n",
        "\\text{RMSE} = \\sqrt{\\frac{1}{n} \\sum_{j=1}^n (r - \\hat{r})^2}\n",
        "$$\n",
        "where $n$ is the number of examples in validation set."
      ]
    },
    {
      "cell_type": "code",
      "execution_count": 6,
      "metadata": {
        "id": "ABMURiNFsFlt"
      },
      "outputs": [],
      "source": [
        "def train(model: CollaborativeFiltering, df_train: pd.DataFrame):\n",
        "    for _, u, i, r in df_train.itertuples():\n",
        "        model.backward(u, i, r)\n",
        "\n",
        "def evaluate(model: CollaborativeFiltering, df_val: pd.DataFrame):\n",
        "    y_true = []\n",
        "    y_pred = []\n",
        "    for _, u, i, r in df_val.itertuples():\n",
        "        r_hat = model.forward(u, i)\n",
        "        y_true.append(r)\n",
        "        y_pred.append(r_hat)\n",
        "\n",
        "    y_true = np.array(y_true)\n",
        "    y_pred = np.array(y_pred)\n",
        "    rmse = np.sqrt(np.mean((y_true - y_pred) ** 2))\n",
        "    return rmse\n",
        "\n",
        "def plot(y):\n",
        "    plt.plot(range(1, len(y)+1), y)\n",
        "    plt.xlabel('Epoch')\n",
        "    plt.ylabel('RMSE')\n",
        "    plt.title('Collaborative Filtering with SVD')\n",
        "    plt.show()"
      ]
    },
    {
      "cell_type": "markdown",
      "metadata": {},
      "source": [
        "Each epoch should be done in about one second. The final RSME should be about $1.3$."
      ]
    },
    {
      "cell_type": "code",
      "execution_count": 7,
      "metadata": {
        "colab": {
          "base_uri": "https://localhost:8080/",
          "height": 723
        },
        "id": "xNGUSIzlDiUZ",
        "outputId": "90363db6-b6d0-4a56-e3d5-20310885409c"
      },
      "outputs": [
        {
          "name": "stderr",
          "output_type": "stream",
          "text": [
            "Training: 100%|██████████| 30/30 [00:26<00:00,  1.14it/s]\n"
          ]
        },
        {
          "name": "stdout",
          "output_type": "stream",
          "text": [
            "Final RMSE: 1.3022\n"
          ]
        },
        {
          "data": {
            "image/png": "[encoded data removed]",
            "text/plain": [
              "<Figure size 640x480 with 1 Axes>"
            ]
          },
          "metadata": {},
          "output_type": "display_data"
        }
      ],
      "source": [
        "RMSEs = []\n",
        "num_epochs = 30\n",
        "\n",
        "for epoch in trange(num_epochs, desc='Training'):\n",
        "    train(model, df_train)\n",
        "    rmse = evaluate(model, df_val)\n",
        "    RMSEs.append(rmse)\n",
        "\n",
        "print(f'Final RMSE: {RMSEs[-1]:.4f}')\n",
        "plot(RMSEs)"
      ]
    },
    {
      "cell_type": "markdown",
      "metadata": {},
      "source": [
        "### 2.5- Recommend\n",
        "\n",
        "The below cell will compare the unseen ratings with the predictions."
      ]
    },
    {
      "cell_type": "code",
      "execution_count": 8,
      "metadata": {
        "colab": {
          "base_uri": "https://localhost:8080/",
          "height": 173
        },
        "id": "naFPgWohsFlu",
        "outputId": "d09bc5c9-5995-438f-9a97-e0bf3a49462d"
      },
      "outputs": [
        {
          "data": {
            "text/html": [
              "<div>\n",
              "<style scoped>\n",
              "    .dataframe tbody tr th:only-of-type {\n",
              "        vertical-align: middle;\n",
              "    }\n",
              "\n",
              "    .dataframe tbody tr th {\n",
              "        vertical-align: top;\n",
              "    }\n",
              "\n",
              "    .dataframe thead th {\n",
              "        text-align: right;\n",
              "    }\n",
              "</style>\n",
              "<table border=\"1\" class=\"dataframe\">\n",
              "  <thead>\n",
              "    <tr style=\"text-align: right;\">\n",
              "      <th></th>\n",
              "      <th>Item Id</th>\n",
              "      <th>Real Rating</th>\n",
              "      <th>Pred Rating</th>\n",
              "    </tr>\n",
              "  </thead>\n",
              "  <tbody>\n",
              "    <tr>\n",
              "      <th>51</th>\n",
              "      <td>539</td>\n",
              "      <td>3.0</td>\n",
              "      <td>2.876285</td>\n",
              "    </tr>\n",
              "    <tr>\n",
              "      <th>622</th>\n",
              "      <td>355</td>\n",
              "      <td>4.0</td>\n",
              "      <td>4.400043</td>\n",
              "    </tr>\n",
              "    <tr>\n",
              "      <th>758</th>\n",
              "      <td>392</td>\n",
              "      <td>4.0</td>\n",
              "      <td>5.096680</td>\n",
              "    </tr>\n",
              "    <tr>\n",
              "      <th>1884</th>\n",
              "      <td>33</td>\n",
              "      <td>3.0</td>\n",
              "      <td>4.258089</td>\n",
              "    </tr>\n",
              "    <tr>\n",
              "      <th>1897</th>\n",
              "      <td>130</td>\n",
              "      <td>4.0</td>\n",
              "      <td>2.484797</td>\n",
              "    </tr>\n",
              "    <tr>\n",
              "      <th>2396</th>\n",
              "      <td>1583</td>\n",
              "      <td>5.0</td>\n",
              "      <td>5.017656</td>\n",
              "    </tr>\n",
              "    <tr>\n",
              "      <th>3188</th>\n",
              "      <td>730</td>\n",
              "      <td>4.0</td>\n",
              "      <td>2.037693</td>\n",
              "    </tr>\n",
              "    <tr>\n",
              "      <th>3775</th>\n",
              "      <td>173</td>\n",
              "      <td>3.0</td>\n",
              "      <td>1.303144</td>\n",
              "    </tr>\n",
              "    <tr>\n",
              "      <th>4264</th>\n",
              "      <td>100</td>\n",
              "      <td>4.0</td>\n",
              "      <td>4.855305</td>\n",
              "    </tr>\n",
              "    <tr>\n",
              "      <th>5632</th>\n",
              "      <td>271</td>\n",
              "      <td>4.0</td>\n",
              "      <td>2.677795</td>\n",
              "    </tr>\n",
              "    <tr>\n",
              "      <th>7179</th>\n",
              "      <td>65</td>\n",
              "      <td>5.0</td>\n",
              "      <td>4.143829</td>\n",
              "    </tr>\n",
              "    <tr>\n",
              "      <th>8887</th>\n",
              "      <td>385</td>\n",
              "      <td>4.0</td>\n",
              "      <td>2.871280</td>\n",
              "    </tr>\n",
              "    <tr>\n",
              "      <th>9429</th>\n",
              "      <td>108</td>\n",
              "      <td>2.0</td>\n",
              "      <td>3.653765</td>\n",
              "    </tr>\n",
              "    <tr>\n",
              "      <th>9453</th>\n",
              "      <td>463</td>\n",
              "      <td>4.0</td>\n",
              "      <td>4.163961</td>\n",
              "    </tr>\n",
              "    <tr>\n",
              "      <th>10232</th>\n",
              "      <td>604</td>\n",
              "      <td>5.0</td>\n",
              "      <td>4.271288</td>\n",
              "    </tr>\n",
              "    <tr>\n",
              "      <th>12973</th>\n",
              "      <td>69</td>\n",
              "      <td>5.0</td>\n",
              "      <td>4.310946</td>\n",
              "    </tr>\n",
              "    <tr>\n",
              "      <th>13019</th>\n",
              "      <td>0</td>\n",
              "      <td>5.0</td>\n",
              "      <td>4.923296</td>\n",
              "    </tr>\n",
              "    <tr>\n",
              "      <th>13367</th>\n",
              "      <td>292</td>\n",
              "      <td>4.0</td>\n",
              "      <td>4.496786</td>\n",
              "    </tr>\n",
              "    <tr>\n",
              "      <th>14395</th>\n",
              "      <td>399</td>\n",
              "      <td>5.0</td>\n",
              "      <td>3.646037</td>\n",
              "    </tr>\n",
              "    <tr>\n",
              "      <th>14849</th>\n",
              "      <td>4175</td>\n",
              "      <td>3.0</td>\n",
              "      <td>2.634023</td>\n",
              "    </tr>\n",
              "    <tr>\n",
              "      <th>15103</th>\n",
              "      <td>66</td>\n",
              "      <td>4.0</td>\n",
              "      <td>3.364466</td>\n",
              "    </tr>\n",
              "    <tr>\n",
              "      <th>16699</th>\n",
              "      <td>74</td>\n",
              "      <td>4.0</td>\n",
              "      <td>1.986140</td>\n",
              "    </tr>\n",
              "    <tr>\n",
              "      <th>16885</th>\n",
              "      <td>500</td>\n",
              "      <td>1.0</td>\n",
              "      <td>4.851518</td>\n",
              "    </tr>\n",
              "    <tr>\n",
              "      <th>17090</th>\n",
              "      <td>180</td>\n",
              "      <td>5.0</td>\n",
              "      <td>4.087164</td>\n",
              "    </tr>\n",
              "    <tr>\n",
              "      <th>17533</th>\n",
              "      <td>1584</td>\n",
              "      <td>3.0</td>\n",
              "      <td>5.600250</td>\n",
              "    </tr>\n",
              "    <tr>\n",
              "      <th>18064</th>\n",
              "      <td>98</td>\n",
              "      <td>4.0</td>\n",
              "      <td>2.531685</td>\n",
              "    </tr>\n",
              "    <tr>\n",
              "      <th>18599</th>\n",
              "      <td>1640</td>\n",
              "      <td>3.0</td>\n",
              "      <td>2.826038</td>\n",
              "    </tr>\n",
              "    <tr>\n",
              "      <th>19068</th>\n",
              "      <td>1593</td>\n",
              "      <td>5.0</td>\n",
              "      <td>3.905161</td>\n",
              "    </tr>\n",
              "  </tbody>\n",
              "</table>\n",
              "</div>"
            ],
            "text/plain": [
              "       Item Id  Real Rating  Pred Rating\n",
              "51         539          3.0     2.876285\n",
              "622        355          4.0     4.400043\n",
              "758        392          4.0     5.096680\n",
              "1884        33          3.0     4.258089\n",
              "1897       130          4.0     2.484797\n",
              "2396      1583          5.0     5.017656\n",
              "3188       730          4.0     2.037693\n",
              "3775       173          3.0     1.303144\n",
              "4264       100          4.0     4.855305\n",
              "5632       271          4.0     2.677795\n",
              "7179        65          5.0     4.143829\n",
              "8887       385          4.0     2.871280\n",
              "9429       108          2.0     3.653765\n",
              "9453       463          4.0     4.163961\n",
              "10232      604          5.0     4.271288\n",
              "12973       69          5.0     4.310946\n",
              "13019        0          5.0     4.923296\n",
              "13367      292          4.0     4.496786\n",
              "14395      399          5.0     3.646037\n",
              "14849     4175          3.0     2.634023\n",
              "15103       66          4.0     3.364466\n",
              "16699       74          4.0     1.986140\n",
              "16885      500          1.0     4.851518\n",
              "17090      180          5.0     4.087164\n",
              "17533     1584          3.0     5.600250\n",
              "18064       98          4.0     2.531685\n",
              "18599     1640          3.0     2.826038\n",
              "19068     1593          5.0     3.905161"
            ]
          },
          "execution_count": 8,
          "metadata": {},
          "output_type": "execute_result"
        }
      ],
      "source": [
        "def get_candidate_items(user_id):\n",
        "    rows = df_val[df_val['userId'] == user_id]\n",
        "    return rows['movieId'], rows['rating']\n",
        "\n",
        "def recommend_for_user(model, user_id):\n",
        "    candidate_items, real_ratings = get_candidate_items(user_id)\n",
        "    pred_ratings = []\n",
        "    for i in candidate_items:\n",
        "        r_hat = model.forward(user_id, i)\n",
        "        pred_ratings.append(r_hat)\n",
        "    result = pd.DataFrame({\n",
        "        'Item Id': candidate_items,\n",
        "        'Real Rating': real_ratings,\n",
        "        'Pred Rating': pred_ratings\n",
        "    })\n",
        "    return result\n",
        "\n",
        "result = recommend_for_user(model, 200)\n",
        "result"
      ]
    },
    {
      "cell_type": "markdown",
      "metadata": {},
      "source": [
        "Good predictions! There are better techniques for collaborative filtering using neural networks. For more information see [this](https://www.nvidia.com/en-us/glossary/recommendation-system/) blog. As this blog said, recommender systems have very huge impact on the amount of sales for companies. I hope you find this notebook helpful. Thanks!"
      ]
    }
  ],
  "metadata": {
    "accelerator": "GPU",
    "colab": {
      "gpuType": "T4",
      "provenance": []
    },
    "kernelspec": {
      "display_name": "Python 3",
      "name": "python3"
    },
    "language_info": {
      "codemirror_mode": {
        "name": "ipython",
        "version": 3
      },
      "file_extension": ".py",
      "mimetype": "text/x-python",
      "name": "python",
      "nbconvert_exporter": "python",
      "pygments_lexer": "ipython3",
      "version": "3.11.4"
    }
  },
  "nbformat": 4,
  "nbformat_minor": 0
}
